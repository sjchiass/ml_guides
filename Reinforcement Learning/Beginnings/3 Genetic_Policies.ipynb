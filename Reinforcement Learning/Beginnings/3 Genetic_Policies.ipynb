{
 "cells": [
  {
   "cell_type": "code",
   "execution_count": 1,
   "metadata": {},
   "outputs": [],
   "source": [
    "from IPython.display import HTML\n",
    "\n",
    "import gym\n",
    "\n",
    "# Import local script\n",
    "import actors\n",
    "\n",
    "import numpy as np"
   ]
  },
  {
   "cell_type": "code",
   "execution_count": 2,
   "metadata": {},
   "outputs": [],
   "source": [
    "def trial_actor(actor, trials=100, limit=1000):\n",
    "    env = gym.make('CartPole-v0')\n",
    "\n",
    "    scores = []\n",
    "    for i in range(trials):\n",
    "        observation = env.reset()\n",
    "        score = 0\n",
    "        for t in range(limit):\n",
    "            action = actor.predict(observation)\n",
    "            observation, reward, done, info = env.step(action)\n",
    "            if done:\n",
    "                break\n",
    "            score += reward\n",
    "        scores.append(score)\n",
    "        \n",
    "    data_dict = {\n",
    "        \"actor\" : actor, \n",
    "        \"weights\" : actor.w, \n",
    "        \"minimum\" : min(scores), \n",
    "        \"maximum\" : max(scores), \n",
    "        \"mean\" : sum(scores)/len(scores)\n",
    "    }\n",
    "    \n",
    "    env.close()\n",
    "    \n",
    "    return data_dict"
   ]
  },
  {
   "cell_type": "markdown",
   "metadata": {},
   "source": [
    "## Simple actor"
   ]
  },
  {
   "cell_type": "code",
   "execution_count": 3,
   "metadata": {},
   "outputs": [
    {
     "name": "stdout",
     "output_type": "stream",
     "text": [
      "{'actor': <actors.SimpleActor object at 0x7fbf0fa1c4a8>, 'weights': array([ 0.02033437, -0.80453892, -0.36425672, -0.66378632,  0.90555347]), 'minimum': 33.0, 'maximum': 156.0, 'mean': 61.35}\n"
     ]
    },
    {
     "data": {
      "text/html": [
       "<img src='./genetic_simple_test.gif'>"
      ],
      "text/plain": [
       "<IPython.core.display.HTML object>"
      ]
     },
     "execution_count": 3,
     "metadata": {},
     "output_type": "execute_result"
    }
   ],
   "source": [
    "results = []\n",
    "\n",
    "for a in range(25):\n",
    "    results.append(trial_actor(actors.SimpleActor(None)))\n",
    "\n",
    "winner = sorted(results, key=lambda x: x[\"mean\"], reverse=True)[0]\n",
    "\n",
    "print(winner)\n",
    "\n",
    "HTML(f\"<img src='./{winner['actor'].render('genetic_simple_test.gif')}'>\")"
   ]
  },
  {
   "cell_type": "code",
   "execution_count": 4,
   "metadata": {},
   "outputs": [
    {
     "name": "stdout",
     "output_type": "stream",
     "text": [
      "Best mean score: 37.29\n",
      "Best mean score: 32.65\n",
      "Best mean score: 34.76\n",
      "Best mean score: 31.17\n",
      "Best mean score: 58.88\n",
      "Best mean score: 53.88\n",
      "Best mean score: 57.84\n",
      "Best mean score: 67.46\n",
      "Best mean score: 65.33\n",
      "Best mean score: 67.33\n",
      "Best mean score: 65.31\n",
      "Best mean score: 64.91\n",
      "Best mean score: 72.23\n",
      "Best mean score: 71.19\n",
      "Best mean score: 70.21\n",
      "Best mean score: 67.43\n",
      "Best mean score: 72.69\n",
      "Best mean score: 70.54\n",
      "Best mean score: 69.46\n",
      "Best mean score: 70.65\n",
      "Best mean score: 69.93\n",
      "Best mean score: 67.15\n",
      "Best mean score: 69.47\n",
      "Best mean score: 69.79\n",
      "Best mean score: 67.89\n"
     ]
    }
   ],
   "source": [
    "for rounds in range(25):\n",
    "    top_scores = sorted(results, key=lambda x: x[\"mean\"], reverse=True)\n",
    "    \n",
    "    survivors = top_scores[-5:]\n",
    "    \n",
    "    gene_pool = [i[\"weights\"] for i in top_scores]\n",
    "    genome_size = len(gene_pool[0])\n",
    "    \n",
    "    total_scores = sum([i[\"mean\"] for i in top_scores])\n",
    "    \n",
    "    children = []\n",
    "    for birth in range(20):\n",
    "        parents = np.random.choice(np.arange(len(gene_pool)), \n",
    "                         size=2, \n",
    "                         replace=False, \n",
    "                         p=[i[\"mean\"]/total_scores for i in top_scores])\n",
    "\n",
    "        mix = np.random.randint(0, high=2, size=genome_size)\n",
    "\n",
    "        child = []\n",
    "        for i in range(genome_size):\n",
    "            child.append(gene_pool[parents[mix[i]]][i])\n",
    "        \n",
    "        if np.random.random(1) > 0.95:\n",
    "            mutated_gene = int(np.random.randint(0, genome_size, 1))\n",
    "            child[mutated_gene] += float(np.random.uniform(-0.1, 0.1, 1))\n",
    "\n",
    "        children.append(child)    \n",
    "    \n",
    "    new_actors = [i[\"actor\"] for i in survivors]\n",
    "    \n",
    "    for child in children:\n",
    "        new_actors.append(actors.SimpleActor(child))\n",
    "\n",
    "    results = []\n",
    "\n",
    "    for actor in new_actors:\n",
    "        results.append(trial_actor(actor))\n",
    "\n",
    "    print(f\"Best mean score: {max([i['mean'] for i in results])}\")"
   ]
  },
  {
   "cell_type": "code",
   "execution_count": 5,
   "metadata": {},
   "outputs": [
    {
     "name": "stdout",
     "output_type": "stream",
     "text": [
      "{'actor': <actors.SimpleActor object at 0x7fbf0fa1ce80>, 'weights': [0.020334370048818995, -0.7315010196867933, -0.364256722047809, 0.22168651195691513, 0.18321013920684126], 'minimum': 30.0, 'maximum': 177.0, 'mean': 67.89}\n"
     ]
    },
    {
     "data": {
      "text/html": [
       "<img src='./model_simple.gif'>"
      ],
      "text/plain": [
       "<IPython.core.display.HTML object>"
      ]
     },
     "execution_count": 5,
     "metadata": {},
     "output_type": "execute_result"
    }
   ],
   "source": [
    "winner = sorted(results, key=lambda x: x[\"mean\"], reverse=True)[0]\n",
    "\n",
    "print(winner)\n",
    "\n",
    "HTML(f\"<img src='./{winner['actor'].render('model_simple.gif')}'>\")"
   ]
  },
  {
   "cell_type": "markdown",
   "metadata": {},
   "source": [
    "## Complex Actor"
   ]
  },
  {
   "cell_type": "code",
   "execution_count": 6,
   "metadata": {},
   "outputs": [
    {
     "name": "stdout",
     "output_type": "stream",
     "text": [
      "{'actor': <actors.ComplexActor object at 0x7fbf0492b860>, 'weights': array([ 0.05624499,  0.91669354, -0.60696225,  0.20122468,  0.54291869,\n",
      "        0.45154117,  0.81096258,  0.24194493,  0.03103505]), 'minimum': 31.0, 'maximum': 92.0, 'mean': 51.39}\n"
     ]
    },
    {
     "data": {
      "text/html": [
       "<img src='./genetic_complex_test.gif'>"
      ],
      "text/plain": [
       "<IPython.core.display.HTML object>"
      ]
     },
     "execution_count": 6,
     "metadata": {},
     "output_type": "execute_result"
    }
   ],
   "source": [
    "results = []\n",
    "\n",
    "for a in range(25):\n",
    "    results.append(trial_actor(actors.ComplexActor(None)))\n",
    "\n",
    "winner = sorted(results, key=lambda x: x[\"mean\"], reverse=True)[0]\n",
    "\n",
    "print(winner)\n",
    "\n",
    "HTML(f\"<img src='./{winner['actor'].render('genetic_complex_test.gif')}'>\")"
   ]
  },
  {
   "cell_type": "code",
   "execution_count": 7,
   "metadata": {},
   "outputs": [
    {
     "name": "stdout",
     "output_type": "stream",
     "text": [
      "Best mean score: 63.87\n",
      "Best mean score: 199.0\n",
      "Best mean score: 131.76\n",
      "Best mean score: 185.89\n",
      "Best mean score: 178.53\n",
      "Best mean score: 199.0\n",
      "Best mean score: 199.0\n",
      "Best mean score: 199.0\n",
      "Best mean score: 199.0\n",
      "Best mean score: 199.0\n",
      "Best mean score: 199.0\n",
      "Best mean score: 199.0\n",
      "Best mean score: 199.0\n",
      "Best mean score: 199.0\n",
      "Best mean score: 199.0\n",
      "Best mean score: 199.0\n",
      "Best mean score: 199.0\n",
      "Best mean score: 199.0\n",
      "Best mean score: 199.0\n",
      "Best mean score: 199.0\n",
      "Best mean score: 199.0\n",
      "Best mean score: 199.0\n",
      "Best mean score: 199.0\n",
      "Best mean score: 199.0\n",
      "Best mean score: 199.0\n"
     ]
    }
   ],
   "source": [
    "for rounds in range(25):\n",
    "    top_scores = sorted(results, key=lambda x: x[\"mean\"], reverse=True)\n",
    "    \n",
    "    survivors = top_scores[-5:]\n",
    "    \n",
    "    gene_pool = [i[\"weights\"] for i in top_scores]\n",
    "    genome_size = len(gene_pool[0])\n",
    "    \n",
    "    total_scores = sum([i[\"mean\"] for i in top_scores])\n",
    "    \n",
    "    children = []\n",
    "    for birth in range(20):\n",
    "        parents = np.random.choice(np.arange(len(gene_pool)), \n",
    "                         size=2, \n",
    "                         replace=False, \n",
    "                         p=[i[\"mean\"]/total_scores for i in top_scores])\n",
    "\n",
    "        mix = np.random.randint(0, high=2, size=genome_size)\n",
    "\n",
    "        child = []\n",
    "        for i in range(genome_size):\n",
    "            child.append(gene_pool[parents[mix[i]]][i])\n",
    "        \n",
    "        if np.random.random(1) > 0.95:\n",
    "            mutated_gene = int(np.random.randint(0, genome_size, 1))\n",
    "            child[mutated_gene] += float(np.random.uniform(-0.1, 0.1, 1))\n",
    "\n",
    "        children.append(child)    \n",
    "    \n",
    "    new_actors = [i[\"actor\"] for i in survivors]\n",
    "    \n",
    "    for child in children:\n",
    "        new_actors.append(actors.ComplexActor(child))\n",
    "\n",
    "    results = []\n",
    "\n",
    "    for actor in new_actors:\n",
    "        results.append(trial_actor(actor))\n",
    "\n",
    "    print(f\"Best mean score: {max([i['mean'] for i in results])}\")"
   ]
  },
  {
   "cell_type": "code",
   "execution_count": 8,
   "metadata": {},
   "outputs": [
    {
     "name": "stdout",
     "output_type": "stream",
     "text": [
      "{'actor': <actors.ComplexActor object at 0x7fbf2c089e10>, 'weights': [-0.030026029279145883, 0.3444529737511939, 0.2936193761352276, 0.9645224173868459, 0.8054054216719782, -0.3988432844848584, 0.31046046288422535, 0.24194492602911422, 0.10390274082494], 'minimum': 199.0, 'maximum': 199.0, 'mean': 199.0}\n"
     ]
    },
    {
     "data": {
      "text/html": [
       "<img src='./genetic_complex.gif'>"
      ],
      "text/plain": [
       "<IPython.core.display.HTML object>"
      ]
     },
     "execution_count": 8,
     "metadata": {},
     "output_type": "execute_result"
    }
   ],
   "source": [
    "winner = sorted(results, key=lambda x: x[\"mean\"], reverse=True)[0]\n",
    "\n",
    "print(winner)\n",
    "\n",
    "HTML(f\"<img src='./{winner['actor'].render('genetic_complex.gif')}'>\")"
   ]
  },
  {
   "cell_type": "code",
   "execution_count": null,
   "metadata": {},
   "outputs": [],
   "source": []
  }
 ],
 "metadata": {
  "kernelspec": {
   "display_name": "Python 3",
   "language": "python",
   "name": "python3"
  },
  "language_info": {
   "codemirror_mode": {
    "name": "ipython",
    "version": 3
   },
   "file_extension": ".py",
   "mimetype": "text/x-python",
   "name": "python",
   "nbconvert_exporter": "python",
   "pygments_lexer": "ipython3",
   "version": "3.6.5"
  }
 },
 "nbformat": 4,
 "nbformat_minor": 2
}
