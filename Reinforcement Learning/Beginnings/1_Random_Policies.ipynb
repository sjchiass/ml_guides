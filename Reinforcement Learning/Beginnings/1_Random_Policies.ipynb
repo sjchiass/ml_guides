{
 "cells": [
  {
   "cell_type": "code",
   "execution_count": 1,
   "metadata": {},
   "outputs": [],
   "source": [
    "from IPython.display import HTML\n",
    "\n",
    "import PIL.Image\n",
    "\n",
    "import numpy as np\n",
    "import gym\n",
    "\n",
    "# Import local script\n",
    "import actors"
   ]
  },
  {
   "cell_type": "markdown",
   "metadata": {},
   "source": [
    "## What is cartpole?\n",
    "\n",
    "https://github.com/openai/gym/wiki/CartPole-v0"
   ]
  },
  {
   "cell_type": "code",
   "execution_count": 2,
   "metadata": {},
   "outputs": [
    {
     "data": {
      "text/html": [
       "<img src=\"./random_actor.gif\">"
      ],
      "text/plain": [
       "<IPython.core.display.HTML object>"
      ]
     },
     "execution_count": 2,
     "metadata": {},
     "output_type": "execute_result"
    }
   ],
   "source": [
    "env = gym.make('CartPole-v0')\n",
    "\n",
    "# Random actor\n",
    "observation = env.reset()\n",
    "cum_reward = 0\n",
    "frames = []\n",
    "for t in range(1000):\n",
    "    # Render into buffer. \n",
    "    # You will still see the window.\n",
    "    frames.append(PIL.Image.fromarray(env.render(mode = 'rgb_array'), \"RGB\"))\n",
    "    action = env.action_space.sample()\n",
    "    observation, reward, done, info = env.step(action)\n",
    "    if done:\n",
    "        break\n",
    "env.close()\n",
    "\n",
    "# Save the GIF\n",
    "frames[0].save('random_actor.gif', format='GIF', append_images=frames[1:], save_all=True, duration=10, loop=0)\n",
    "\n",
    "# Display the GIF in Jupyter\n",
    "HTML('<img src=\"./random_actor.gif\">')"
   ]
  },
  {
   "cell_type": "markdown",
   "metadata": {},
   "source": []
  },
  {
   "cell_type": "code",
   "execution_count": 3,
   "metadata": {},
   "outputs": [
    {
     "data": {
      "text/plain": [
       "1"
      ]
     },
     "execution_count": 3,
     "metadata": {},
     "output_type": "execute_result"
    }
   ],
   "source": [
    "# Create a simple first-order model\n",
    "def simple_actor(w, x):\n",
    "    z = w[0] + w[1]*x[0] + w[2]*x[1]\n",
    "    a = 1 / (1 + np.exp(-z))\n",
    "    return int(round(a))\n",
    "\n",
    "random_weight = np.random.uniform(-1, 1, 3)\n",
    "random_inputs = np.random.rand(4)\n",
    "\n",
    "simple_actor(random_weight, random_inputs)"
   ]
  },
  {
   "cell_type": "code",
   "execution_count": 4,
   "metadata": {},
   "outputs": [
    {
     "data": {
      "text/plain": [
       "1"
      ]
     },
     "execution_count": 4,
     "metadata": {},
     "output_type": "execute_result"
    }
   ],
   "source": [
    "# Create a more complex second-order model\n",
    "def complex_actor(w, x):\n",
    "    # First-order part\n",
    "    z = w[0] + w[1]*x[0] + w[2]*x[1]\n",
    "    \n",
    "    # Interaction term\n",
    "    x += w[3]*x[0]*x[1]\n",
    "    \n",
    "    # Second-order part\n",
    "    z += w[4]*x[0]**2 + w[5]*x[1]**2\n",
    "    \n",
    "    a = 1 / (1 + np.exp(-z))\n",
    "    return int(round(a))\n",
    "\n",
    "random_weight = np.random.uniform(-1, 1, 6)\n",
    "random_inputs = np.random.rand(4)\n",
    "\n",
    "complex_actor(random_weight, random_inputs)"
   ]
  },
  {
   "cell_type": "markdown",
   "metadata": {},
   "source": [
    "## Trying the simple model randomly"
   ]
  },
  {
   "cell_type": "code",
   "execution_count": 5,
   "metadata": {},
   "outputs": [
    {
     "name": "stdout",
     "output_type": "stream",
     "text": [
      "[  1] Minimum  10.0 Maximum  20.0 Average  14.1\n",
      "[  2] Minimum  20.0 Maximum  95.0 Average  54.6\n",
      "[  3] Minimum   7.0 Maximum  10.0 Average   8.4\n",
      "[  4] Minimum   8.0 Maximum  13.0 Average  10.2\n",
      "[  5] Minimum  14.0 Maximum  47.0 Average  23.9\n",
      "[  6] Minimum  19.0 Maximum  94.0 Average  37.3\n",
      "[  7] Minimum   7.0 Maximum  10.0 Average   8.5\n",
      "[  8] Minimum   7.0 Maximum  10.0 Average   8.4\n",
      "[  9] Minimum   7.0 Maximum  10.0 Average   8.3\n",
      "[ 10] Minimum   7.0 Maximum  10.0 Average   8.4\n",
      "[ 11] Minimum  20.0 Maximum  60.0 Average  35.5\n",
      "[ 12] Minimum   7.0 Maximum  10.0 Average   8.4\n",
      "[ 13] Minimum   7.0 Maximum  10.0 Average   8.3\n",
      "[ 14] Minimum   7.0 Maximum  10.0 Average   8.4\n",
      "[ 15] Minimum  35.0 Maximum 121.0 Average  82.6\n",
      "[ 16] Minimum   7.0 Maximum  10.0 Average   8.4\n",
      "[ 17] Minimum   7.0 Maximum  10.0 Average   8.3\n",
      "[ 18] Minimum   7.0 Maximum  10.0 Average   8.6\n",
      "[ 19] Minimum  11.0 Maximum 199.0 Average  19.8\n",
      "[ 20] Minimum  14.0 Maximum  59.0 Average  28.8\n",
      "[ 21] Minimum   9.0 Maximum  15.0 Average  11.7\n",
      "[ 22] Minimum   7.0 Maximum  10.0 Average   8.4\n",
      "[ 23] Minimum   7.0 Maximum  10.0 Average   8.4\n",
      "[ 24] Minimum   7.0 Maximum  10.0 Average   8.6\n",
      "[ 25] Minimum  10.0 Maximum  18.0 Average  13.8\n",
      "82.64\n",
      "<actors.SimpleActor object at 0x7f59277d6b70>\n"
     ]
    }
   ],
   "source": [
    "env = gym.make('CartPole-v0')\n",
    "\n",
    "best_w = None\n",
    "best_score = 0\n",
    "# Simple model\n",
    "for m in range(25):\n",
    "    actor = actors.SimpleActor()\n",
    "    scores = []\n",
    "    for i in range(100):\n",
    "        observation = env.reset()\n",
    "        score = 0\n",
    "        frames = []\n",
    "        for t in range(1000):\n",
    "            action = actor.predict(observation)\n",
    "            observation, reward, done, info = env.step(action)\n",
    "            if done:\n",
    "                break\n",
    "            score += reward\n",
    "        scores.append(score)\n",
    "    print(f\"[{m+1:3}] Minimum {min(scores):5.1f} Maximum {max(scores):5.1f} Average {sum(scores)/len(scores):5.1f}\")\n",
    "    if sum(scores)/len(scores) > best_score:\n",
    "        best_score = sum(scores)/len(scores)\n",
    "        best_w = actor\n",
    "env.close()\n",
    "print(best_score)\n",
    "print(best_w)"
   ]
  },
  {
   "cell_type": "code",
   "execution_count": 6,
   "metadata": {},
   "outputs": [
    {
     "data": {
      "text/html": [
       "<img src='./random_simple.gif'>"
      ],
      "text/plain": [
       "<IPython.core.display.HTML object>"
      ]
     },
     "execution_count": 6,
     "metadata": {},
     "output_type": "execute_result"
    }
   ],
   "source": [
    "HTML(f\"<img src='./{best_w.render('random_simple.gif')}'>\")"
   ]
  },
  {
   "cell_type": "markdown",
   "metadata": {},
   "source": [
    "## Trying the complex model randomly"
   ]
  },
  {
   "cell_type": "code",
   "execution_count": 7,
   "metadata": {},
   "outputs": [
    {
     "name": "stdout",
     "output_type": "stream",
     "text": [
      "[  1] Minimum   8.0 Maximum  13.0 Average   9.9\n",
      "[  2] Minimum  12.0 Maximum  91.0 Average  29.4\n",
      "[  3] Minimum  13.0 Maximum  21.0 Average  17.6\n",
      "[  4] Minimum   8.0 Maximum  11.0 Average   9.5\n",
      "[  5] Minimum   7.0 Maximum  10.0 Average   8.9\n",
      "[  6] Minimum   7.0 Maximum  10.0 Average   8.4\n",
      "[  7] Minimum   7.0 Maximum  10.0 Average   8.3\n",
      "[  8] Minimum   7.0 Maximum  10.0 Average   8.4\n",
      "[  9] Minimum   9.0 Maximum  15.0 Average  11.3\n",
      "[ 10] Minimum   7.0 Maximum  10.0 Average   8.4\n",
      "[ 11] Minimum   7.0 Maximum  10.0 Average   8.3\n",
      "[ 12] Minimum   7.0 Maximum  10.0 Average   8.4\n",
      "[ 13] Minimum   7.0 Maximum  10.0 Average   8.3\n",
      "[ 14] Minimum  11.0 Maximum  17.0 Average  13.7\n",
      "[ 15] Minimum   7.0 Maximum  10.0 Average   8.3\n",
      "[ 16] Minimum   7.0 Maximum   9.0 Average   8.2\n",
      "[ 17] Minimum  12.0 Maximum  18.0 Average  14.9\n",
      "[ 18] Minimum  10.0 Maximum  15.0 Average  12.6\n",
      "[ 19] Minimum   7.0 Maximum  10.0 Average   8.3\n",
      "[ 20] Minimum  15.0 Maximum  26.0 Average  20.0\n",
      "[ 21] Minimum  14.0 Maximum  25.0 Average  18.3\n",
      "[ 22] Minimum  28.0 Maximum 199.0 Average  49.5\n",
      "[ 23] Minimum  24.0 Maximum  56.0 Average  36.9\n",
      "[ 24] Minimum   7.0 Maximum  10.0 Average   8.3\n",
      "[ 25] Minimum  25.0 Maximum  70.0 Average  40.8\n",
      "49.47\n",
      "<actors.ComplexActor object at 0x7f59210dceb8>\n"
     ]
    }
   ],
   "source": [
    "env = gym.make('CartPole-v0')\n",
    "\n",
    "best_w = None\n",
    "best_score = 0\n",
    "# Complex model\n",
    "for m in range(25):\n",
    "    actor = actors.ComplexActor()\n",
    "    scores = []\n",
    "    for i in range(100):\n",
    "        observation = env.reset()\n",
    "        score = 0\n",
    "        frames = []\n",
    "        for t in range(1000):\n",
    "            action = actor.predict(observation)\n",
    "            observation, reward, done, info = env.step(action)\n",
    "            if done:\n",
    "                break\n",
    "            score += reward\n",
    "        scores.append(score)\n",
    "    print(f\"[{m+1:3}] Minimum {min(scores):5.1f} Maximum {max(scores):5.1f} Average {sum(scores)/len(scores):5.1f}\")\n",
    "    if sum(scores)/len(scores) > best_score:\n",
    "        best_score = sum(scores)/len(scores)\n",
    "        best_w = actor\n",
    "env.close()\n",
    "print(best_score)\n",
    "print(best_w)"
   ]
  },
  {
   "cell_type": "code",
   "execution_count": 8,
   "metadata": {},
   "outputs": [
    {
     "data": {
      "text/html": [
       "<img src='./random_complex.gif'>"
      ],
      "text/plain": [
       "<IPython.core.display.HTML object>"
      ]
     },
     "execution_count": 8,
     "metadata": {},
     "output_type": "execute_result"
    }
   ],
   "source": [
    "HTML(f\"<img src='./{best_w.render('random_complex.gif')}'>\")"
   ]
  },
  {
   "cell_type": "code",
   "execution_count": null,
   "metadata": {},
   "outputs": [],
   "source": []
  }
 ],
 "metadata": {
  "kernelspec": {
   "display_name": "Python 3",
   "language": "python",
   "name": "python3"
  },
  "language_info": {
   "codemirror_mode": {
    "name": "ipython",
    "version": 3
   },
   "file_extension": ".py",
   "mimetype": "text/x-python",
   "name": "python",
   "nbconvert_exporter": "python",
   "pygments_lexer": "ipython3",
   "version": "3.6.5"
  }
 },
 "nbformat": 4,
 "nbformat_minor": 2
}
