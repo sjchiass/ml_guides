{
 "cells": [
  {
   "cell_type": "markdown",
   "metadata": {},
   "source": [
    "# Genetic Agents\n",
    "\n",
    "Let's win some cartpole!\n",
    "\n",
    "Genetic algorithms do well here, and they solve the environment pretty consistently. I try some variations to see how they affect performance."
   ]
  },
  {
   "cell_type": "code",
   "execution_count": 1,
   "metadata": {},
   "outputs": [],
   "source": [
    "# Display GIFs in Jupyter\n",
    "from IPython.display import HTML\n",
    "\n",
    "# OpenAI gym\n",
    "import gym\n",
    "\n",
    "# Import local script\n",
    "import agents\n",
    "\n",
    "# numpy\n",
    "import numpy as np\n",
    "\n",
    "# To speed up the algorithm\n",
    "from multiprocessing import Pool\n",
    "n_jobs = 4 # Set your number of cores here"
   ]
  },
  {
   "cell_type": "markdown",
   "metadata": {},
   "source": [
    "I re-use the function from before."
   ]
  },
  {
   "cell_type": "code",
   "execution_count": 2,
   "metadata": {},
   "outputs": [],
   "source": [
    "def trial_agent(agent, trials=100, limit=1000):\n",
    "    env = gym.make(agent.game)\n",
    "\n",
    "    scores = []\n",
    "    for i in range(trials):\n",
    "        observation = env.reset()\n",
    "        score = 0\n",
    "        for t in range(limit):\n",
    "            action = agent.predict(observation)\n",
    "            observation, reward, done, info = env.step(action)\n",
    "            if done:\n",
    "                break\n",
    "            score += reward\n",
    "        scores.append(score)\n",
    "        \n",
    "    data_dict = {\n",
    "        \"agent\" : agent, \n",
    "        \"weights\" : agent.w, \n",
    "        \"pedigree\" : agent.pedigree, \n",
    "        \"minimum\" : min(scores), \n",
    "        \"maximum\" : max(scores), \n",
    "        \"mean\" : sum(scores)/len(scores)\n",
    "    }\n",
    "    \n",
    "    env.close()\n",
    "    \n",
    "    return data_dict"
   ]
  },
  {
   "cell_type": "markdown",
   "metadata": {},
   "source": [
    "## The genetic algorithm\n",
    "\n",
    "Below is my implementation of a genetic algorithm. I designed this by reading the Wikipedia article and talking to a few people. It's definitely not the best out there, but it works fine for cartpole.\n",
    "\n",
    "When you keep the top agents from a generation, this is called [elitism](https://en.wikipedia.org/wiki/Genetic_algorithm#Elitism). It's a way to ensure that the next generation doesn't ruin itself with mutations and bad parenting. The \"elite\" from a round of testing stick around to maintain the status quo.\n",
    "\n",
    "Next the parents are [selected](https://en.wikipedia.org/wiki/Selection_(genetic_algorithm%29) to create the offspring. This [genetic operation](https://en.wikipedia.org/wiki/Crossover_(genetic_algorithm%29) the main part of the algorithm. By mixing genes together, you're effectively searching the parameter space for a solution. Wikipedia uses a crossover method but I just randomly mix them. My agents mix their DNA by drawing genes from a hat, I guess.\n",
    "\n",
    "[Mutations](https://en.wikipedia.org/wiki/Mutation_(genetic_algorithm%29) are rare, but they're a way of developing new genes that don't exist in the population. This should the agents escape from a local minimum.\n",
    "\n",
    "One last observation: with random games you need many trials to get a reliable mean score. With a low amount of trials, some lucky games from bad genes could have them passed on. With more trials, this is less likely."
   ]
  },
  {
   "cell_type": "code",
   "execution_count": 3,
   "metadata": {},
   "outputs": [],
   "source": [
    "def genetic_algorithm(results, old=5, new=95, n_parents=2, generations=25, \n",
    "                      mutation_rate=0.01, mutation_amount=0.5, order=1, max_score=499.0, \n",
    "                      game=\"CartPole-v1\"):\n",
    "    for round in range(generations):\n",
    "        # Sort agents by score (fitness)\n",
    "        top_scores = sorted(results, key=lambda x: x[\"mean\"], reverse=True)\n",
    "\n",
    "        # The survival of the fittest. Wikipedia calls this \"elitism\".\n",
    "        # The top agents of a generation are carried over to the next\n",
    "        survivors = top_scores[:old]\n",
    "\n",
    "        # To start breeding new agents, I'll mix weights (genes)\n",
    "        weight_shape = top_scores[0][\"weights\"].shape\n",
    "        gene_pool = [list(i[\"weights\"].flatten()) for i in top_scores]\n",
    "        pedigree_list = [i[\"pedigree\"] for i in top_scores]\n",
    "        genome_size = top_scores[0][\"weights\"].size\n",
    "\n",
    "        # Scores can be negative, so here I make them all positive\n",
    "        # They also need to sum to 1 for random sampling\n",
    "        min_score = min([i[\"mean\"] for i in top_scores])\n",
    "        sum_score = sum([i[\"mean\"]+min_score for i in top_scores])\n",
    "        probs = [(i[\"mean\"]+min_score)/sum_score for i in top_scores]\n",
    "\n",
    "        # For each new agent, randomly select parents\n",
    "        # Higher-fitness agents are likelier to sire new agents\n",
    "        children = []\n",
    "        for birth in range(new):\n",
    "            parents = np.random.choice(np.arange(len(gene_pool)), \n",
    "                             size=n_parents, \n",
    "                             replace=False, \n",
    "                             p=probs)\n",
    "\n",
    "            # The offspring get a mix of each parent's weights\n",
    "            # The weights (genes) are simply copied over\n",
    "            mix = np.random.randint(0, high=n_parents, size=genome_size)\n",
    "\n",
    "            weights = []\n",
    "            pedigree = []\n",
    "            for i in range(genome_size):\n",
    "                weights.append(gene_pool[parents[mix[i]]][i])\n",
    "                pedigree.append(pedigree_list[parents[mix[i]]][i])\n",
    "                # A mutation happens rarely and adds a bit of noise to a gene\n",
    "                if np.random.random(1) < mutation_rate:\n",
    "                    weights[i] += float(np.random.normal(0, mutation_amount, 1))\n",
    "                    pedigree[i] += \"M\"\n",
    "\n",
    "            children.append({\"weights\" : weights, \"pedigree\" : pedigree})\n",
    "\n",
    "        # Elitism: the top agents survive to fight another day\n",
    "        new_agents = [i[\"agent\"] for i in survivors]\n",
    "\n",
    "        # The offspring are added it\n",
    "        # With the pedigree variable their ancestors are tracked\n",
    "        for child in children:\n",
    "            new_agents.append(\n",
    "                agents.LinearAgent(\n",
    "                    np.array(child[\"weights\"]).reshape(weight_shape), \n",
    "                    pedigree=child[\"pedigree\"],\n",
    "                    order=order,\n",
    "                    game=game))\n",
    "\n",
    "        # Trial the agents using multiple CPU cores\n",
    "        p = Pool(n_jobs)\n",
    "        results = p.map(trial_agent, new_agents)\n",
    "        p.close()\n",
    "        \n",
    "        results = sorted(results, key=lambda x: x[\"mean\"], reverse=True)\n",
    "\n",
    "        print(f\"[{round+1:3}] Population average: {sum([i['mean'] for i in results])/len(results):5.1f}\")\n",
    "        print(f\"[{round+1:3}] Best mean score:    {results[0]['mean']:5.1f}, Pedigree: {'-'.join(results[0]['pedigree'])}\")\n",
    "        print()\n",
    "        \n",
    "        # End early if maximum is reached\n",
    "        if results[0]['mean'] >= max_score:\n",
    "            print(f\"[{round+1:3}] Best score reached, ending early\")\n",
    "            break\n",
    "    return results"
   ]
  },
  {
   "cell_type": "markdown",
   "metadata": {},
   "source": [
    "## First-order model\n",
    "\n",
    "The process I use from now takes this form: I randomly generate an initial population, I breed them for a while, and I display the best agent.\n",
    "\n",
    "Below you can see that the original population isn't that bad. It sometimes already solves the environment, but other times it fails miserably."
   ]
  },
  {
   "cell_type": "code",
   "execution_count": 4,
   "metadata": {},
   "outputs": [
    {
     "name": "stdout",
     "output_type": "stream",
     "text": [
      "{'agent': <agents.LinearAgent object at 0x7fd1b6263e48>, 'weights': array([[ 0.00482662],\n",
      "       [-0.58437806],\n",
      "       [-0.08999562],\n",
      "       [ 0.89924846],\n",
      "       [ 0.63816057]]), 'pedigree': ['13', '13', '13', '13', '13'], 'minimum': 69.0, 'maximum': 479.0, 'mean': 183.59}\n"
     ]
    },
    {
     "data": {
      "text/html": [
       "<img src='./images/genetic_simple_test.gif'>"
      ],
      "text/plain": [
       "<IPython.core.display.HTML object>"
      ]
     },
     "execution_count": 4,
     "metadata": {},
     "output_type": "execute_result"
    }
   ],
   "source": [
    "results = []\n",
    "\n",
    "for a in range(25):\n",
    "    results.append(trial_agent(agents.LinearAgent(None, id=a)))\n",
    "\n",
    "winner = sorted(results, key=lambda x: x[\"mean\"], reverse=True)[0]\n",
    "\n",
    "print(winner)\n",
    "\n",
    "HTML(f\"<img src='{winner['agent'].render('genetic_simple_test.gif')}'>\")"
   ]
  },
  {
   "cell_type": "markdown",
   "metadata": {},
   "source": [
    "This runs the genetic algorithm. Each round you can see the population's average score/fitness. For the fittest agent you can see their mean score and their pedigree. Each agent of the original population is given an ID number, and these are how the genees are numbered. If there's a mutation, an M is appended to the ID number."
   ]
  },
  {
   "cell_type": "code",
   "execution_count": 5,
   "metadata": {},
   "outputs": [
    {
     "name": "stdout",
     "output_type": "stream",
     "text": [
      "[  1] Population average:  52.0\n",
      "[  1] Best mean score:    488.3, Pedigree: 13-11-11-13-13M\n",
      "\n",
      "[  2] Population average: 151.7\n",
      "[  2] Best mean score:    499.0, Pedigree: 13-1-11-13-13M\n",
      "\n",
      "[  2] Best score reached, ending early\n"
     ]
    }
   ],
   "source": [
    "results = genetic_algorithm(results, generations=25)"
   ]
  },
  {
   "cell_type": "markdown",
   "metadata": {},
   "source": [
    "It's very likely the scores will increase consistently each round. Usually the environment is solved within the 25 rounds.\n",
    "\n",
    "In the example I ran, the cart runs off the screen but doesn't reach all the way within the 500 time steps. This counts as a win, even if isn't a very elegant one."
   ]
  },
  {
   "cell_type": "code",
   "execution_count": 6,
   "metadata": {},
   "outputs": [
    {
     "name": "stdout",
     "output_type": "stream",
     "text": [
      "{'agent': <agents.LinearAgent object at 0x7fd1a919dac8>, 'weights': array([[0.00482662],\n",
      "       [0.12806551],\n",
      "       [0.69777549],\n",
      "       [0.89924846],\n",
      "       [1.053473  ]]), 'pedigree': ['13', '1', '11', '13', '13M'], 'minimum': 499.0, 'maximum': 499.0, 'mean': 499.0}\n"
     ]
    },
    {
     "data": {
      "text/html": [
       "<img src='./images/genetic_simple.gif'>"
      ],
      "text/plain": [
       "<IPython.core.display.HTML object>"
      ]
     },
     "execution_count": 6,
     "metadata": {},
     "output_type": "execute_result"
    }
   ],
   "source": [
    "winner = sorted(results, key=lambda x: x[\"mean\"], reverse=True)[0]\n",
    "\n",
    "print(winner)\n",
    "\n",
    "HTML(f\"<img src='{winner['agent'].render('genetic_simple.gif')}'>\")"
   ]
  },
  {
   "cell_type": "markdown",
   "metadata": {},
   "source": [
    "## Second-order agent\n",
    "\n",
    "Is there an advantage to making the agent's logistic regresion into a second order one? This would allow the agent to develop more sophisticated policies.\n",
    "\n",
    "It doesn't seem to make much of a difference."
   ]
  },
  {
   "cell_type": "code",
   "execution_count": 7,
   "metadata": {},
   "outputs": [
    {
     "name": "stdout",
     "output_type": "stream",
     "text": [
      "{'agent': <agents.LinearAgent object at 0x7fd1a92855c0>, 'weights': array([[-0.02640773],\n",
      "       [ 0.57012762],\n",
      "       [-0.29486028],\n",
      "       [-0.0379439 ],\n",
      "       [ 0.78203947],\n",
      "       [ 0.74831177],\n",
      "       [ 0.63544248],\n",
      "       [ 0.64601175],\n",
      "       [-0.43026738],\n",
      "       [-0.81297677],\n",
      "       [-0.20149993],\n",
      "       [-0.9208676 ],\n",
      "       [ 0.51046582],\n",
      "       [-0.72095141],\n",
      "       [ 0.06373336]]), 'pedigree': ['13', '13', '13', '13', '13', '13', '13', '13', '13', '13', '13', '13', '13', '13', '13'], 'minimum': 36.0, 'maximum': 189.0, 'mean': 84.0}\n"
     ]
    },
    {
     "data": {
      "text/html": [
       "<img src='./images/genetic_complex_test.gif'>"
      ],
      "text/plain": [
       "<IPython.core.display.HTML object>"
      ]
     },
     "execution_count": 7,
     "metadata": {},
     "output_type": "execute_result"
    }
   ],
   "source": [
    "results = []\n",
    "\n",
    "for a in range(25):\n",
    "    results.append(trial_agent(agents.LinearAgent(None, order=2, id=a)))\n",
    "\n",
    "winner = sorted(results, key=lambda x: x[\"mean\"], reverse=True)[0]\n",
    "\n",
    "print(winner)\n",
    "\n",
    "HTML(f\"<img src='{winner['agent'].render('genetic_complex_test.gif')}'>\")"
   ]
  },
  {
   "cell_type": "code",
   "execution_count": 8,
   "metadata": {},
   "outputs": [
    {
     "name": "stdout",
     "output_type": "stream",
     "text": [
      "[  1] Population average:  24.0\n",
      "[  1] Best mean score:    211.6, Pedigree: 13-13-13-19-13-13-13-19-13-13-19-19-19-19-13\n",
      "\n",
      "[  2] Population average:  44.6\n",
      "[  2] Best mean score:    499.0, Pedigree: 13-13-11-19M-13-13-11-19-11-13-13-19-19-13-13\n",
      "\n",
      "[  2] Best score reached, ending early\n"
     ]
    }
   ],
   "source": [
    "results = genetic_algorithm(results, generations=25, order=2)"
   ]
  },
  {
   "cell_type": "code",
   "execution_count": 9,
   "metadata": {},
   "outputs": [
    {
     "name": "stdout",
     "output_type": "stream",
     "text": [
      "{'agent': <agents.LinearAgent object at 0x7fd1a8079940>, 'weights': array([[-0.02640773],\n",
      "       [ 0.57012762],\n",
      "       [ 0.47916927],\n",
      "       [ 1.63387038],\n",
      "       [ 0.78203947],\n",
      "       [ 0.74831177],\n",
      "       [ 0.63451236],\n",
      "       [-0.9783834 ],\n",
      "       [ 0.5089603 ],\n",
      "       [-0.81297677],\n",
      "       [-0.20149993],\n",
      "       [-0.27187147],\n",
      "       [ 0.57288765],\n",
      "       [-0.72095141],\n",
      "       [ 0.06373336]]), 'pedigree': ['13', '13', '11', '19M', '13', '13', '11', '19', '11', '13', '13', '19', '19', '13', '13'], 'minimum': 499.0, 'maximum': 499.0, 'mean': 499.0}\n"
     ]
    },
    {
     "data": {
      "text/html": [
       "<img src='./images/genetic_complex.gif'>"
      ],
      "text/plain": [
       "<IPython.core.display.HTML object>"
      ]
     },
     "execution_count": 9,
     "metadata": {},
     "output_type": "execute_result"
    }
   ],
   "source": [
    "winner = sorted(results, key=lambda x: x[\"mean\"], reverse=True)[0]\n",
    "\n",
    "print(winner)\n",
    "\n",
    "HTML(f\"<img src='{winner['agent'].render('genetic_complex.gif')}'>\")"
   ]
  },
  {
   "cell_type": "markdown",
   "metadata": {},
   "source": [
    "## A bad initial gene pool?\n",
    "\n",
    "With a good initial batch of agents, the genetic algorithm can just fine-tune these good guesses. But what about a bad batch? I'm curious to know if mutation play a bigger role here.\n",
    "\n",
    "By selecting the bottom 10% of an initial population of 250, I get agents that topple the pole as quickly as they can. It's even hard to see it fall in the GIF.\n",
    "\n",
    "This bad initial batch doesn't seem to overly harm the genetic algorithm. I try both no-mutations and high-mutations; both work well."
   ]
  },
  {
   "cell_type": "code",
   "execution_count": 10,
   "metadata": {},
   "outputs": [
    {
     "name": "stdout",
     "output_type": "stream",
     "text": [
      "{'agent': <agents.LinearAgent object at 0x7fd1a807fb70>, 'weights': array([[ 0.52200294],\n",
      "       [ 0.23513251],\n",
      "       [ 0.95194245],\n",
      "       [-0.22501347],\n",
      "       [-0.9928648 ]]), 'pedigree': ['148', '148', '148', '148', '148'], 'minimum': 7.0, 'maximum': 10.0, 'mean': 8.28}\n"
     ]
    },
    {
     "data": {
      "text/html": [
       "<img src='./images/bad_genetic_simple_test.gif'>"
      ],
      "text/plain": [
       "<IPython.core.display.HTML object>"
      ]
     },
     "execution_count": 10,
     "metadata": {},
     "output_type": "execute_result"
    }
   ],
   "source": [
    "results = []\n",
    "\n",
    "# Run 50 random agents\n",
    "for a in range(250):\n",
    "    results.append(trial_agent(agents.LinearAgent(None, id=a)))\n",
    "\n",
    "# Select the bottom tenth\n",
    "bottom_tenth = sorted(results, key=lambda x: x[\"mean\"], reverse=True)[-25:]\n",
    "\n",
    "winner = bottom_tenth[0]\n",
    "\n",
    "print(winner)\n",
    "\n",
    "HTML(f\"<img src='{winner['agent'].render('bad_genetic_simple_test.gif')}'>\")"
   ]
  },
  {
   "cell_type": "markdown",
   "metadata": {},
   "source": [
    "### No mutation"
   ]
  },
  {
   "cell_type": "code",
   "execution_count": 11,
   "metadata": {},
   "outputs": [
    {
     "name": "stdout",
     "output_type": "stream",
     "text": [
      "[  1] Population average:   8.4\n",
      "[  1] Best mean score:     10.5, Pedigree: 101-101-177-101-101\n",
      "\n",
      "[  2] Population average:   8.5\n",
      "[  2] Best mean score:     10.8, Pedigree: 101-101-177-101-101\n",
      "\n",
      "[  3] Population average:   8.8\n",
      "[  3] Best mean score:     28.2, Pedigree: 237-48-117-117-221\n",
      "\n",
      "[  4] Population average:   9.6\n",
      "[  4] Best mean score:     39.3, Pedigree: 237-48-117-117-118\n",
      "\n",
      "[  5] Population average:  10.5\n",
      "[  5] Best mean score:     42.7, Pedigree: 237-48-117-117-118\n",
      "\n",
      "[  6] Population average:  13.5\n",
      "[  6] Best mean score:     47.9, Pedigree: 237-48-117-48-118\n",
      "\n",
      "[  7] Population average:  18.9\n",
      "[  7] Best mean score:    103.5, Pedigree: 237-48-194-48-194\n",
      "\n",
      "[  8] Population average:  24.6\n",
      "[  8] Best mean score:    104.3, Pedigree: 237-118-194-48-194\n",
      "\n",
      "[  9] Population average:  31.8\n",
      "[  9] Best mean score:    106.2, Pedigree: 237-48-194-48-194\n",
      "\n",
      "[ 10] Population average:  44.1\n",
      "[ 10] Best mean score:    152.3, Pedigree: 237-177-194-117-194\n",
      "\n",
      "[ 11] Population average:  56.0\n",
      "[ 11] Best mean score:    150.5, Pedigree: 237-177-194-117-194\n",
      "\n",
      "[ 12] Population average:  65.3\n",
      "[ 12] Best mean score:    179.5, Pedigree: 237-177-194-48-194\n",
      "\n",
      "[ 13] Population average:  83.0\n",
      "[ 13] Best mean score:    499.0, Pedigree: 237-124-194-48-194\n",
      "\n",
      "[ 13] Best score reached, ending early\n"
     ]
    }
   ],
   "source": [
    "results = genetic_algorithm(bottom_tenth, generations=25, mutation_rate=0.0)"
   ]
  },
  {
   "cell_type": "code",
   "execution_count": 12,
   "metadata": {},
   "outputs": [
    {
     "name": "stdout",
     "output_type": "stream",
     "text": [
      "{'agent': <agents.LinearAgent object at 0x7fd1a8076860>, 'weights': array([[-0.06521825],\n",
      "       [-0.00775237],\n",
      "       [ 0.43074136],\n",
      "       [ 0.39855194],\n",
      "       [ 0.36722224]]), 'pedigree': ['237', '124', '194', '48', '194'], 'minimum': 499.0, 'maximum': 499.0, 'mean': 499.0}\n"
     ]
    },
    {
     "data": {
      "text/html": [
       "<img src='./images/bad_genetic_simple.gif'>"
      ],
      "text/plain": [
       "<IPython.core.display.HTML object>"
      ]
     },
     "execution_count": 12,
     "metadata": {},
     "output_type": "execute_result"
    }
   ],
   "source": [
    "winner = sorted(results, key=lambda x: x[\"mean\"], reverse=True)[0]\n",
    "\n",
    "print(winner)\n",
    "\n",
    "HTML(f\"<img src='{winner['agent'].render('bad_genetic_simple.gif')}'>\")"
   ]
  },
  {
   "cell_type": "markdown",
   "metadata": {},
   "source": [
    "### High mutation"
   ]
  },
  {
   "cell_type": "code",
   "execution_count": 13,
   "metadata": {},
   "outputs": [
    {
     "name": "stdout",
     "output_type": "stream",
     "text": [
      "[  1] Population average:   8.5\n",
      "[  1] Best mean score:     19.3, Pedigree: 128-34-128-128-34\n",
      "\n",
      "[  2] Population average:  12.9\n",
      "[  2] Best mean score:    355.3, Pedigree: 237-82M-82-82-34\n",
      "\n",
      "[  3] Population average:  31.7\n",
      "[  3] Best mean score:    358.6, Pedigree: 237-82M-82-82-34\n",
      "\n",
      "[  4] Population average:  94.8\n",
      "[  4] Best mean score:    499.0, Pedigree: 237-34-82-82-34M\n",
      "\n",
      "[  4] Best score reached, ending early\n"
     ]
    }
   ],
   "source": [
    "results = genetic_algorithm(bottom_tenth, generations=25, mutation_rate=0.1)"
   ]
  },
  {
   "cell_type": "code",
   "execution_count": 14,
   "metadata": {},
   "outputs": [
    {
     "name": "stdout",
     "output_type": "stream",
     "text": [
      "{'agent': <agents.LinearAgent object at 0x7fd1a91cf630>, 'weights': array([[-0.06521825],\n",
      "       [ 0.24005704],\n",
      "       [ 0.68586647],\n",
      "       [ 0.91697999],\n",
      "       [ 0.70325394]]), 'pedigree': ['237', '34', '82', '82', '34M'], 'minimum': 499.0, 'maximum': 499.0, 'mean': 499.0}\n"
     ]
    },
    {
     "data": {
      "text/html": [
       "<img src='./images/mutants_genetic_simple.gif'>"
      ],
      "text/plain": [
       "<IPython.core.display.HTML object>"
      ]
     },
     "execution_count": 14,
     "metadata": {},
     "output_type": "execute_result"
    }
   ],
   "source": [
    "winner = sorted(results, key=lambda x: x[\"mean\"], reverse=True)[0]\n",
    "\n",
    "print(winner)\n",
    "\n",
    "HTML(f\"<img src='{winner['agent'].render('mutants_genetic_simple.gif')}'>\")"
   ]
  },
  {
   "cell_type": "markdown",
   "metadata": {},
   "source": [
    "## More than two parents\n",
    "\n",
    "[Wikipedia mentions](https://en.wikipedia.org/wiki/Genetic_algorithm#Genetic_operators) that having more than two parents is beneficial for the genetic algorithm.\n",
    "\n",
    "In the example below, both cases reach the same solution. The 5-parent case reaches it faster."
   ]
  },
  {
   "cell_type": "code",
   "execution_count": 18,
   "metadata": {},
   "outputs": [
    {
     "name": "stdout",
     "output_type": "stream",
     "text": [
      "{'agent': <agents.LinearAgent object at 0x7fd1a91b4d68>, 'weights': array([[-0.00606296],\n",
      "       [ 0.06950005],\n",
      "       [-0.69813354],\n",
      "       [ 0.52751006],\n",
      "       [ 0.55149959],\n",
      "       [ 0.99437783],\n",
      "       [-0.82551131],\n",
      "       [ 0.71378451],\n",
      "       [-0.70759282],\n",
      "       [ 0.42861422],\n",
      "       [ 0.40050821],\n",
      "       [-0.91465721],\n",
      "       [ 0.73345818],\n",
      "       [ 0.50117301],\n",
      "       [-0.35055604]]), 'pedigree': ['11', '11', '11', '11', '11', '11', '11', '11', '11', '11', '11', '11', '11', '11', '11'], 'minimum': 43.0, 'maximum': 499.0, 'mean': 211.01}\n"
     ]
    },
    {
     "data": {
      "text/html": [
       "<img src='./images/genetic_parents_test.gif'>"
      ],
      "text/plain": [
       "<IPython.core.display.HTML object>"
      ]
     },
     "execution_count": 18,
     "metadata": {},
     "output_type": "execute_result"
    }
   ],
   "source": [
    "initial = []\n",
    "\n",
    "for a in range(25):\n",
    "    initial.append(trial_agent(agents.LinearAgent(None, order=2, id=a)))\n",
    "\n",
    "winner = sorted(initial, key=lambda x: x[\"mean\"], reverse=True)[0]\n",
    "\n",
    "print(winner)\n",
    "\n",
    "HTML(f\"<img src='{winner['agent'].render('genetic_parents_test.gif')}'>\")"
   ]
  },
  {
   "cell_type": "markdown",
   "metadata": {},
   "source": [
    "### 2 parents"
   ]
  },
  {
   "cell_type": "code",
   "execution_count": 19,
   "metadata": {},
   "outputs": [
    {
     "name": "stdout",
     "output_type": "stream",
     "text": [
      "[  1] Population average:  42.7\n",
      "[  1] Best mean score:    268.7, Pedigree: 11-17-17-11-11-11-11-17-17-11-17-11-11-11-17\n",
      "\n",
      "[  2] Population average:  98.4\n",
      "[  2] Best mean score:    316.1, Pedigree: 11-11-5-11-11-23-11-5-11-5-11-23-11-11-5\n",
      "\n",
      "[  3] Population average: 146.0\n",
      "[  3] Best mean score:    350.9, Pedigree: 11-11-3-11-11-18-18-11-11-11-6-3-11-11-3\n",
      "\n",
      "[  4] Population average: 203.5\n",
      "[  4] Best mean score:    472.5, Pedigree: 11-7-7-11-7-5-7-5-11-6-18-5-5-5-6\n",
      "\n",
      "[  5] Population average: 227.0\n",
      "[  5] Best mean score:    469.1, Pedigree: 11-7-7-11-7-11-7-5-11-6-11-5-5-5-6\n",
      "\n",
      "[  6] Population average: 237.3\n",
      "[  6] Best mean score:    494.5, Pedigree: 11-7-7-11-7-5-3-5-7-11-7-5-11-23-11M\n",
      "\n",
      "[  7] Population average: 251.1\n",
      "[  7] Best mean score:    497.7, Pedigree: 11-7-7-11-7-5-3-5-7-11-7-5-11-23-11M\n",
      "\n",
      "[  8] Population average: 264.1\n",
      "[  8] Best mean score:    499.0, Pedigree: 11-7-7-11-7-5-11-5-17-11-7-5-5-11-6\n",
      "\n",
      "[  8] Best score reached, ending early\n",
      "{'agent': <agents.LinearAgent object at 0x7fd1a37d60f0>, 'weights': array([[-0.00606296],\n",
      "       [-0.03550556],\n",
      "       [ 0.62161606],\n",
      "       [ 0.52751006],\n",
      "       [ 0.58438935],\n",
      "       [ 0.88741182],\n",
      "       [-0.82551131],\n",
      "       [ 0.86894773],\n",
      "       [-0.86389983],\n",
      "       [ 0.42861422],\n",
      "       [ 0.41912818],\n",
      "       [-0.45077262],\n",
      "       [-0.44380515],\n",
      "       [ 0.50117301],\n",
      "       [-0.61867886]]), 'pedigree': ['11', '7', '7', '11', '7', '5', '11', '5', '17', '11', '7', '5', '5', '11', '6'], 'minimum': 499.0, 'maximum': 499.0, 'mean': 499.0}\n"
     ]
    },
    {
     "data": {
      "text/html": [
       "<img src='./images/genetic_2_parents.gif'>"
      ],
      "text/plain": [
       "<IPython.core.display.HTML object>"
      ]
     },
     "execution_count": 19,
     "metadata": {},
     "output_type": "execute_result"
    }
   ],
   "source": [
    "results = genetic_algorithm(initial, order=2, generations=25)\n",
    "\n",
    "winner = sorted(results, key=lambda x: x[\"mean\"], reverse=True)[0]\n",
    "\n",
    "print(winner)\n",
    "\n",
    "HTML(f\"<img src='{winner['agent'].render('genetic_2_parents.gif')}'>\")"
   ]
  },
  {
   "cell_type": "markdown",
   "metadata": {},
   "source": [
    "### 5 parents"
   ]
  },
  {
   "cell_type": "code",
   "execution_count": 20,
   "metadata": {},
   "outputs": [
    {
     "name": "stdout",
     "output_type": "stream",
     "text": [
      "[  1] Population average:  26.5\n",
      "[  1] Best mean score:    229.4, Pedigree: 11-11-11-11-11-11-11-11-11-11-11-11-11-11-11\n",
      "\n",
      "[  2] Population average:  51.5\n",
      "[  2] Best mean score:    239.0, Pedigree: 11-11-11-11-11-11-11-11-11-11-11-11-11-11-11\n",
      "\n",
      "[  3] Population average: 105.9\n",
      "[  3] Best mean score:    376.9, Pedigree: 11-5M-23-12M-21-11-23-22-14-11-22-11-22-5-5\n",
      "\n",
      "[  4] Population average: 154.5\n",
      "[  4] Best mean score:    499.0, Pedigree: 11-16-7-12-3-6-11-21-9-7-9-5-22-22-11\n",
      "\n",
      "[  4] Best score reached, ending early\n",
      "{'agent': <agents.LinearAgent object at 0x7fd1a37f3da0>, 'weights': array([[-0.00606296],\n",
      "       [ 0.39127394],\n",
      "       [ 0.62161606],\n",
      "       [ 0.91430088],\n",
      "       [ 0.791029  ],\n",
      "       [ 0.76946297],\n",
      "       [-0.82551131],\n",
      "       [ 0.70465431],\n",
      "       [-0.0064681 ],\n",
      "       [ 0.47557238],\n",
      "       [-0.96687173],\n",
      "       [-0.45077262],\n",
      "       [ 0.98306909],\n",
      "       [-0.60113155],\n",
      "       [-0.35055604]]), 'pedigree': ['11', '16', '7', '12', '3', '6', '11', '21', '9', '7', '9', '5', '22', '22', '11'], 'minimum': 499.0, 'maximum': 499.0, 'mean': 499.0}\n"
     ]
    },
    {
     "data": {
      "text/html": [
       "<img src='./images/genetic_5_parents.gif'>"
      ],
      "text/plain": [
       "<IPython.core.display.HTML object>"
      ]
     },
     "execution_count": 20,
     "metadata": {},
     "output_type": "execute_result"
    }
   ],
   "source": [
    "results = genetic_algorithm(initial, order=2, n_parents=5, generations=25)\n",
    "\n",
    "winner = sorted(results, key=lambda x: x[\"mean\"], reverse=True)[0]\n",
    "\n",
    "print(winner)\n",
    "\n",
    "HTML(f\"<img src='{winner['agent'].render('genetic_5_parents.gif')}'>\")"
   ]
  },
  {
   "cell_type": "code",
   "execution_count": null,
   "metadata": {},
   "outputs": [],
   "source": []
  }
 ],
 "metadata": {
  "kernelspec": {
   "display_name": "Python 3",
   "language": "python",
   "name": "python3"
  },
  "language_info": {
   "codemirror_mode": {
    "name": "ipython",
    "version": 3
   },
   "file_extension": ".py",
   "mimetype": "text/x-python",
   "name": "python",
   "nbconvert_exporter": "python",
   "pygments_lexer": "ipython3",
   "version": "3.6.5"
  }
 },
 "nbformat": 4,
 "nbformat_minor": 2
}
