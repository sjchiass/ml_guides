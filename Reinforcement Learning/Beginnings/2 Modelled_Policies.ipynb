{
 "cells": [
  {
   "cell_type": "code",
   "execution_count": 1,
   "metadata": {},
   "outputs": [],
   "source": [
    "from IPython.display import HTML\n",
    "\n",
    "import gym\n",
    "\n",
    "# Import local script\n",
    "import actors\n",
    "\n",
    "# For modelling the scores\n",
    "import numpy as np\n",
    "from sklearn.linear_model import ElasticNetCV\n",
    "from scipy.optimize import minimize"
   ]
  },
  {
   "cell_type": "code",
   "execution_count": 2,
   "metadata": {},
   "outputs": [],
   "source": [
    "def trial_actor(actor, trials=100, limit=1000):\n",
    "    env = gym.make('CartPole-v0')\n",
    "\n",
    "    scores = []\n",
    "    for i in range(trials):\n",
    "        observation = env.reset()\n",
    "        score = 0\n",
    "        for t in range(limit):\n",
    "            action = actor.predict(observation)\n",
    "            observation, reward, done, info = env.step(action)\n",
    "            if done:\n",
    "                break\n",
    "            score += reward\n",
    "        scores.append(score)\n",
    "        \n",
    "    data_dict = {\n",
    "        \"actor\" : actor, \n",
    "        \"weights\" : actor.w, \n",
    "        \"minimum\" : min(scores), \n",
    "        \"maximum\" : max(scores), \n",
    "        \"mean\" : sum(scores)/len(scores)\n",
    "    }\n",
    "    \n",
    "    env.close()\n",
    "    \n",
    "    return data_dict"
   ]
  },
  {
   "cell_type": "markdown",
   "metadata": {},
   "source": [
    "## Simple actor\n",
    "\n",
    "We'll see that this technique can improve the agent, but it's not consistent. I was bery nearly able to solve it once, by luck, with a score of 191."
   ]
  },
  {
   "cell_type": "code",
   "execution_count": 3,
   "metadata": {},
   "outputs": [
    {
     "name": "stdout",
     "output_type": "stream",
     "text": [
      "{'actor': <actors.SimpleActor object at 0x7fab4a791908>, 'weights': array([-0.02130483, -0.5729782 ,  0.37991054,  0.12018435,  0.82631067]), 'minimum': 116.0, 'maximum': 199.0, 'mean': 169.32}\n"
     ]
    },
    {
     "data": {
      "text/html": [
       "<img src='./model_simple_test.gif'>"
      ],
      "text/plain": [
       "<IPython.core.display.HTML object>"
      ]
     },
     "execution_count": 3,
     "metadata": {},
     "output_type": "execute_result"
    }
   ],
   "source": [
    "results = []\n",
    "\n",
    "for a in range(25):\n",
    "    results.append(trial_actor(actors.SimpleActor(None)))\n",
    "\n",
    "winner = sorted(results, key=lambda x: x[\"mean\"], reverse=True)[0]\n",
    "\n",
    "print(winner)\n",
    "\n",
    "HTML(f\"<img src='./{winner['actor'].render('model_simple_test.gif')}'>\")"
   ]
  },
  {
   "cell_type": "code",
   "execution_count": 4,
   "metadata": {},
   "outputs": [
    {
     "name": "stdout",
     "output_type": "stream",
     "text": [
      "New weights: [-1. -1.  1. -1.  1.]\n",
      "Best mean score: 173.01\n",
      "New weights: [-0.75228254 -1.          1.          1.          1.        ]\n",
      "Best mean score: 170.73\n",
      "New weights: [ 1. -1.  1.  1.  1.]\n",
      "Best mean score: 169.84\n",
      "New weights: [ 1. -1.  1.  1.  1.]\n",
      "Best mean score: 168.77\n",
      "New weights: [ 0.05097823 -1.          1.         -0.15761214  1.        ]\n",
      "Best mean score: 192.54\n",
      "New weights: [-1. -1.  1. -1.  1.]\n",
      "Best mean score: 192.58\n",
      "New weights: [ 0.69013871 -1.          1.         -1.          1.        ]\n",
      "Best mean score: 192.68\n",
      "New weights: [-0.98354755 -1.          1.          1.          1.        ]\n",
      "Best mean score: 192.29\n",
      "New weights: [-0.30007058 -1.          1.         -0.46680355  1.        ]\n",
      "Best mean score: 192.37\n",
      "New weights: [-0.30007058 -1.          1.         -0.46680355  1.        ]\n",
      "Best mean score: 191.97\n",
      "New weights: [-0.30802376 -1.          1.          0.61807036  1.        ]\n",
      "Best mean score: 193.01\n",
      "New weights: [ 0.55365654 -1.          1.          1.          1.        ]\n",
      "Best mean score: 191.2\n",
      "New weights: [-0.17199856 -1.          1.          1.          1.        ]\n",
      "Best mean score: 191.84\n",
      "New weights: [-1. -1.  1.  1.  1.]\n",
      "Best mean score: 191.5\n",
      "New weights: [ 1. -1.  1.  1.  1.]\n",
      "Best mean score: 190.96\n",
      "New weights: [-1. -1.  1.  1.  1.]\n",
      "Best mean score: 192.5\n",
      "New weights: [ 1.  1.  1. -1.  1.]\n",
      "Best mean score: 191.82\n",
      "New weights: [-1. -1.  1.  1.  1.]\n",
      "Best mean score: 191.81\n",
      "New weights: [ 1. -1.  1.  1.  1.]\n",
      "Best mean score: 190.57\n",
      "New weights: [-0.30007058 -1.          1.          1.          1.        ]\n",
      "Best mean score: 191.37\n",
      "New weights: [-1. -1.  1.  1.  1.]\n",
      "Best mean score: 191.57\n",
      "New weights: [-1. -1.  1.  1.  1.]\n",
      "Best mean score: 191.36\n",
      "New weights: [ 1.       -1.        1.        0.210942  1.      ]\n",
      "Best mean score: 193.47\n",
      "New weights: [ 0.9262191 -1.         1.         1.         1.       ]\n",
      "Best mean score: 191.96\n",
      "New weights: [-1. -1.  1. -1.  1.]\n",
      "Best mean score: 191.43\n"
     ]
    }
   ],
   "source": [
    "for rounds in range(25):\n",
    "    X = np.array([i[\"actor\"].w for i in results])\n",
    "    y = [-i[\"mean\"] for i in results]\n",
    "    model = ElasticNetCV()\n",
    "\n",
    "    model.fit(X, y)\n",
    "\n",
    "    def function(x):\n",
    "        return model.predict([x])\n",
    "\n",
    "    optim_result = minimize(\n",
    "        function, \n",
    "        X[np.random.randint(X.shape[0]),:],\n",
    "        bounds = ((-1,1),(-1,1),(-1,1),(-1,1),(-1,1))\n",
    "        )\n",
    "\n",
    "    new_weights = optim_result[\"x\"]\n",
    "    \n",
    "    print(f\"New weights: {new_weights}\")\n",
    "\n",
    "    new_actors = [i[\"actor\"] for i in results]\n",
    "    new_actors.append(actors.SimpleActor(new_weights))\n",
    "\n",
    "    results = []\n",
    "\n",
    "    for actor in new_actors:\n",
    "        results.append(trial_actor(actor))\n",
    "\n",
    "    print(f\"Best mean score: {max([i['mean'] for i in results])}\")"
   ]
  },
  {
   "cell_type": "code",
   "execution_count": 5,
   "metadata": {},
   "outputs": [
    {
     "name": "stdout",
     "output_type": "stream",
     "text": [
      "{'actor': <actors.SimpleActor object at 0x7fab3f7623c8>, 'weights': array([ 0.05097823, -1.        ,  1.        , -0.15761214,  1.        ]), 'minimum': 155.0, 'maximum': 199.0, 'mean': 191.43}\n"
     ]
    },
    {
     "data": {
      "text/html": [
       "<img src='./model_simple.gif'>"
      ],
      "text/plain": [
       "<IPython.core.display.HTML object>"
      ]
     },
     "execution_count": 5,
     "metadata": {},
     "output_type": "execute_result"
    }
   ],
   "source": [
    "winner = sorted(results, key=lambda x: x[\"mean\"], reverse=True)[0]\n",
    "\n",
    "print(winner)\n",
    "\n",
    "HTML(f\"<img src='./{winner['actor'].render('model_simple.gif')}'>\")"
   ]
  },
  {
   "cell_type": "markdown",
   "metadata": {},
   "source": [
    "## Complex Actor"
   ]
  },
  {
   "cell_type": "code",
   "execution_count": 6,
   "metadata": {},
   "outputs": [
    {
     "name": "stdout",
     "output_type": "stream",
     "text": [
      "{'actor': <actors.ComplexActor object at 0x7fab3f762320>, 'weights': array([-0.1206004 , -0.03058163,  0.74918929, -0.82805002,  0.94920338,\n",
      "       -0.65548428,  0.56143857, -0.17891737,  0.4913803 ]), 'minimum': 25.0, 'maximum': 57.0, 'mean': 40.41}\n"
     ]
    },
    {
     "data": {
      "text/html": [
       "<img src='./model_complex_test.gif'>"
      ],
      "text/plain": [
       "<IPython.core.display.HTML object>"
      ]
     },
     "execution_count": 6,
     "metadata": {},
     "output_type": "execute_result"
    }
   ],
   "source": [
    "results = []\n",
    "\n",
    "for a in range(25):\n",
    "    results.append(trial_actor(actors.ComplexActor(None)))\n",
    "\n",
    "winner = sorted(results, key=lambda x: x[\"mean\"], reverse=True)[0]\n",
    "\n",
    "print(winner)\n",
    "\n",
    "HTML(f\"<img src='./{winner['actor'].render('model_complex_test.gif')}'>\")"
   ]
  },
  {
   "cell_type": "code",
   "execution_count": 7,
   "metadata": {},
   "outputs": [
    {
     "name": "stdout",
     "output_type": "stream",
     "text": [
      "New weights: [-1.          0.29731395  0.51255066 -1.          1.         -1.\n",
      "  1.         -0.0142812   1.        ]\n",
      "Best mean score: 39.76\n",
      "New weights: [-1.         -0.55284318  0.65319236 -1.          1.         -1.\n",
      "  1.          0.01674042  1.        ]\n",
      "Best mean score: 40.42\n",
      "New weights: [ 0.81870783 -0.5285352   0.91420731  0.06376509  1.         -1.\n",
      "  1.          0.17886725  1.        ]\n",
      "Best mean score: 39.36\n",
      "New weights: [-1.         -0.51773146 -0.17583907 -1.          1.         -1.\n",
      "  0.94807473  0.75947424  1.        ]\n",
      "Best mean score: 39.17\n",
      "New weights: [-1.          0.29731395  0.51255066 -1.          1.         -1.\n",
      "  1.         -0.0142812   1.        ]\n",
      "Best mean score: 38.17\n",
      "New weights: [-1.         -0.03433781 -0.35463149 -1.          1.         -1.\n",
      "  1.          0.22362722  1.        ]\n",
      "Best mean score: 40.04\n",
      "New weights: [-1.         -0.01319001  0.51321105 -1.          1.         -1.\n",
      "  1.          0.75866448  1.        ]\n",
      "Best mean score: 39.68\n",
      "New weights: [-1.         -0.01319001  0.51321105 -1.          1.         -1.\n",
      "  1.          0.75866448  1.        ]\n",
      "Best mean score: 39.31\n",
      "New weights: [-1.          0.56346813 -0.24230012 -1.          1.         -1.\n",
      "  1.         -0.23363613  1.        ]\n",
      "Best mean score: 39.76\n",
      "New weights: [-1.          1.          0.60259237 -1.          1.         -1.\n",
      "  1.          0.37669514  1.        ]\n",
      "Best mean score: 40.5\n",
      "New weights: [-1.          0.47387864  0.67523455 -1.          1.         -1.\n",
      "  1.          0.18967731  1.        ]\n",
      "Best mean score: 39.76\n",
      "New weights: [-1.         -0.03433781 -0.35463149 -1.          1.         -1.\n",
      "  1.          0.22362722  1.        ]\n",
      "Best mean score: 37.25\n",
      "New weights: [-1.          0.91248994  0.92047588 -1.          1.         -1.\n",
      "  1.          0.65623756  1.        ]\n",
      "Best mean score: 40.67\n",
      "New weights: [-1.         -0.1657364   0.60259237 -1.          1.         -1.\n",
      "  1.          0.37669514  1.        ]\n",
      "Best mean score: 40.39\n",
      "New weights: [-1.         -0.03433781 -0.35463149 -1.          1.         -1.\n",
      "  1.          0.22362722  1.        ]\n",
      "Best mean score: 40.06\n",
      "New weights: [-1.          0.46342284  0.32995187 -1.          1.         -1.\n",
      "  1.         -0.78520615  1.        ]\n",
      "Best mean score: 39.9\n",
      "New weights: [-1.          0.56346813 -1.         -1.          1.         -1.\n",
      "  1.         -0.23363613  1.        ]\n",
      "Best mean score: 39.54\n",
      "New weights: [-1.         -0.01319001 -1.         -1.          1.         -1.\n",
      "  1.          0.75866448  1.        ]\n",
      "Best mean score: 38.57\n",
      "New weights: [-1.          0.56346813 -1.         -1.          1.         -1.\n",
      "  1.         -0.23363613  1.        ]\n",
      "Best mean score: 39.25\n",
      "New weights: [-1.          0.51377927 -1.         -1.          1.         -1.\n",
      "  1.          0.72193149  1.        ]\n",
      "Best mean score: 40.88\n",
      "New weights: [-1.          1.         -1.         -1.          1.         -1.\n",
      "  1.          0.75947424  1.        ]\n",
      "Best mean score: 39.41\n",
      "New weights: [-1.          1.         -1.         -1.          1.         -1.\n",
      "  1.         -0.19540036  1.        ]\n",
      "Best mean score: 39.29\n",
      "New weights: [-1.          1.         -1.         -1.          1.         -1.\n",
      "  1.          0.37669514  1.        ]\n",
      "Best mean score: 40.97\n",
      "New weights: [-1.          1.         -1.         -1.          1.         -1.\n",
      "  1.          0.75947424  1.        ]\n",
      "Best mean score: 40.3\n",
      "New weights: [-1.          1.         -1.         -1.          1.         -1.\n",
      "  1.         -0.56285225  1.        ]\n",
      "Best mean score: 40.41\n"
     ]
    }
   ],
   "source": [
    "for rounds in range(25):\n",
    "    X = np.array([i[\"actor\"].w for i in results])\n",
    "    y = [-i[\"mean\"] for i in results]\n",
    "    model = ElasticNetCV()\n",
    "\n",
    "    model.fit(X, y)\n",
    "\n",
    "    def function(x):\n",
    "        return model.predict([x])\n",
    "\n",
    "    optim_result = minimize(\n",
    "        function, \n",
    "        X[np.random.randint(X.shape[0]),:],\n",
    "        bounds = ((-1,1),(-1,1),(-1,1),(-1,1),(-1,1),(-1,1),(-1,1),(-1,1),(-1,1)), \n",
    "        options={\"maxiter\":1000, \"disp\":False}\n",
    "        )\n",
    "\n",
    "    new_weights = optim_result[\"x\"]\n",
    "    \n",
    "    print(f\"New weights: {new_weights}\")\n",
    "\n",
    "    new_actors = [i[\"actor\"] for i in results]\n",
    "    new_actors.append(actors.ComplexActor(new_weights))\n",
    "\n",
    "    results = []\n",
    "\n",
    "    for actor in new_actors:\n",
    "        results.append(trial_actor(actor))\n",
    "\n",
    "    print(f\"Best mean score: {max([i['mean'] for i in results])}\")"
   ]
  },
  {
   "cell_type": "code",
   "execution_count": 8,
   "metadata": {},
   "outputs": [
    {
     "name": "stdout",
     "output_type": "stream",
     "text": [
      "{'actor': <actors.ComplexActor object at 0x7fab3f762320>, 'weights': array([-0.1206004 , -0.03058163,  0.74918929, -0.82805002,  0.94920338,\n",
      "       -0.65548428,  0.56143857, -0.17891737,  0.4913803 ]), 'minimum': 24.0, 'maximum': 62.0, 'mean': 40.41}\n"
     ]
    },
    {
     "data": {
      "text/html": [
       "<img src='./model_complex.gif'>"
      ],
      "text/plain": [
       "<IPython.core.display.HTML object>"
      ]
     },
     "execution_count": 8,
     "metadata": {},
     "output_type": "execute_result"
    }
   ],
   "source": [
    "winner = sorted(results, key=lambda x: x[\"mean\"], reverse=True)[0]\n",
    "\n",
    "print(winner)\n",
    "\n",
    "HTML(f\"<img src='./{winner['actor'].render('model_complex.gif')}'>\")"
   ]
  },
  {
   "cell_type": "code",
   "execution_count": null,
   "metadata": {},
   "outputs": [],
   "source": []
  }
 ],
 "metadata": {
  "kernelspec": {
   "display_name": "Python 3",
   "language": "python",
   "name": "python3"
  },
  "language_info": {
   "codemirror_mode": {
    "name": "ipython",
    "version": 3
   },
   "file_extension": ".py",
   "mimetype": "text/x-python",
   "name": "python",
   "nbconvert_exporter": "python",
   "pygments_lexer": "ipython3",
   "version": "3.6.5"
  }
 },
 "nbformat": 4,
 "nbformat_minor": 2
}
