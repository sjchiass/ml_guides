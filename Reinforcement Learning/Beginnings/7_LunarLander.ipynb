{
 "cells": [
  {
   "cell_type": "markdown",
   "metadata": {},
   "source": [
    "# The Lunar Lander: How Moon Craters Are Made\n",
    "\n",
    "A cool little game you may have played before. You control the craft's angle and can apply the retrorocket. See the rules [here](https://github.com/openai/gym/wiki/Leaderboard#lunarlander-v2)."
   ]
  },
  {
   "cell_type": "code",
   "execution_count": 1,
   "metadata": {},
   "outputs": [],
   "source": [
    "# Display GIFs in Jupyter\n",
    "from IPython.display import HTML\n",
    "\n",
    "# OpenAI gym\n",
    "import gym\n",
    "\n",
    "# Import local script\n",
    "import agents\n",
    "\n",
    "# numpy\n",
    "import numpy as np\n",
    "\n",
    "# To speed up the algorithm\n",
    "from multiprocessing import Pool\n",
    "n_jobs = 4 # Set your number of cores here"
   ]
  },
  {
   "cell_type": "code",
   "execution_count": 2,
   "metadata": {},
   "outputs": [],
   "source": [
    "def trial_agent(agent, trials=50, limit=500):\n",
    "    env = gym.make(agent.game)\n",
    "\n",
    "    scores = []\n",
    "    for i in range(trials):\n",
    "        observation = env.reset()\n",
    "        rewards = []\n",
    "        for t in range(limit):\n",
    "            action = agent.predict(observation)\n",
    "            observation, reward, done, info = env.step(action)\n",
    "            if done:\n",
    "                break\n",
    "            rewards.append(reward)\n",
    "        scores.append(sum(rewards))\n",
    "        \n",
    "    data_dict = {\n",
    "        \"agent\" : agent, \n",
    "        \"weights\" : agent.w, \n",
    "        \"pedigree\" : agent.pedigree, \n",
    "        \"minimum\" : min(scores), \n",
    "        \"maximum\" : max(scores), \n",
    "        \"mean\" : sum(scores)/len(scores)\n",
    "    }\n",
    "    \n",
    "    env.close()\n",
    "    \n",
    "    return data_dict"
   ]
  },
  {
   "cell_type": "code",
   "execution_count": 3,
   "metadata": {},
   "outputs": [],
   "source": [
    "def genetic_algorithm(results, old=5, new=95, n_parents=2, generations=25, \n",
    "                      mutation_rate=0.01, mutation_amount=0.5, order=1, max_score=499.0, \n",
    "                      game=\"CartPole-v1\"):\n",
    "    for round in range(generations):\n",
    "        # Sort agents by score (fitness)\n",
    "        top_scores = sorted(results, key=lambda x: x[\"mean\"], reverse=True)\n",
    "\n",
    "        # The survival of the fittest. Wikipedia calls this \"elitism\".\n",
    "        # The top agents of a generation are carried over to the next\n",
    "        survivors = top_scores[:old]\n",
    "\n",
    "        # To start breeding new agents, I'll mix weights (genes)\n",
    "        weight_shape = top_scores[0][\"weights\"].shape\n",
    "        gene_pool = [list(i[\"weights\"].flatten()) for i in top_scores]\n",
    "        pedigree_list = [i[\"pedigree\"] for i in top_scores]\n",
    "        genome_size = top_scores[0][\"weights\"].size\n",
    "\n",
    "        # Scores can be negative, so here I make them all positive\n",
    "        # They also need to sum to 1 for random sampling\n",
    "        min_score = min([i[\"mean\"] for i in top_scores])\n",
    "        sum_score = sum([i[\"mean\"]+min_score for i in top_scores])\n",
    "        probs = [(i[\"mean\"]+min_score)/sum_score for i in top_scores]\n",
    "\n",
    "        # For each new agent, randomly select parents\n",
    "        # Higher-fitness agents are likelier to sire new agents\n",
    "        children = []\n",
    "        for birth in range(new):\n",
    "            parents = np.random.choice(np.arange(len(gene_pool)), \n",
    "                             size=n_parents, \n",
    "                             replace=False, \n",
    "                             p=probs)\n",
    "\n",
    "            # The offspring get a mix of each parent's weights\n",
    "            # The weights (genes) are simply copied over\n",
    "            mix = np.random.randint(0, high=n_parents, size=genome_size)\n",
    "\n",
    "            weights = []\n",
    "            pedigree = []\n",
    "            for i in range(genome_size):\n",
    "                weights.append(gene_pool[parents[mix[i]]][i])\n",
    "                pedigree.append(pedigree_list[parents[mix[i]]][i])\n",
    "                # A mutation happens rarely and adds a bit of noise to a gene\n",
    "                if np.random.random(1) < mutation_rate:\n",
    "                    weights[i] += float(np.random.normal(0, mutation_amount, 1))\n",
    "                    pedigree[i] += \"M\"\n",
    "\n",
    "            children.append({\"weights\" : weights, \"pedigree\" : pedigree})\n",
    "\n",
    "        # Elitism: the top agents survive to fight another day\n",
    "        new_agents = [i[\"agent\"] for i in survivors]\n",
    "\n",
    "        # The offspring are added it\n",
    "        # With the pedigree variable their ancestors are tracked\n",
    "        for child in children:\n",
    "            new_agents.append(\n",
    "                agents.LinearAgent(\n",
    "                    np.array(child[\"weights\"]).reshape(weight_shape), \n",
    "                    pedigree=child[\"pedigree\"],\n",
    "                    order=order,\n",
    "                    game=game))\n",
    "\n",
    "        # Trial the agents using multiple CPU cores\n",
    "        p = Pool(n_jobs)\n",
    "        results = p.map(trial_agent, new_agents)\n",
    "        p.close()\n",
    "        \n",
    "        results = sorted(results, key=lambda x: x[\"mean\"], reverse=True)\n",
    "\n",
    "        print(f\"[{round+1:3}] Population average: {sum([i['mean'] for i in results])/len(results):5.1f}\")\n",
    "        print(f\"[{round+1:3}] Best mean score:    {results[0]['mean']:5.1f}, Pedigree: {'-'.join(results[0]['pedigree'])}\")\n",
    "        print()\n",
    "        \n",
    "        # End early if maximum is reached\n",
    "        if results[0]['mean'] >= max_score:\n",
    "            print(f\"[{round+1:3}] Best score reached, ending early\")\n",
    "            break\n",
    "    return results"
   ]
  },
  {
   "cell_type": "markdown",
   "metadata": {},
   "source": [
    "## Simple agent\n",
    "\n",
    "I got this to work with a simple first-oder softmax regression agent. Since there are more parameters to work with, it seems important to use a larger population. This must expand the algorithm's search space."
   ]
  },
  {
   "cell_type": "code",
   "execution_count": 4,
   "metadata": {},
   "outputs": [
    {
     "data": {
      "text/html": [
       "<img src='./images/lander_0.gif'>"
      ],
      "text/plain": [
       "<IPython.core.display.HTML object>"
      ]
     },
     "execution_count": 4,
     "metadata": {},
     "output_type": "execute_result"
    }
   ],
   "source": [
    "results = []\n",
    "\n",
    "for a in range(200):\n",
    "    results.append(trial_agent(agents.LinearAgent(None, id=a, order=1, game=\"LunarLander-v2\")))\n",
    "\n",
    "winner = sorted(results, key=lambda x: x[\"mean\"], reverse=True)[0]\n",
    "\n",
    "HTML(f\"<img src='{winner['agent'].render('lander_0.gif', limit=500)}'>\")"
   ]
  },
  {
   "cell_type": "code",
   "execution_count": 5,
   "metadata": {},
   "outputs": [
    {
     "name": "stdout",
     "output_type": "stream",
     "text": [
      "[  1] Population average: -352.0\n",
      "[  1] Best mean score:      2.8, Pedigree: 185-185-185-185-185-185-185-185-185-185-185-185-185-185-185-185-185-185-185-185-185-185-185-185-185-185-185-185-185-185-185-185-185-185-185-185\n",
      "\n",
      "[  2] Population average: -372.0\n",
      "[  2] Best mean score:     12.3, Pedigree: 183-177-183-183-13-13-177-183-187M-177-183-187-13-13-177-13-177-183-183-177-177-183-177-13-13-177-177-187-177-13-177-187-177-13-13-13\n",
      "\n",
      "[  3] Population average: -361.8\n",
      "[  3] Best mean score:     15.8, Pedigree: 183-177-183-183-13-13-177-183-187M-177-183-187-13-13-177-13-177-183-183-177-177-183-177-13-13-177-177-187-177-13-177-187-177-13-13-13\n",
      "\n",
      "[  4] Population average: -342.8\n",
      "[  4] Best mean score:     20.5, Pedigree: 183-177-183-183-13-13-177-183-187M-177-183-187-13-13-177-13-177-183-183-177-177-183-177-13-13-177-177-187-177-13-177-187-177-13-13-13\n",
      "\n",
      "[  5] Population average: -360.2\n",
      "[  5] Best mean score:     42.4, Pedigree: 70-71-20-29-58-17-17-114-86-185-20M-17-61-61-56-185-25-81M-70-29-70-90-71-25-114-181-81-56-81-54-17-17-185-185-81-185\n",
      "\n",
      "[  6] Population average: -360.8\n",
      "[  6] Best mean score:     39.5, Pedigree: 37-154-130-20-48M-175-20-176-25-92-92-122-85-175-122-0M-122-198-85-20-37-198-20-20-58-185-0-58-64-175-176-198-20-20-163-159\n",
      "\n",
      "[  7] Population average: -367.4\n",
      "[  7] Best mean score:     39.9, Pedigree: 70-71-20-29-58-17-17-114-86-185-20M-17-61-61-56-185-25-81M-70-29-70-90-71-25-114-181-81-56-81-54-17-17-185-185-81-185\n",
      "\n",
      "[  8] Population average: -373.0\n",
      "[  8] Best mean score:     56.5, Pedigree: 70-71-20-29-58-17-17-114-86-185-20M-17-61-61-56-185-25-81M-70-29-70-90-71-25-114-181-81-56-81-54-17-17-185-185-81-185\n",
      "\n",
      "[  9] Population average: -341.9\n",
      "[  9] Best mean score:     32.6, Pedigree: 183-177-183-183-13-13-177-183-187M-177-183-187-13-13-177-13-177-183-183-177-177-183-177-13-13-177-177-187-177-13-177-187-177-13-13-13\n",
      "\n",
      "[ 10] Population average: -315.0\n",
      "[ 10] Best mean score:     45.6, Pedigree: 70-71-20-29-58-17-17-114-86-185-20M-17-61-61-56-185-25-81M-70-29-70-90-71-25-114-181-81-56-81-54-17-17-185-185-81-185\n",
      "\n",
      "[ 11] Population average: -341.4\n",
      "[ 11] Best mean score:     55.8, Pedigree: 70-71-20-29-58-17-17-114-86-185-20M-17-61-61-56-185-25-81M-70-29-70-90-71-25-114-181-81-56-81-54-17-17-185-185-81-185\n",
      "\n",
      "[ 12] Population average: -362.5\n",
      "[ 12] Best mean score:     57.9, Pedigree: 70-71-20-29-58-17-17-114-86-185-20M-17-61-61-56-185-25-81M-70-29-70-90-71-25-114-181-81-56-81-54-17-17-185-185-81-185\n",
      "\n",
      "[ 13] Population average: -362.2\n",
      "[ 13] Best mean score:     41.5, Pedigree: 185-185-185-119-185-174-46-114-185-185-176-86-122-185-185-185-5-185-185-185-185-90-185-5-185-185-8-133-1-37-132-185-185-139-185-21\n",
      "\n",
      "[ 14] Population average: -372.0\n",
      "[ 14] Best mean score:     68.9, Pedigree: 70-71-20-29-58-17-17-114-86-185-20M-17-61-61-56-185-25-81M-70-29-70-90-71-25-114-181-81-56-81-54-17-17-185-185-81-185\n",
      "\n",
      "[ 15] Population average: -382.5\n",
      "[ 15] Best mean score:     33.4, Pedigree: 185-142-128-18M-37-72-86M-75-185-89-183-177-85-81-132-185-122-117-5-142-8-185-198-75-173-5-181-67-185-185-185-49-185M-2-83-89\n",
      "\n",
      "[ 16] Population average: -377.7\n",
      "[ 16] Best mean score:     64.1, Pedigree: 70-71-20-29-58-17-17-114-86-185-20M-17-61-61-56-185-25-81M-70-29-70-90-71-25-114-181-81-56-81-54-17-17-185-185-81-185\n",
      "\n",
      "[ 17] Population average: -352.9\n",
      "[ 17] Best mean score:     38.3, Pedigree: 70-71-20-29-58-17-17-114-86-185-20M-17-61-61-56-185-25-81M-70-29-70-90-71-25-114-181-81-56-81-54-17-17-185-185-81-185\n",
      "\n",
      "[ 18] Population average: -372.9\n",
      "[ 18] Best mean score:     63.7, Pedigree: 70-71-20-29-58-17-17-114-86-185-20M-17-61-61-56-185-25-81M-70-29-70-90-71-25-114-181-81-56-81-54-17-17-185-185-81-185\n",
      "\n",
      "[ 19] Population average: -354.8\n",
      "[ 19] Best mean score:     66.2, Pedigree: 70-71-20-29-58-17-17-114-86-185-20M-17-61-61-56-185-25-81M-70-29-70-90-71-25-114-181-81-56-81-54-17-17-185-185-81-185\n",
      "\n",
      "[ 20] Population average: -350.0\n",
      "[ 20] Best mean score:     43.8, Pedigree: 5-58-20M-70-58M-174-46-58-37-185-176-86-122-81-99M-185-25-117-70-90-70-90-71-25-83-185-8-133-60-54-17-67-97-198-185-69\n",
      "\n"
     ]
    },
    {
     "data": {
      "text/html": [
       "<img src='./images/lander_20.gif'>"
      ],
      "text/plain": [
       "<IPython.core.display.HTML object>"
      ]
     },
     "execution_count": 5,
     "metadata": {},
     "output_type": "execute_result"
    }
   ],
   "source": [
    "results = genetic_algorithm(results, old=25, new=175, generations=20, order=1, max_score=200.0, game=\"LunarLander-v2\")\n",
    "\n",
    "winner = sorted(results, key=lambda x: x[\"mean\"], reverse=True)[0]\n",
    "\n",
    "HTML(f\"<img src='{winner['agent'].render('lander_20.gif', limit=500)}'>\")"
   ]
  },
  {
   "cell_type": "code",
   "execution_count": 6,
   "metadata": {},
   "outputs": [
    {
     "name": "stdout",
     "output_type": "stream",
     "text": [
      "[  1] Population average: -359.2\n",
      "[  1] Best mean score:     81.9, Pedigree: 156M-52-43M-92-178-119-46M-75-97-20-183-49M-25-130MM-64-128-185-82-185-40-8-3-139-185-173-82-105-58-119-105-17-174-71M-139-185-128\n",
      "\n",
      "[  2] Population average: -368.6\n",
      "[  2] Best mean score:     85.4, Pedigree: 156M-52-43M-92-178-119-46M-75-97-20-183-49M-25-130MM-64-128-185-82-185-40-8-3-139-185-173-82-105-58-119-105-17-174-71M-139-185-128\n",
      "\n",
      "[  3] Population average: -353.5\n",
      "[  3] Best mean score:     96.8, Pedigree: 156M-52-43M-92-178-119-46M-75-97-20-183-49M-25-130MM-64-128-185-82-185-40-8-3-139-185-173-82-105-58-119-105-17-174-71M-139-185-128\n",
      "\n",
      "[  4] Population average: -355.2\n",
      "[  4] Best mean score:     92.2, Pedigree: 156M-52-43M-92-178-119-46M-75-97-20-183-49M-25-130MM-64-128-185-82-185-40-8-3-139-185-173-82-105-58-119-105-17-174-71M-139-185-128\n",
      "\n",
      "[  5] Population average: -371.7\n",
      "[  5] Best mean score:     87.7, Pedigree: 156M-52-43M-92-178-119-46M-75-97-20-183-49M-25-130MM-64-128-185-82-185-40-8-3-139-185-173-82-105-58-119-105-17-174-71M-139-185-128\n",
      "\n",
      "[  6] Population average: -373.8\n",
      "[  6] Best mean score:     88.2, Pedigree: 156M-52-43M-92-178-119-46M-75-97-20-183-49M-25-130MM-64-128-185-82-185-40-8-3-139-185-173-82-105-58-119-105-17-174-71M-139-185-128\n",
      "\n",
      "[  7] Population average: -389.8\n",
      "[  7] Best mean score:     82.1, Pedigree: 5-56M-64-92M-185-119-179-75-144-20-119M-187-117-161-185-33-122-185-185-172M-169-122-179-75-69-177-8-67-43M-119-185-185-97-67-185-185\n",
      "\n",
      "[  8] Population average: -359.1\n",
      "[  8] Best mean score:     91.6, Pedigree: 156M-52-43M-92-178-119-46M-75-97-20-183-49M-25-130MM-64-128-185-82-185-40-8-3-139-185-173-82-105-58-119-105-17-174-71M-139-185-128\n",
      "\n",
      "[  9] Population average: -376.4\n",
      "[  9] Best mean score:     90.2, Pedigree: 156M-52-43M-92-178-119-46M-75-97-20-183-49M-25-130MM-64-128-185-82-185-40-8-3-139-185-173-82-105-58-119-105-17-174-71M-139-185-128\n",
      "\n",
      "[ 10] Population average: -406.3\n",
      "[ 10] Best mean score:     84.8, Pedigree: 5-56M-64-92M-185-119-179-75-144-20-119M-187-117-161-185-33-122-185-185-172M-169-122-179-75-69-177-8-67-43M-119-185-185-97-67-185-185\n",
      "\n",
      "[ 11] Population average: -385.0\n",
      "[ 11] Best mean score:     96.8, Pedigree: 156M-52-43M-92-178-119-46M-75-97-20-183-49M-25-130MM-64-128-185-82-185-40-8-3-139-185-173-82-105-58-119-105-17-174-71M-139-185-128\n",
      "\n",
      "[ 12] Population average: -392.2\n",
      "[ 12] Best mean score:     86.2, Pedigree: 5-56M-64-92M-185-119-179-75-144-20-119M-187-117-161-185-33-122-185-185-172M-169-122-179-75-69-177-8-67-43M-119-185-185-97-67-185-185\n",
      "\n",
      "[ 13] Population average: -404.8\n",
      "[ 13] Best mean score:     89.8, Pedigree: 156M-52-43M-92-178-119-46M-75-97-20-183-49M-25-130MM-64-128-185-82-185-40-8-3-139-185-173-82-105-58-119-105-17-174-71M-139-185-128\n",
      "\n",
      "[ 14] Population average: -412.6\n",
      "[ 14] Best mean score:     95.7, Pedigree: 156M-52-43M-92-178-119-46M-75-97-20-183-49M-25-130MM-64-128-185-82-185-40-8-3-139-185-173-82-105-58-119-105-17-174-71M-139-185-128\n",
      "\n",
      "[ 15] Population average: -387.0\n",
      "[ 15] Best mean score:     95.9, Pedigree: 156M-52-43M-92-178-119-46M-75-97-20-183-49M-25-130MM-64-128-185-82-185-40-8-3-139-185-173-82-105-58-119-105-17-174-71M-139-185-128\n",
      "\n",
      "[ 16] Population average: -408.1\n",
      "[ 16] Best mean score:     85.1, Pedigree: 156M-52-43M-92-178-119-46M-75-97-20-183-49M-25-130MM-64-128-185-82-185-40-8-3-139-185-173-82-105-58-119-105-17-174-71M-139-185-128\n",
      "\n",
      "[ 17] Population average: -388.0\n",
      "[ 17] Best mean score:     78.3, Pedigree: 5-56M-64-92M-185-119-179-75-144-20-119M-187-117-161-185-33-122-185-185-172M-169-122-179-75-69-177-8-67-43M-119-185-185-97-67-185-185\n",
      "\n",
      "[ 18] Population average: -422.6\n",
      "[ 18] Best mean score:     83.8, Pedigree: 5-56M-64-92M-185-119-179-75-144-20-119M-187-117-161-185-33-122-185-185-172M-169-122-179-75-69-177-8-67-43M-119-185-185-97-67-185-185\n",
      "\n",
      "[ 19] Population average: -404.2\n",
      "[ 19] Best mean score:     97.7, Pedigree: 156M-52-43M-92-178-119-46M-75-97-20-183-49M-25-130MM-64-128-185-82-185-40-8-3-139-185-173-82-105-58-119-105-17-174-71M-139-185-128\n",
      "\n",
      "[ 20] Population average: -373.3\n",
      "[ 20] Best mean score:    103.1, Pedigree: 67M-119-64-92-48M-72-86M-69-131-185-43-5-170M-81-185-128M-25M-186-185-40-48-160-185-81-49-70M-81-67-126-5-198-49-117M-185-81-185\n",
      "\n"
     ]
    },
    {
     "data": {
      "text/html": [
       "<img src='./images/lander_40.gif'>"
      ],
      "text/plain": [
       "<IPython.core.display.HTML object>"
      ]
     },
     "execution_count": 6,
     "metadata": {},
     "output_type": "execute_result"
    }
   ],
   "source": [
    "results = genetic_algorithm(results, old=25, new=175, generations=20, order=1, max_score=200.0, game=\"LunarLander-v2\")\n",
    "\n",
    "winner = sorted(results, key=lambda x: x[\"mean\"], reverse=True)[0]\n",
    "\n",
    "HTML(f\"<img src='{winner['agent'].render('lander_40.gif', limit=500)}'>\")"
   ]
  },
  {
   "cell_type": "code",
   "execution_count": 7,
   "metadata": {},
   "outputs": [
    {
     "name": "stdout",
     "output_type": "stream",
     "text": [
      "[  1] Population average: -403.4\n",
      "[  1] Best mean score:     98.1, Pedigree: 67M-119-64-92-48M-72-86M-69-131-185-43-5-170M-81-185-128M-25M-186-185-40-48-160-185-81-49-70M-81-67-126-5-198-49-117M-185-81-185\n",
      "\n",
      "[  2] Population average: -433.6\n",
      "[  2] Best mean score:    105.2, Pedigree: 67M-119-64-92-48M-72-86M-69-131-185-43-5-170M-81-185-128M-25M-186-185-40-48-160-185-81-49-70M-81-67-126-5-198-49-117M-185-81-185\n",
      "\n",
      "[  3] Population average: -451.6\n",
      "[  3] Best mean score:    102.9, Pedigree: 67M-119-64-92-48M-72-86M-69-131-185-43-5-170M-81-185-128M-25M-186-185-40-48-160-185-81-49-70M-81-67-126-5-198-49-117M-185-81-185\n",
      "\n",
      "[  4] Population average: -446.1\n",
      "[  4] Best mean score:    117.0, Pedigree: 5-119-43-197-118M-119-180-183-187M-133-105-86-117-166-177-33-56-185-185-113M-58-160-179-81-49-70M-8-67-43-119-41-136M-185-185-117-185\n",
      "\n",
      "[  5] Population average: -454.0\n",
      "[  5] Best mean score:    119.2, Pedigree: 5-119-43-197-118M-119-180-183-187M-133-105-86-117-166-177-33-56-185-185-113M-58-160-179-81-49-70M-8-67-43-119-41-136M-185-185-117-185\n",
      "\n",
      "[  6] Population average: -443.4\n",
      "[  6] Best mean score:    115.5, Pedigree: 5-119-43-197-118M-119-180-183-187M-133-105-86-117-166-177-33-56-185-185-113M-58-160-179-81-49-70M-8-67-43-119-41-136M-185-185-117-185\n",
      "\n",
      "[  7] Population average: -461.4\n",
      "[  7] Best mean score:    125.2, Pedigree: 5-119-43-197-118M-119-180-183-187M-133-105-86-117-166-177-33-56-185-185-113M-58-160-179-81-49-70M-8-67-43-119-41-136M-185-185-117-185\n",
      "\n",
      "[  8] Population average: -477.4\n",
      "[  8] Best mean score:    123.4, Pedigree: 5-119-43-197-118M-119-180-183-187M-133-105-86-117-166-177-33-56-185-185-113M-58-160-179-81-49-70M-8-67-43-119-41-136M-185-185-117-185\n",
      "\n",
      "[  9] Population average: -498.8\n",
      "[  9] Best mean score:    122.1, Pedigree: 5-119-43-197-118M-119-180-183-187M-133-105-86-117-166-177-33-56-185-185-113M-58-160-179-81-49-70M-8-67-43-119-41-136M-185-185-117-185\n",
      "\n",
      "[ 10] Population average: -510.6\n",
      "[ 10] Best mean score:    118.5, Pedigree: 5-119-43-197-118M-119-180-183-187M-133-105-86-117-166-177-33-56-185-185-113M-58-160-179-81-49-70M-8-67-43-119-41-136M-185-185-117-185\n",
      "\n",
      "[ 11] Population average: -505.6\n",
      "[ 11] Best mean score:    122.2, Pedigree: 5-119-43-197-118M-119-180-183-187M-133-105-86-117-166-177-33-56-185-185-113M-58-160-179-81-49-70M-8-67-43-119-41-136M-185-185-117-185\n",
      "\n",
      "[ 12] Population average: -493.5\n",
      "[ 12] Best mean score:    123.8, Pedigree: 5-119-43-197-118M-119-180-183-187M-133-105-86-117-166-177-33-56-185-185-113M-58-160-179-81-49-70M-8-67-43-119-41-136M-185-185-117-185\n",
      "\n",
      "[ 13] Population average: -489.3\n",
      "[ 13] Best mean score:    123.3, Pedigree: 5-119-43-197-118M-119-180-183-187M-133-105-86-117-166-177-33-56-185-185-113M-58-160-179-81-49-70M-8-67-43-119-41-136M-185-185-117-185\n",
      "\n",
      "[ 14] Population average: -473.3\n",
      "[ 14] Best mean score:    122.6, Pedigree: 5-119-43-197-118M-119-180-183-187M-133-105-86-117-166-177-33-56-185-185-113M-58-160-179-81-49-70M-8-67-43-119-41-136M-185-185-117-185\n",
      "\n",
      "[ 15] Population average: -486.3\n",
      "[ 15] Best mean score:    124.4, Pedigree: 5-119-43-197-118M-119-180-183-187M-133-105-86-117-166-177-33-56-185-185-113M-58-160-179-81-49-70M-8-67-43-119-41-136M-185-185-117-185\n",
      "\n",
      "[ 16] Population average: -483.5\n",
      "[ 16] Best mean score:    124.6, Pedigree: 5-119-43-197-118M-119-180-183-187M-133-105-86-117-166-177-33-56-185-185-113M-58-160-179-81-49-70M-8-67-43-119-41-136M-185-185-117-185\n",
      "\n",
      "[ 17] Population average: -495.9\n",
      "[ 17] Best mean score:    125.6, Pedigree: 5-119-43-197-118M-119-180-183-187M-133-105-86-117-166-177-33-56-185-185-113M-58-160-179-81-49-70M-8-67-43-119-41-136M-185-185-117-185\n",
      "\n",
      "[ 18] Population average: -437.4\n",
      "[ 18] Best mean score:    115.8, Pedigree: 5-119-43-197-118M-119-180-183-187M-133-105-86-117-166-177-33-56-185-185-113M-58-160-179-81-49-70M-8-67-43-119-41-136M-185-185-117-185\n",
      "\n",
      "[ 19] Population average: -455.4\n",
      "[ 19] Best mean score:    120.2, Pedigree: 5-119-43-197-118M-119-180-183-187M-133-105-86-117-166-177-33-56-185-185-113M-58-160-179-81-49-70M-8-67-43-119-41-136M-185-185-117-185\n",
      "\n",
      "[ 20] Population average: -457.7\n",
      "[ 20] Best mean score:    122.7, Pedigree: 5-119-43-197-118M-119-180-183-187M-133-105-86-117-166-177-33-56-185-185-113M-58-160-179-81-49-70M-8-67-43-119-41-136M-185-185-117-185\n",
      "\n"
     ]
    },
    {
     "data": {
      "text/html": [
       "<img src='./images/lander_60.gif'>"
      ],
      "text/plain": [
       "<IPython.core.display.HTML object>"
      ]
     },
     "execution_count": 7,
     "metadata": {},
     "output_type": "execute_result"
    }
   ],
   "source": [
    "results = genetic_algorithm(results, old=25, new=175, generations=20, order=1, max_score=200.0, game=\"LunarLander-v2\")\n",
    "\n",
    "winner = sorted(results, key=lambda x: x[\"mean\"], reverse=True)[0]\n",
    "\n",
    "HTML(f\"<img src='{winner['agent'].render('lander_60.gif', limit=500)}'>\")"
   ]
  },
  {
   "cell_type": "code",
   "execution_count": 8,
   "metadata": {},
   "outputs": [
    {
     "name": "stdout",
     "output_type": "stream",
     "text": [
      "[  1] Population average: -444.1\n",
      "[  1] Best mean score:    115.6, Pedigree: 5-119-43-197-118M-119-180-183-187M-133-105-86-117-166-177-33-56-185-185-113M-58-160-179-81-49-70M-8-67-43-119-41-136M-185-185-117-185\n",
      "\n",
      "[  2] Population average: -444.6\n",
      "[  2] Best mean score:    123.5, Pedigree: 68M-71-75-92-185-98MM-86M-119-49-185-183-5-25-185-56M-81-56-183-185-40-48-185-179-75-49-82M-121M-58-119-119-132-49-97-185-13-185\n",
      "\n",
      "[  3] Population average: -417.8\n",
      "[  3] Best mean score:    124.2, Pedigree: 5-119-43-197-118M-119-180-183-187M-133-105-86-117-166-177-33-56-185-185-113M-58-160-179-81-49-70M-8-67-43-119-41-136M-185-185-117-185\n",
      "\n",
      "[  4] Population average: -442.0\n",
      "[  4] Best mean score:    129.5, Pedigree: 5-119-43-197-118M-119-180-183-187M-133-105-86-117-166-177-33-56-185-185-113M-58-160-179-81-49-70M-8-67-43-119-41-136M-185-185-117-185\n",
      "\n",
      "[  5] Population average: -469.9\n",
      "[  5] Best mean score:    123.5, Pedigree: 5-119-43-197-118M-119-180-183-187M-133-105-86-117-166-177-33-56-185-185-113M-58-160-179-81-49-70M-8-67-43-119-41-136M-185-185-117-185\n",
      "\n",
      "[  6] Population average: -454.2\n",
      "[  6] Best mean score:    125.0, Pedigree: 67M-71-64-119-13-64-177-114-37M-185-43-5-117-61-177-81-56-186-185-29-169-160-185-81-49-70M-81-67-43-119-41-189M-43-185-81-185\n",
      "\n",
      "[  7] Population average: -470.8\n",
      "[  7] Best mean score:    123.3, Pedigree: 5-119-43-197-118M-119-180-183-187M-133-105-86-117-166-177-33-56-185-185-113M-58-160-179-81-49-70M-8-67-43-119-41-136M-185-185-117-185\n",
      "\n",
      "[  8] Population average: -425.0\n",
      "[  8] Best mean score:    123.6, Pedigree: 67M-71-64-119-13-64-177-114-37M-185-43-5-117-61-177-81-56-186-185-29-169-160-185-81-49-70M-81-67-43-119-41-189M-43-185-81-185\n",
      "\n",
      "[  9] Population average: -433.1\n",
      "[  9] Best mean score:    119.7, Pedigree: 5-119-43-197-118M-119-180-183-187M-133-105-86-117-166-177-33-56-185-185-113M-58-160-179-81-49-70M-8-67-43-119-41-136M-185-185-117-185\n",
      "\n",
      "[ 10] Population average: -457.9\n",
      "[ 10] Best mean score:    130.5, Pedigree: 5-71-64-197-178-119-180-185-144M-133-105-17-86M-81M-64-0M-25M-117M-185-142-58-90M-139-81-69-70M-0-67M-43MM-5-41-49-117M-185-81-185\n",
      "\n",
      "[ 11] Population average: -496.0\n",
      "[ 11] Best mean score:    122.0, Pedigree: 67M-71-64-119-13-64-177-114-37M-185-43-5-117-61-177-81-56-186-185-29-169-160-185-81-49-70M-81-67-43-119-41-189M-43-185-81-185\n",
      "\n",
      "[ 12] Population average: -479.0\n",
      "[ 12] Best mean score:    130.2, Pedigree: 5-71-64-119-48M-119-86MMM-75-144M-133-105-17-170M-61-132-0M-122-117M-174-142-58-90M-119-81-69-185-121-67-185-5-41-49-117M-2-117-185\n",
      "\n",
      "[ 13] Population average: -453.7\n",
      "[ 13] Best mean score:    140.0, Pedigree: 71-71-43-119-13-119-17-75-86-133-43-17-117M-61-151-33-56-81M-185-90-58-160-71-81-173-82-121-67-185-119-41-174-117M-185-81M-179M\n",
      "\n",
      "[ 14] Population average: -464.9\n",
      "[ 14] Best mean score:    139.5, Pedigree: 71-71-43-119-13-119-17-75-86-133-43-17-117M-61-151-33-56-81M-185-90-58-160-71-81-173-82-121-67-185-119-41-174-117M-185-81M-179M\n",
      "\n",
      "[ 15] Population average: -454.1\n",
      "[ 15] Best mean score:    131.4, Pedigree: 71-71-43-119-13-119-17-75-86-133-43-17-117M-61-151-33-56-81M-185-90-58-160-71-81-173-82-121-67-185-119-41-174-117M-185-81M-179M\n",
      "\n",
      "[ 16] Population average: -409.8\n",
      "[ 16] Best mean score:    140.2, Pedigree: 71-71-43-119-13-119-17-75-86-133-43-17-117M-61-151-33-56-81M-185-90-58-160-71-81-173-82-121-67-185-119-41-174-117M-185-81M-179M\n",
      "\n",
      "[ 17] Population average: -456.9\n",
      "[ 17] Best mean score:    126.8, Pedigree: 5-71-64-197-178-119-180-185-144M-133-105-17-86M-81M-64-0M-25M-117M-185-142-58-90M-139-81-69-70M-0-67M-43MM-5-41-49-117M-185-81-185\n",
      "\n",
      "[ 18] Population average: -421.1\n",
      "[ 18] Best mean score:    135.6, Pedigree: 71-71-43-119-13-119-17-75-86-133-43-17-117M-61-151-33-56-81M-185-90-58-160-71-81-173-82-121-67-185-119-41-174-117M-185-81M-179M\n",
      "\n",
      "[ 19] Population average: -426.4\n",
      "[ 19] Best mean score:    147.7, Pedigree: 71-71-43-119-13-119-17-75-86-133-43-17-117M-61-151-33-56-81M-185-90-58-160-71-81-173-82-121-67-185-119-41-174-117M-185-81M-179M\n",
      "\n",
      "[ 20] Population average: -432.1\n",
      "[ 20] Best mean score:    133.2, Pedigree: 71-71-43-119-13-119-17-75-86-133-43-17-117M-61-151-33-56-81M-185-90-58-160-71-81-173-82-121-67-185-119-41-174-117M-185-81M-179M\n",
      "\n"
     ]
    },
    {
     "data": {
      "text/html": [
       "<img src='./images/lander_80.gif'>"
      ],
      "text/plain": [
       "<IPython.core.display.HTML object>"
      ]
     },
     "execution_count": 8,
     "metadata": {},
     "output_type": "execute_result"
    }
   ],
   "source": [
    "results = genetic_algorithm(results, old=25, new=175, generations=20, order=1, max_score=200.0, game=\"LunarLander-v2\")\n",
    "\n",
    "winner = sorted(results, key=lambda x: x[\"mean\"], reverse=True)[0]\n",
    "\n",
    "HTML(f\"<img src='{winner['agent'].render('lander_80.gif', limit=500)}'>\")"
   ]
  },
  {
   "cell_type": "code",
   "execution_count": 9,
   "metadata": {},
   "outputs": [
    {
     "name": "stdout",
     "output_type": "stream",
     "text": [
      "[  1] Population average: -425.1\n",
      "[  1] Best mean score:    138.6, Pedigree: 71-71-43-119-13-119-17-75-86-133-43-17-117M-61-151-33-56-81M-185-90-58-160-71-81-173-82-121-67-185-119-41-174-117M-185-81M-179M\n",
      "\n",
      "[  2] Population average: -435.2\n",
      "[  2] Best mean score:    129.8, Pedigree: 71-71-43-119-13-119-198-114-131-133-43-5-117-61-132-81M-56-81M-185-29-169-82-185-81-49-70M-81-67M-43-119-41M-189M-97-20-81-185\n",
      "\n",
      "[  3] Population average: -416.3\n",
      "[  3] Best mean score:    133.7, Pedigree: 71-154-64-119-13-64-198-114-37M-133-43-187-25-61-132-33-25M-186-185-29-169-82-185-81-49-70M-81-67M-43-5-17-189M-43-185-81-185\n",
      "\n",
      "[  4] Population average: -438.3\n",
      "[  4] Best mean score:    135.5, Pedigree: 71-71-43-119-13-119-17-75-86-133-43-17-117M-61-151-33-56-81M-185-90-58-160-71-81-173-82-121-67-185-119-41-174-117M-185-81M-179M\n",
      "\n",
      "[  5] Population average: -405.7\n",
      "[  5] Best mean score:    139.5, Pedigree: 37M-71-43-119-185-72-177-69-86-133-43-5-117-166-177M-0M-56-56-185-90M-169-82-71-75-49-70M-181M-67-43-54-41-189M-117MM-13-13M-185\n",
      "\n",
      "[  6] Population average: -445.6\n",
      "[  6] Best mean score:    139.9, Pedigree: 37M-71-43-119-185-72-177-69-86-133-43-5-117-166-177M-0M-56-56-185-90M-169-82-71-75-49-70M-181M-67-43-54-41-189M-117MM-13-13M-185\n",
      "\n",
      "[  7] Population average: -438.4\n",
      "[  7] Best mean score:    137.1, Pedigree: 5M-119-43-197-185-119-180-183-144M-133-105-86-117-81-177-33-56-186-185M-113M-58-160-179-81-49-70M-86-67-185-119-41-136M-185-185-13M-185\n",
      "\n",
      "[  8] Population average: -412.9\n",
      "[  8] Best mean score:    143.1, Pedigree: 37M-154-43-119-13-72-198-114-86-133-43-5-25-61-132-0M-56-56-185-90M-169-82-185-75-49-70M-81-67-43-5-17-189M-117MM-185-81-185\n",
      "\n",
      "[  9] Population average: -464.4\n",
      "[  9] Best mean score:    142.9, Pedigree: 68M-71M-64-119-13M-98MM-179-114-86M-92M-43-5-117-81-177-81M-25M-186-185-40-169-160-185-81-49-70M-121-9-43-54M-41-189M-117M-20-81-185\n",
      "\n",
      "[ 10] Population average: -405.1\n",
      "[ 10] Best mean score:    142.9, Pedigree: 37M-71-43-119-185-72-177-69-86-133-43-5-117-166-177M-0M-56-56-185-90M-169-82-71-75-49-70M-181M-67-43-54-41-189M-117MM-13-13M-185\n",
      "\n",
      "[ 11] Population average: -406.7\n",
      "[ 11] Best mean score:    149.0, Pedigree: 156M-71-64-197-13-72-177-114-187M-185-43-5-117M-166-177M-0M-122M-81M-185M-40-169-82-185-75-49-185-86-58M-43-5-17-189M-97-185-13M-179M\n",
      "\n",
      "[ 12] Population average: -452.2\n",
      "[ 12] Best mean score:    148.1, Pedigree: 37M-154-43-119-13-72-198-114-86-133-43-5-25-61-132-0M-56-56-185-90M-169-82-185-75-49-70M-81-67-43-5-17-189M-117MM-185-81-185\n",
      "\n",
      "[ 13] Population average: -447.7\n",
      "[ 13] Best mean score:    142.9, Pedigree: 37M-71-43-119-185-72-177-69-86-185-43-5-85-166-177-81-56M-186-185-90M-169-90M-185-75-49-70MM-8-67-159-119-41-49M-117M-13-185-185\n",
      "\n",
      "[ 14] Population average: -455.1\n",
      "[ 14] Best mean score:    145.7, Pedigree: 68M-71M-64-119-13M-98MM-179-114-86M-92M-43-5-117-81-177-81M-25M-186-185-40-169-160-185-81-49-70M-121-9-43-54M-41-189M-117M-20-81-185\n",
      "\n",
      "[ 15] Population average: -481.9\n",
      "[ 15] Best mean score:    149.6, Pedigree: 37M-154-43-119-13-72-198-114-86-133-43-5-25-61-132-0M-56-56-185-90M-169-82-185-75-49-70M-81-67-43-5-17-189M-117MM-185-81-185\n",
      "\n",
      "[ 16] Population average: -402.5\n",
      "[ 16] Best mean score:    145.0, Pedigree: 37M-71-43-119-185-72-177-69-86-133-43-5-117-166-177M-0M-56-56-185-90M-169-82-71-75-49-70M-181M-67-43-54-41-189M-117MM-13-13M-185\n",
      "\n",
      "[ 17] Population average: -404.3\n",
      "[ 17] Best mean score:    147.6, Pedigree: 37M-154-43-119-13-72-198-114-86-133-43-5-25-61-132-0M-56-56-185-90M-169-82-185-75-49-70M-81-67-43-5-17-189M-117MM-185-81-185\n",
      "\n",
      "[ 18] Population average: -409.8\n",
      "[ 18] Best mean score:    145.3, Pedigree: 37M-119-43-119-13-119-179-119M-37M-92M-43-5-86M-81-177-0M-25M-186-185M-113M-58-82-185-75-49-70M-86-67M-185M-5-41-189M-43-20-81-185\n",
      "\n",
      "[ 19] Population average: -428.1\n",
      "[ 19] Best mean score:    149.2, Pedigree: 37M-154-43-119-13-72-198-114-86-133-43-5-25-61-132-0M-56-56-185-90M-169-82-185-75-49-70M-81-67-43-5-17-189M-117MM-185-81-185\n",
      "\n",
      "[ 20] Population average: -379.5\n",
      "[ 20] Best mean score:    148.5, Pedigree: 5-119-43-119-13-119-177-114-37M-185-43-5-86M-61-177M-0MM-56M-56-185-90M-169-82-198M-75-49-70M-81-67-185-5M-41-189M-97-13-13M-179MM\n",
      "\n"
     ]
    },
    {
     "data": {
      "text/html": [
       "<img src='./images/lander_100.gif'>"
      ],
      "text/plain": [
       "<IPython.core.display.HTML object>"
      ]
     },
     "execution_count": 9,
     "metadata": {},
     "output_type": "execute_result"
    }
   ],
   "source": [
    "results = genetic_algorithm(results, old=25, new=175, generations=20, order=1, max_score=200.0, game=\"LunarLander-v2\")\n",
    "\n",
    "winner = sorted(results, key=lambda x: x[\"mean\"], reverse=True)[0]\n",
    "\n",
    "HTML(f\"<img src='{winner['agent'].render('lander_100.gif', limit=500)}'>\")"
   ]
  },
  {
   "cell_type": "markdown",
   "metadata": {},
   "source": [
    "The lander should make reasonable landings."
   ]
  },
  {
   "cell_type": "code",
   "execution_count": null,
   "metadata": {},
   "outputs": [],
   "source": []
  }
 ],
 "metadata": {
  "kernelspec": {
   "display_name": "Python 3",
   "language": "python",
   "name": "python3"
  },
  "language_info": {
   "codemirror_mode": {
    "name": "ipython",
    "version": 3
   },
   "file_extension": ".py",
   "mimetype": "text/x-python",
   "name": "python",
   "nbconvert_exporter": "python",
   "pygments_lexer": "ipython3",
   "version": "3.6.5"
  }
 },
 "nbformat": 4,
 "nbformat_minor": 2
}
