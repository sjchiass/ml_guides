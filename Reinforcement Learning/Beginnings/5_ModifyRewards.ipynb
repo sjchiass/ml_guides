{
 "cells": [
  {
   "cell_type": "markdown",
   "metadata": {},
   "source": [
    "# Modifying Rewards\n",
    "\n",
    "I'm a bit disappointed that the genetic algorithm tends to sway too far from the center. If I had a light penalty, will it avoid this.\n",
    "\n",
    "Reading [the wiki](https://github.com/openai/gym/wiki/CartPole-v0) helps a lot in figuring this out! That page has the parameters for cart-pole v0, which is just a shorter version of the cart-pole v1 we use."
   ]
  },
  {
   "cell_type": "code",
   "execution_count": 1,
   "metadata": {},
   "outputs": [],
   "source": [
    "# Display GIFs in Jupyter\n",
    "from IPython.display import HTML\n",
    "\n",
    "# OpenAI gym\n",
    "import gym\n",
    "\n",
    "# Import local script\n",
    "import agents\n",
    "\n",
    "# numpy\n",
    "import numpy as np\n",
    "\n",
    "# To speed up the algorithm\n",
    "from multiprocessing import Pool\n",
    "n_jobs = 4 # Set your number of cores here"
   ]
  },
  {
   "cell_type": "markdown",
   "metadata": {},
   "source": [
    "Here I add a penalty of `abs(observation[0])`. Observation 0 is the distance from the center, within `[-2.6, 2.6]`."
   ]
  },
  {
   "cell_type": "code",
   "execution_count": 2,
   "metadata": {},
   "outputs": [],
   "source": [
    "def trial_agent(agent, trials=100, limit=1000):\n",
    "    env = gym.make(agent.game)\n",
    "\n",
    "    scores = []\n",
    "    for i in range(trials):\n",
    "        observation = env.reset()\n",
    "        score = 0\n",
    "        for t in range(limit):\n",
    "            action = agent.predict(observation)\n",
    "            observation, reward, done, info = env.step(action)\n",
    "            if done:\n",
    "                break\n",
    "            # Add a light penalty for distance\n",
    "            score += reward - abs(observation[0]/10)\n",
    "        scores.append(score)\n",
    "        \n",
    "    data_dict = {\n",
    "        \"agent\" : agent, \n",
    "        \"weights\" : agent.w, \n",
    "        \"pedigree\" : agent.pedigree, \n",
    "        \"minimum\" : min(scores), \n",
    "        \"maximum\" : max(scores), \n",
    "        \"mean\" : sum(scores)/len(scores)\n",
    "    }\n",
    "    \n",
    "    env.close()\n",
    "    \n",
    "    return data_dict"
   ]
  },
  {
   "cell_type": "code",
   "execution_count": 3,
   "metadata": {},
   "outputs": [],
   "source": [
    "def genetic_algorithm(results, old=5, new=95, n_parents=2, generations=25, \n",
    "                      mutation_rate=0.01, mutation_amount=0.5, order=1, max_score=499.0, \n",
    "                      game=\"CartPole-v1\"):\n",
    "    for round in range(generations):\n",
    "        # Sort agents by score (fitness)\n",
    "        top_scores = sorted(results, key=lambda x: x[\"mean\"], reverse=True)\n",
    "\n",
    "        # The survival of the fittest. Wikipedia calls this \"elitism\".\n",
    "        # The top agents of a generation are carried over to the next\n",
    "        survivors = top_scores[:old]\n",
    "\n",
    "        # To start breeding new agents, I'll mix weights (genes)\n",
    "        weight_shape = top_scores[0][\"weights\"].shape\n",
    "        gene_pool = [list(i[\"weights\"].flatten()) for i in top_scores]\n",
    "        pedigree_list = [i[\"pedigree\"] for i in top_scores]\n",
    "        genome_size = top_scores[0][\"weights\"].size\n",
    "\n",
    "        # Scores can be negative, so here I make them all positive\n",
    "        # They also need to sum to 1 for random sampling\n",
    "        min_score = min([i[\"mean\"] for i in top_scores])\n",
    "        sum_score = sum([i[\"mean\"]+min_score for i in top_scores])\n",
    "        probs = [(i[\"mean\"]+min_score)/sum_score for i in top_scores]\n",
    "\n",
    "        # For each new agent, randomly select parents\n",
    "        # Higher-fitness agents are likelier to sire new agents\n",
    "        children = []\n",
    "        for birth in range(new):\n",
    "            parents = np.random.choice(np.arange(len(gene_pool)), \n",
    "                             size=n_parents, \n",
    "                             replace=False, \n",
    "                             p=probs)\n",
    "\n",
    "            # The offspring get a mix of each parent's weights\n",
    "            # The weights (genes) are simply copied over\n",
    "            mix = np.random.randint(0, high=n_parents, size=genome_size)\n",
    "\n",
    "            weights = []\n",
    "            pedigree = []\n",
    "            for i in range(genome_size):\n",
    "                weights.append(gene_pool[parents[mix[i]]][i])\n",
    "                pedigree.append(pedigree_list[parents[mix[i]]][i])\n",
    "                # A mutation happens rarely and adds a bit of noise to a gene\n",
    "                if np.random.random(1) < mutation_rate:\n",
    "                    weights[i] += float(np.random.normal(0, mutation_amount, 1))\n",
    "                    pedigree[i] += \"M\"\n",
    "\n",
    "            children.append({\"weights\" : weights, \"pedigree\" : pedigree})\n",
    "\n",
    "        # Elitism: the top agents survive to fight another day\n",
    "        new_agents = [i[\"agent\"] for i in survivors]\n",
    "\n",
    "        # The offspring are added it\n",
    "        # With the pedigree variable their ancestors are tracked\n",
    "        for child in children:\n",
    "            new_agents.append(\n",
    "                agents.LinearAgent(\n",
    "                    np.array(child[\"weights\"]).reshape(weight_shape), \n",
    "                    pedigree=child[\"pedigree\"],\n",
    "                    order=order,\n",
    "                    game=game))\n",
    "\n",
    "        # Trial the agents using multiple CPU cores\n",
    "        p = Pool(n_jobs)\n",
    "        results = p.map(trial_agent, new_agents)\n",
    "        p.close()\n",
    "        \n",
    "        results = sorted(results, key=lambda x: x[\"mean\"], reverse=True)\n",
    "\n",
    "        print(f\"[{round+1:3}] Population average: {sum([i['mean'] for i in results])/len(results):5.1f}\")\n",
    "        print(f\"[{round+1:3}] Best mean score:    {results[0]['mean']:5.1f}, Pedigree: {'-'.join(results[0]['pedigree'])}\")\n",
    "        print()\n",
    "        \n",
    "        # End early if maximum is reached\n",
    "        if results[0]['mean'] >= max_score:\n",
    "            print(f\"[{round+1:3}] Best score reached, ending early\")\n",
    "            break\n",
    "    return results"
   ]
  },
  {
   "cell_type": "markdown",
   "metadata": {},
   "source": [
    "## Extreme third-order agent\n",
    "\n",
    "I'm going to try a third-order agent. And this time I'll take a peek at results every few generation."
   ]
  },
  {
   "cell_type": "code",
   "execution_count": 4,
   "metadata": {},
   "outputs": [
    {
     "name": "stdout",
     "output_type": "stream",
     "text": [
      "{'agent': <agents.LinearAgent object at 0x7f4c212d5a58>, 'weights': array([[-0.03436326],\n",
      "       [ 0.62651788],\n",
      "       [-0.8671359 ],\n",
      "       [-0.77003561],\n",
      "       [ 0.88472795],\n",
      "       [ 0.9753544 ],\n",
      "       [-0.13446598],\n",
      "       [-0.70975749],\n",
      "       [ 0.92727059],\n",
      "       [-0.16145533],\n",
      "       [ 0.58148144],\n",
      "       [ 0.67178113],\n",
      "       [ 0.51396379],\n",
      "       [ 0.91591603],\n",
      "       [-0.21173226],\n",
      "       [-0.7605436 ],\n",
      "       [-0.17849587],\n",
      "       [ 0.49374757],\n",
      "       [-0.96997173],\n",
      "       [ 0.8402381 ],\n",
      "       [ 0.55645057],\n",
      "       [ 0.16820958],\n",
      "       [-0.56130607],\n",
      "       [-0.04514864],\n",
      "       [-0.91161306],\n",
      "       [ 0.63469725],\n",
      "       [ 0.3426981 ],\n",
      "       [ 0.96146971],\n",
      "       [ 0.68770587],\n",
      "       [-0.76626071],\n",
      "       [ 0.05597288],\n",
      "       [-0.80606728],\n",
      "       [ 0.64280773],\n",
      "       [-0.85669744],\n",
      "       [ 0.00206797]]), 'pedigree': ['6', '6', '6', '6', '6', '6', '6', '6', '6', '6', '6', '6', '6', '6', '6', '6', '6', '6', '6', '6', '6', '6', '6', '6', '6', '6', '6', '6', '6', '6', '6', '6', '6', '6', '6'], 'minimum': 30.887502272035125, 'maximum': 91.95791235247256, 'mean': 50.92749519322391}\n"
     ]
    },
    {
     "data": {
      "text/html": [
       "<img src='./images/mod_cart_0.gif'>"
      ],
      "text/plain": [
       "<IPython.core.display.HTML object>"
      ]
     },
     "execution_count": 4,
     "metadata": {},
     "output_type": "execute_result"
    }
   ],
   "source": [
    "results = []\n",
    "\n",
    "for a in range(25):\n",
    "    results.append(trial_agent(agents.LinearAgent(None, order=3, id=a)))\n",
    "\n",
    "winner = sorted(results, key=lambda x: x[\"mean\"], reverse=True)[0]\n",
    "\n",
    "print(winner)\n",
    "\n",
    "HTML(f\"<img src='{winner['agent'].render('mod_cart_0.gif', episodes=1)}'>\")"
   ]
  },
  {
   "cell_type": "code",
   "execution_count": 5,
   "metadata": {},
   "outputs": [
    {
     "name": "stdout",
     "output_type": "stream",
     "text": [
      "[  1] Population average:  20.3\n",
      "[  1] Best mean score:     97.9, Pedigree: 6-6-20-20-6-6-20-20-20-6-6-20-6-6-20-20-6-20-20-6-6-6-20-6-6-20-20-6-20-6-20-20-20-6-6\n",
      "\n",
      "[  2] Population average:  42.3\n",
      "[  2] Best mean score:    178.5, Pedigree: 6-10-10-10-6-6-20-20-20-4-10-10-6-4-4-10-6-20-20-6-10-6-20-4-10-20-20-6-10-10-20-10-20-6-6\n",
      "\n",
      "[  3] Population average:  72.1\n",
      "[  3] Best mean score:    223.2, Pedigree: 6-16-10-10-6-16-16-20-20-4-6-16-6-4-6-10-16-6-6-6-16-6-6-4-16-16-20-6-10-10-6-10-16-6-6\n",
      "\n",
      "[  4] Population average:  98.8\n",
      "[  4] Best mean score:    415.4, Pedigree: 6-17-15M-15-6-6-6-5-16-15-4-5-6-2-6-5-6-8-6-5-15-11-6-6-6-17-6-6-7-6-17-6-15-6-8\n",
      "\n",
      "[  5] Population average: 139.3\n",
      "[  5] Best mean score:    448.3, Pedigree: 6-16-15M-15-6-6-16-5-16-4-4-3-6-4-6-10-16-6-6-6-15-11-20-4-5-17-6-6-7-6-20-10-20-6-8\n",
      "\n",
      "{'agent': <agents.LinearAgent object at 0x7f4c1edc2748>, 'weights': array([[-0.03436326],\n",
      "       [-0.28789561],\n",
      "       [ 0.3425465 ],\n",
      "       [ 0.51404998],\n",
      "       [ 0.88472795],\n",
      "       [ 0.9753544 ],\n",
      "       [-0.38050865],\n",
      "       [ 0.89359289],\n",
      "       [-0.44281775],\n",
      "       [ 0.8708977 ],\n",
      "       [-0.36109299],\n",
      "       [-0.67419627],\n",
      "       [ 0.51396379],\n",
      "       [-0.28667228],\n",
      "       [-0.21173226],\n",
      "       [ 0.57048346],\n",
      "       [-0.31302646],\n",
      "       [ 0.49374757],\n",
      "       [-0.96997173],\n",
      "       [ 0.8402381 ],\n",
      "       [-0.79912735],\n",
      "       [-0.51399549],\n",
      "       [ 0.9913688 ],\n",
      "       [ 0.09352822],\n",
      "       [ 0.20275673],\n",
      "       [ 0.59149261],\n",
      "       [ 0.3426981 ],\n",
      "       [ 0.96146971],\n",
      "       [-0.04361571],\n",
      "       [-0.76626071],\n",
      "       [-0.77277895],\n",
      "       [-0.54372214],\n",
      "       [-0.01987235],\n",
      "       [-0.85669744],\n",
      "       [ 0.07788571]]), 'pedigree': ['6', '16', '15M', '15', '6', '6', '16', '5', '16', '4', '4', '3', '6', '4', '6', '10', '16', '6', '6', '6', '15', '11', '20', '4', '5', '17', '6', '6', '7', '6', '20', '10', '20', '6', '8'], 'minimum': 139.00209744147296, 'maximum': 497.8535420567249, 'mean': 448.26626365717914}\n"
     ]
    },
    {
     "data": {
      "text/html": [
       "<img src='./images/mod_cart_5.gif'>"
      ],
      "text/plain": [
       "<IPython.core.display.HTML object>"
      ]
     },
     "execution_count": 5,
     "metadata": {},
     "output_type": "execute_result"
    }
   ],
   "source": [
    "results = genetic_algorithm(results, generations=5, order=3)\n",
    "\n",
    "winner = sorted(results, key=lambda x: x[\"mean\"], reverse=True)[0]\n",
    "\n",
    "print(winner)\n",
    "\n",
    "HTML(f\"<img src='{winner['agent'].render('mod_cart_5.gif', episodes=1)}'>\")"
   ]
  },
  {
   "cell_type": "code",
   "execution_count": 6,
   "metadata": {},
   "outputs": [
    {
     "name": "stdout",
     "output_type": "stream",
     "text": [
      "[  1] Population average: 180.6\n",
      "[  1] Best mean score:    464.2, Pedigree: 6-10-15M-10-6-6-20-5-20-4-6-3-6-4M-6-10-16-6-6-6-7-6-20-6-6-17-6-6M-10-6-6-10-16-6-8\n",
      "\n",
      "[  2] Population average: 225.2\n",
      "[  2] Best mean score:    495.0, Pedigree: 6-10-15M-10-6-6-6-22-20-4-6-3-6-2-6-10-6-8-17-6-10-11-20-6-6-17-6-6M-7-6-5-10-22-13-8\n",
      "\n",
      "[  3] Population average: 248.0\n",
      "[  3] Best mean score:    494.8, Pedigree: 6-10-15M-10-6-6-6-22-20-4-6-3-6-2-6-10-6-8-17-6-10-11-20-6-6-17-6-6M-7-6-5-10-22-13-8\n",
      "\n",
      "[  4] Population average: 297.9\n",
      "[  4] Best mean score:    494.9, Pedigree: 6-10-15M-10-6-6-6-22-20-4-6-3-6-2-6-10-6-8-17-6-10-11-20-6-6-17-6-6M-7-6-5-10-22-13-8\n",
      "\n",
      "[  5] Population average: 306.9\n",
      "[  5] Best mean score:    494.8, Pedigree: 6-10-15M-10-6-6-20-5-20-4-6-3-6-13-6-17-16-6-6-6-7-11-2-6-6-17-6-6M-10-6-6-10-16-6-8\n",
      "\n",
      "{'agent': <agents.LinearAgent object at 0x7f4c12b7ef98>, 'weights': array([[-0.03436326],\n",
      "       [ 0.33235873],\n",
      "       [ 0.3425465 ],\n",
      "       [ 0.86844564],\n",
      "       [ 0.88472795],\n",
      "       [ 0.9753544 ],\n",
      "       [-0.32728489],\n",
      "       [ 0.89359289],\n",
      "       [-0.5243281 ],\n",
      "       [ 0.8708977 ],\n",
      "       [ 0.58148144],\n",
      "       [-0.67419627],\n",
      "       [ 0.51396379],\n",
      "       [-0.41681596],\n",
      "       [-0.21173226],\n",
      "       [ 0.365539  ],\n",
      "       [-0.31302646],\n",
      "       [ 0.49374757],\n",
      "       [-0.96997173],\n",
      "       [ 0.8402381 ],\n",
      "       [ 0.18460156],\n",
      "       [-0.51399549],\n",
      "       [ 0.89709782],\n",
      "       [-0.04514864],\n",
      "       [-0.91161306],\n",
      "       [ 0.59149261],\n",
      "       [ 0.3426981 ],\n",
      "       [ 1.07795638],\n",
      "       [ 0.76286789],\n",
      "       [-0.76626071],\n",
      "       [ 0.05597288],\n",
      "       [-0.54372214],\n",
      "       [ 0.34807944],\n",
      "       [-0.85669744],\n",
      "       [ 0.07788571]]), 'pedigree': ['6', '10', '15M', '10', '6', '6', '20', '5', '20', '4', '6', '3', '6', '13', '6', '17', '16', '6', '6', '6', '7', '11', '2', '6', '6', '17', '6', '6M', '10', '6', '6', '10', '16', '6', '8'], 'minimum': 483.8293801335378, 'maximum': 498.3359706553354, 'mean': 494.80728071219295}\n"
     ]
    },
    {
     "data": {
      "text/html": [
       "<img src='./images/mod_cart_10.gif'>"
      ],
      "text/plain": [
       "<IPython.core.display.HTML object>"
      ]
     },
     "execution_count": 6,
     "metadata": {},
     "output_type": "execute_result"
    }
   ],
   "source": [
    "results = genetic_algorithm(results, generations=5, order=3)\n",
    "\n",
    "winner = sorted(results, key=lambda x: x[\"mean\"], reverse=True)[0]\n",
    "\n",
    "print(winner)\n",
    "\n",
    "HTML(f\"<img src='{winner['agent'].render('mod_cart_10.gif', episodes=1)}'>\")"
   ]
  },
  {
   "cell_type": "code",
   "execution_count": 7,
   "metadata": {},
   "outputs": [
    {
     "name": "stdout",
     "output_type": "stream",
     "text": [
      "[  1] Population average: 321.5\n",
      "[  1] Best mean score:    495.1, Pedigree: 6-10-15M-10-6-6-6-22-20-4-6-3-6-2-6-10-6-8-17-6-10-11-20-6-6-17-6-6M-7-6-5-10-22-13-8\n",
      "\n",
      "[  2] Population average: 353.5\n",
      "[  2] Best mean score:    495.5, Pedigree: 6-10-15M-10-22M-6-6-5-7-15-6-3-6-2-6-10-16-8-5-6-10-11M-20-5-16-17-6-6M-7-6-20-10-22-6-8\n",
      "\n",
      "[  3] Population average: 383.3\n",
      "[  3] Best mean score:    495.6, Pedigree: 6-10-15M-10-22M-6-6-5-7-15-6-3-6-2-6-10-16-8-5-6-10-11M-20-5-16-17-6-6M-7-6-20-10-22-6-8\n",
      "\n",
      "[  4] Population average: 393.5\n",
      "[  4] Best mean score:    495.5, Pedigree: 6-10-15M-10-22M-6-6-5-7-15-6-3-6-2-6-10-16-8-5-6-10-11M-20-5-16-17-6-6M-7-6-20-10-22-6-8\n",
      "\n",
      "[  5] Population average: 382.1\n",
      "[  5] Best mean score:    495.6, Pedigree: 6-10-15MM-10-6-6-6-5-7-4-6-3-6-2-6-10-6-8-5-5M-6-11-6M-5-16-17-22-6M-7-6-20-10-22-6-8\n",
      "\n",
      "{'agent': <agents.LinearAgent object at 0x7f4c12b11240>, 'weights': array([[-0.03436326],\n",
      "       [ 0.33235873],\n",
      "       [ 0.47124037],\n",
      "       [ 0.86844564],\n",
      "       [ 0.88472795],\n",
      "       [ 0.9753544 ],\n",
      "       [-0.13446598],\n",
      "       [ 0.89359289],\n",
      "       [-0.60654739],\n",
      "       [ 0.8708977 ],\n",
      "       [ 0.58148144],\n",
      "       [-0.67419627],\n",
      "       [ 0.51396379],\n",
      "       [-0.20393535],\n",
      "       [-0.21173226],\n",
      "       [ 0.57048346],\n",
      "       [-0.17849587],\n",
      "       [-0.55966784],\n",
      "       [ 0.31676687],\n",
      "       [-0.00870255],\n",
      "       [ 0.55645057],\n",
      "       [-0.51399549],\n",
      "       [-0.00468988],\n",
      "       [ 0.69988805],\n",
      "       [ 0.17289725],\n",
      "       [ 0.59149261],\n",
      "       [ 0.35280403],\n",
      "       [ 1.07795638],\n",
      "       [-0.04361571],\n",
      "       [-0.76626071],\n",
      "       [-0.77277895],\n",
      "       [-0.54372214],\n",
      "       [-0.40823594],\n",
      "       [-0.85669744],\n",
      "       [ 0.07788571]]), 'pedigree': ['6', '10', '15MM', '10', '6', '6', '6', '5', '7', '4', '6', '3', '6', '2', '6', '10', '6', '8', '5', '5M', '6', '11', '6M', '5', '16', '17', '22', '6M', '7', '6', '20', '10', '22', '6', '8'], 'minimum': 488.31640037174424, 'maximum': 496.9059527484592, 'mean': 495.6054264888647}\n"
     ]
    },
    {
     "data": {
      "text/html": [
       "<img src='./images/mod_cart_15.gif'>"
      ],
      "text/plain": [
       "<IPython.core.display.HTML object>"
      ]
     },
     "execution_count": 7,
     "metadata": {},
     "output_type": "execute_result"
    }
   ],
   "source": [
    "results = genetic_algorithm(results, generations=5, order=3)\n",
    "\n",
    "winner = sorted(results, key=lambda x: x[\"mean\"], reverse=True)[0]\n",
    "\n",
    "print(winner)\n",
    "\n",
    "HTML(f\"<img src='{winner['agent'].render('mod_cart_15.gif', episodes=1)}'>\")"
   ]
  },
  {
   "cell_type": "code",
   "execution_count": 8,
   "metadata": {},
   "outputs": [
    {
     "name": "stdout",
     "output_type": "stream",
     "text": [
      "[  1] Population average: 379.1\n",
      "[  1] Best mean score:    496.0, Pedigree: 6-10-15MM-10-6-6-20-6-7-4-6-3-6-2-6-17-5-8-17-2-15-11-20-6-6MM-6-6-6M-10-6-3-10-22-6-8\n",
      "\n",
      "[  2] Population average: 392.4\n",
      "[  2] Best mean score:    496.8, Pedigree: 6-10-15MM-10-22M-6-6-5-7-4-6-3M-6-13-6-17-16-6-5-6-7-11M-20-6M-6M-17-6-6M-7-6-20-10-16-6-8\n",
      "\n",
      "[  3] Population average: 396.7\n",
      "[  3] Best mean score:    497.0, Pedigree: 6-10-15MM-10-22M-6-6-5-7-4-6-3M-6-13-6-17-16-6-5-6-7-11M-20-6M-6M-17-6-6M-7-6-20-10-16-6-8\n",
      "\n",
      "[  4] Population average: 436.3\n",
      "[  4] Best mean score:    496.1, Pedigree: 6-10-15MM-10-22M-6-6-5-7-4-6-3M-16M-13-6-17-6-20-5-6-6-11M-2-6M-6M-17-6-6M-7-6-20M-10-16-6-8\n",
      "\n",
      "[  5] Population average: 449.9\n",
      "[  5] Best mean score:    496.1, Pedigree: 6-10-15MM-10-6-6M-20-5M-7-4-6-3-4-6-6-10-6-8-5-5M-7-11-20-6M-16-17-22-6MM-7-6M-20-10-22-6-8\n",
      "\n",
      "{'agent': <agents.LinearAgent object at 0x7f4c12af7320>, 'weights': array([[-0.03436326],\n",
      "       [ 0.33235873],\n",
      "       [ 0.61481722],\n",
      "       [ 0.86844564],\n",
      "       [ 0.88472795],\n",
      "       [ 0.95202301],\n",
      "       [-0.32728489],\n",
      "       [ 0.82022631],\n",
      "       [-0.60654739],\n",
      "       [ 0.8708977 ],\n",
      "       [ 0.58148144],\n",
      "       [-0.67419627],\n",
      "       [ 0.15388749],\n",
      "       [ 0.91591603],\n",
      "       [-0.21173226],\n",
      "       [ 0.57048346],\n",
      "       [-0.17849587],\n",
      "       [-0.55966784],\n",
      "       [ 0.31676687],\n",
      "       [ 0.25504968],\n",
      "       [ 0.18460156],\n",
      "       [-0.51399549],\n",
      "       [ 0.9913688 ],\n",
      "       [-0.46347615],\n",
      "       [ 0.17289725],\n",
      "       [ 0.59149261],\n",
      "       [ 0.35280403],\n",
      "       [ 1.51938383],\n",
      "       [-0.04361571],\n",
      "       [-1.75558063],\n",
      "       [-0.77277895],\n",
      "       [-0.54372214],\n",
      "       [-0.40823594],\n",
      "       [-0.85669744],\n",
      "       [ 0.07788571]]), 'pedigree': ['6', '10', '15MM', '10', '6', '6M', '20', '5M', '7', '4', '6', '3', '4', '6', '6', '10', '6', '8', '5', '5M', '7', '11', '20', '6M', '16', '17', '22', '6MM', '7', '6M', '20', '10', '22', '6', '8'], 'minimum': 494.21617521692235, 'maximum': 497.3813297581291, 'mean': 496.0559112456358}\n"
     ]
    },
    {
     "data": {
      "text/html": [
       "<img src='./images/mod_cart_20.gif'>"
      ],
      "text/plain": [
       "<IPython.core.display.HTML object>"
      ]
     },
     "execution_count": 8,
     "metadata": {},
     "output_type": "execute_result"
    }
   ],
   "source": [
    "results = genetic_algorithm(results, generations=5, order=3)\n",
    "\n",
    "winner = sorted(results, key=lambda x: x[\"mean\"], reverse=True)[0]\n",
    "\n",
    "print(winner)\n",
    "\n",
    "HTML(f\"<img src='{winner['agent'].render('mod_cart_20.gif', episodes=1)}'>\")"
   ]
  },
  {
   "cell_type": "code",
   "execution_count": 9,
   "metadata": {},
   "outputs": [
    {
     "name": "stdout",
     "output_type": "stream",
     "text": [
      "[  1] Population average: 437.5\n",
      "[  1] Best mean score:    496.2, Pedigree: 6-10-15MM-10-22M-6-6-5-7-4-6-3M-16M-13-6-17-6-20-5-6-6-11M-2-6M-6M-17-6-6M-7-6-20M-10-16-6-8\n",
      "\n",
      "[  2] Population average: 445.5\n",
      "[  2] Best mean score:    496.1, Pedigree: 6-10-15MM-10-22M-6-6-5-7-4-6-3M-16M-13-6-17-6-20-5-6-6-11M-2-6M-6M-17-6-6M-7-6-20M-10-16-6-8\n",
      "\n",
      "[  3] Population average: 451.6\n",
      "[  3] Best mean score:    496.1, Pedigree: 6-10-15MMM-10-6-6-16-5-20-4-4-3-6-13-6-10-6-6-5-5-10-11-6-6-6-20-6-6-2-6-20-8-16-6-8\n",
      "\n",
      "[  4] Population average: 445.0\n",
      "[  4] Best mean score:    496.4, Pedigree: 6-10-15MM-10-22M-6-6-5-7-4-6-3M-16M-13-6-17-6-6-5-6-7-11-6-6M-6M-17-6-6-7-6-20M-10-16-6-8\n",
      "\n",
      "[  5] Population average: 441.8\n",
      "[  5] Best mean score:    496.3, Pedigree: 6-10-15MM-10-22M-6-6-5-7-4-6-3M-16M-13-6-17-6-6-5-6-7-11-6-6M-6M-17-6-6-7-6-20M-10-16-6-8\n",
      "\n",
      "{'agent': <agents.LinearAgent object at 0x7f4c1eda9cc0>, 'weights': array([[-0.03436326],\n",
      "       [ 0.33235873],\n",
      "       [ 0.47124037],\n",
      "       [ 0.86844564],\n",
      "       [ 0.51319279],\n",
      "       [ 0.9753544 ],\n",
      "       [-0.13446598],\n",
      "       [ 0.89359289],\n",
      "       [-0.60654739],\n",
      "       [ 0.8708977 ],\n",
      "       [ 0.58148144],\n",
      "       [-0.90687801],\n",
      "       [-0.74982585],\n",
      "       [-0.41681596],\n",
      "       [-0.21173226],\n",
      "       [ 0.365539  ],\n",
      "       [-0.17849587],\n",
      "       [ 0.49374757],\n",
      "       [ 0.31676687],\n",
      "       [ 0.8402381 ],\n",
      "       [ 0.18460156],\n",
      "       [-0.51399549],\n",
      "       [-0.56130607],\n",
      "       [-0.46347615],\n",
      "       [-0.37530556],\n",
      "       [ 0.59149261],\n",
      "       [ 0.3426981 ],\n",
      "       [ 0.96146971],\n",
      "       [-0.04361571],\n",
      "       [-0.76626071],\n",
      "       [-1.1713291 ],\n",
      "       [-0.54372214],\n",
      "       [ 0.34807944],\n",
      "       [-0.85669744],\n",
      "       [ 0.07788571]]), 'pedigree': ['6', '10', '15MM', '10', '22M', '6', '6', '5', '7', '4', '6', '3M', '16M', '13', '6', '17', '6', '6', '5', '6', '7', '11', '6', '6M', '6M', '17', '6', '6', '7', '6', '20M', '10', '16', '6', '8'], 'minimum': 495.1376894082551, 'maximum': 497.60003854285577, 'mean': 496.2715822149164}\n"
     ]
    },
    {
     "data": {
      "text/html": [
       "<img src='./images/mod_cart_25.gif'>"
      ],
      "text/plain": [
       "<IPython.core.display.HTML object>"
      ]
     },
     "execution_count": 9,
     "metadata": {},
     "output_type": "execute_result"
    }
   ],
   "source": [
    "results = genetic_algorithm(results, generations=5, order=3)\n",
    "\n",
    "winner = sorted(results, key=lambda x: x[\"mean\"], reverse=True)[0]\n",
    "\n",
    "print(winner)\n",
    "\n",
    "HTML(f\"<img src='{winner['agent'].render('mod_cart_25.gif', episodes=1)}'>\")"
   ]
  },
  {
   "cell_type": "code",
   "execution_count": null,
   "metadata": {},
   "outputs": [],
   "source": []
  }
 ],
 "metadata": {
  "kernelspec": {
   "display_name": "Python 3",
   "language": "python",
   "name": "python3"
  },
  "language_info": {
   "codemirror_mode": {
    "name": "ipython",
    "version": 3
   },
   "file_extension": ".py",
   "mimetype": "text/x-python",
   "name": "python",
   "nbconvert_exporter": "python",
   "pygments_lexer": "ipython3",
   "version": "3.6.5"
  }
 },
 "nbformat": 4,
 "nbformat_minor": 2
}
