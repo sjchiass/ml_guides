{
 "cells": [
  {
   "cell_type": "markdown",
   "metadata": {},
   "source": [
    "# Modifying Rewards\n",
    "\n",
    "I'm a bit disappointed that the genetic algorithm tends to sway too far from the center. If I had a light penalty, will it avoid this.\n",
    "\n",
    "Reading [the wiki](https://github.com/openai/gym/wiki/CartPole-v0) helps a lot in figuring this out! That page has the parameters for cart-pole v0, which is just a shorter version of the cart-pole v1 we use."
   ]
  },
  {
   "cell_type": "code",
   "execution_count": 1,
   "metadata": {},
   "outputs": [],
   "source": [
    "# Display GIFs in Jupyter\n",
    "from IPython.display import HTML\n",
    "\n",
    "# OpenAI gym\n",
    "import gym\n",
    "\n",
    "# Import local script\n",
    "import agents\n",
    "\n",
    "# numpy\n",
    "import numpy as np\n",
    "\n",
    "# To speed up the algorithm\n",
    "from multiprocessing import Pool\n",
    "n_jobs = 4 # Set your number of cores here"
   ]
  },
  {
   "cell_type": "markdown",
   "metadata": {},
   "source": [
    "Here I add a penalty of `abs(observation[0])`. Observation 0 is the distance from the center, within `[-2.6, 2.6]`."
   ]
  },
  {
   "cell_type": "code",
   "execution_count": 2,
   "metadata": {},
   "outputs": [],
   "source": [
    "def trial_agent(agent, trials=100, limit=1000):\n",
    "    env = gym.make(agent.game)\n",
    "\n",
    "    scores = []\n",
    "    for i in range(trials):\n",
    "        observation = env.reset()\n",
    "        score = 0\n",
    "        for t in range(limit):\n",
    "            action = agent.predict(observation)\n",
    "            observation, reward, done, info = env.step(action)\n",
    "            if done:\n",
    "                break\n",
    "            # Add a light penalty for distance\n",
    "            score += reward - abs(observation[0]/10)\n",
    "        scores.append(score)\n",
    "        \n",
    "    data_dict = {\n",
    "        \"agent\" : agent, \n",
    "        \"weights\" : agent.w, \n",
    "        \"pedigree\" : agent.pedigree, \n",
    "        \"minimum\" : min(scores), \n",
    "        \"maximum\" : max(scores), \n",
    "        \"mean\" : sum(scores)/len(scores)\n",
    "    }\n",
    "    \n",
    "    env.close()\n",
    "    \n",
    "    return data_dict"
   ]
  },
  {
   "cell_type": "code",
   "execution_count": 3,
   "metadata": {},
   "outputs": [],
   "source": [
    "def genetic_algorithm(results, old=5, new=95, n_parents=2, generations=25, mutation_rate=0.01, mutation_amount=0.5, order=1, max_score=499.0, cartpole=True):\n",
    "    for round in range(generations):\n",
    "        # Sort agents by score (fitness)\n",
    "        top_scores = sorted(results, key=lambda x: x[\"mean\"], reverse=True)\n",
    "\n",
    "        # The survival of the fittest. Wikipedia calls this \"elitism\".\n",
    "        # The top agents of a generation are carried over to the next\n",
    "        survivors = top_scores[:old]\n",
    "\n",
    "        # To start breeding new agents, I'll mix weights (genes)\n",
    "        gene_pool = [i[\"weights\"] for i in top_scores]\n",
    "        pedigree_list = [i[\"pedigree\"] for i in top_scores]\n",
    "        genome_size = len(gene_pool[0])\n",
    "\n",
    "        # Scores can be negative, so here I make them all positive\n",
    "        # They also need to sum to 1 for random sampling\n",
    "        min_score = min([i[\"mean\"] for i in top_scores])\n",
    "        sum_score = sum([i[\"mean\"]+min_score for i in top_scores])\n",
    "        probs = [(i[\"mean\"]+min_score)/sum_score for i in top_scores]\n",
    "\n",
    "        # For each new agent, randomly select parents\n",
    "        # Higher-fitness agents are likelier to sire new agents\n",
    "        children = []\n",
    "        for birth in range(new):\n",
    "            parents = np.random.choice(np.arange(len(gene_pool)), \n",
    "                             size=n_parents, \n",
    "                             replace=False, \n",
    "                             p=probs)\n",
    "\n",
    "            # The offspring get a mix of each parent's weights\n",
    "            # The weights (genes) are simply copied over\n",
    "            mix = np.random.randint(0, high=n_parents, size=genome_size)\n",
    "\n",
    "            weights = []\n",
    "            pedigree = []\n",
    "            for i in range(genome_size):\n",
    "                weights.append(gene_pool[parents[mix[i]]][i])\n",
    "                pedigree.append(pedigree_list[parents[mix[i]]][i])\n",
    "                # A mutation happens rarely and adds a bit of noise to a gene\n",
    "                if np.random.random(1) < mutation_rate:\n",
    "                    weights[i] += float(np.random.normal(0, mutation_amount, 1))\n",
    "                    pedigree[i] += \"M\"\n",
    "\n",
    "            children.append({\"weights\" : weights, \"pedigree\" : pedigree})\n",
    "\n",
    "        # Elitism: the top agents survive to fight another day\n",
    "        new_agents = [i[\"agent\"] for i in survivors]\n",
    "\n",
    "        # The offspring are added it\n",
    "        # With the pedigree variable their ancestors are tracked\n",
    "        for child in children:\n",
    "            new_agents.append(agents.LinearAgent(child[\"weights\"], \n",
    "                pedigree=child[\"pedigree\"],\n",
    "                order=order,\n",
    "                cartpole=cartpole))\n",
    "\n",
    "        # Trial the agents using multiple CPU cores\n",
    "        p = Pool(n_jobs)\n",
    "        results = p.map(trial_agent, new_agents)\n",
    "        p.close()\n",
    "        \n",
    "        results = sorted(results, key=lambda x: x[\"mean\"], reverse=True)\n",
    "\n",
    "        print(f\"[{round+1:3}] Population average: {sum([i['mean'] for i in results])/len(results):5.1f}\")\n",
    "        print(f\"[{round+1:3}] Best mean score:    {results[0]['mean']:5.1f}, Pedigree: {'-'.join(results[0]['pedigree'])}\")\n",
    "        print()\n",
    "        \n",
    "        # End early if maximum is reached\n",
    "        if results[0]['mean'] >= max_score:\n",
    "            print(f\"[{round+1:3}] Best score reached, ending early\")\n",
    "            break\n",
    "    return results"
   ]
  },
  {
   "cell_type": "markdown",
   "metadata": {},
   "source": [
    "## Extreme third-order agent\n",
    "\n",
    "I'm going to try a third-order agent. And this time I'll take a peek at results every few generation."
   ]
  },
  {
   "cell_type": "code",
   "execution_count": 4,
   "metadata": {},
   "outputs": [
    {
     "name": "stdout",
     "output_type": "stream",
     "text": [
      "{'agent': <agents.LinearAgent object at 0x7ff76d92be10>, 'weights': array([ 0.01094896, -0.45413246, -0.43642856,  0.67977911,  0.14533926,\n",
      "        0.06389506, -0.12374572,  0.73809348, -0.2168805 , -0.78608922,\n",
      "       -0.00992948, -0.8739999 ,  0.84260605,  0.29482506,  0.18337614,\n",
      "        0.31788015, -0.69486694,  0.76971151, -0.28259501, -0.99907324,\n",
      "       -0.15805739]), 'pedigree': ['22', '22', '22', '22', '22', '22', '22', '22', '22', '22', '22', '22', '22', '22', '22', '22', '22', '22', '22', '22', '22'], 'minimum': 33.81001627834163, 'maximum': 181.52994022624586, 'mean': 74.71578066817105}\n"
     ]
    },
    {
     "data": {
      "text/html": [
       "<img src='./images/mod_cart_0.gif'>"
      ],
      "text/plain": [
       "<IPython.core.display.HTML object>"
      ]
     },
     "execution_count": 4,
     "metadata": {},
     "output_type": "execute_result"
    }
   ],
   "source": [
    "results = []\n",
    "\n",
    "for a in range(25):\n",
    "    results.append(trial_agent(agents.LinearAgent(None, order=5, id=a)))\n",
    "\n",
    "winner = sorted(results, key=lambda x: x[\"mean\"], reverse=True)[0]\n",
    "\n",
    "print(winner)\n",
    "\n",
    "HTML(f\"<img src='{winner['agent'].render('mod_cart_0.gif', episodes=1)}'>\")"
   ]
  },
  {
   "cell_type": "code",
   "execution_count": 5,
   "metadata": {},
   "outputs": [
    {
     "name": "stdout",
     "output_type": "stream",
     "text": [
      "[  1] Population average:  24.6\n",
      "[  1] Best mean score:    135.2, Pedigree: 22-6-6-6-6-22-6-22-22-6-22-6-6-6-6-6-6-6-22-22-22\n",
      "\n",
      "[  2] Population average:  54.2\n",
      "[  2] Best mean score:    417.5, Pedigree: 22-6-21-21-21-22-6-6-6-6-22-6-21-6-6-6-6-6-22-22-6\n",
      "\n",
      "[  3] Population average: 114.5\n",
      "[  3] Best mean score:    419.6, Pedigree: 22-6-21-1-21M-22-6-22-6-6-22-1-1-1-6-6-6-1-22-22-1\n",
      "\n",
      "[  4] Population average: 188.1\n",
      "[  4] Best mean score:    428.8, Pedigree: 22-6-21-21-21-22-21-21-21-6-22-12-21-6-21-6-21-6-12-22-10\n",
      "\n",
      "[  5] Population average: 247.9\n",
      "[  5] Best mean score:    422.2, Pedigree: 22-8-21-22-21-21-21-21-8-6-8-22-20-21-21-8-22-1-6-1M-1\n",
      "\n",
      "{'agent': <agents.LinearAgent object at 0x7ff768f32828>, 'weights': [0.010948962265880269, -0.05240362794528752, 0.08920413429256313, 0.6797791137616385, 0.5616888590346676, -0.5017146986289274, -0.31144111412878717, -0.9408170651648431, -0.7189290530501449, -0.3974992856089661, -0.7737071128675692, -0.87399990190714, 0.2894879885647068, -0.07989572080837593, -0.7260775340526364, -0.363338728076142, -0.6948669432775905, -0.3653588445557523, -0.770003951936995, 0.31531857045902545, 0.042569684962231236], 'pedigree': ['22', '8', '21', '22', '21', '21', '21', '21', '8', '6', '8', '22', '20', '21', '21', '8', '22', '1', '6', '1M', '1'], 'minimum': 76.19950127211888, 'maximum': 498.7561445243679, 'mean': 422.1845500750541}\n"
     ]
    },
    {
     "data": {
      "text/html": [
       "<img src='./images/mod_cart_5.gif'>"
      ],
      "text/plain": [
       "<IPython.core.display.HTML object>"
      ]
     },
     "execution_count": 5,
     "metadata": {},
     "output_type": "execute_result"
    }
   ],
   "source": [
    "results = genetic_algorithm(results, generations=5, order=5)\n",
    "\n",
    "winner = sorted(results, key=lambda x: x[\"mean\"], reverse=True)[0]\n",
    "\n",
    "print(winner)\n",
    "\n",
    "HTML(f\"<img src='{winner['agent'].render('mod_cart_5.gif', episodes=1)}'>\")"
   ]
  },
  {
   "cell_type": "code",
   "execution_count": 6,
   "metadata": {},
   "outputs": [
    {
     "name": "stdout",
     "output_type": "stream",
     "text": [
      "[  1] Population average: 274.7\n",
      "[  1] Best mean score:    426.4, Pedigree: 22-6-21-1-6M-22-6-22-21-6-22-6-21-1-6-6-6M-1-22-22-1\n",
      "\n",
      "[  2] Population average: 313.4\n",
      "[  2] Best mean score:    470.4, Pedigree: 22M-6-21-22-1-8-6-21-21M-21-1-22-21-6-6-21-6-1-21-22-21\n",
      "\n",
      "[  3] Population average: 348.2\n",
      "[  3] Best mean score:    476.4, Pedigree: 22M-6-21-22-1-8-6-21-21M-21-1-22-21-6-6-21-6-1-21-22-21\n",
      "\n",
      "[  4] Population average: 354.5\n",
      "[  4] Best mean score:    480.6, Pedigree: 22M-6-21-22-1-8-6-21-21M-21-1-22-21-6-6-21-6-1-21-22-21\n",
      "\n",
      "[  5] Population average: 355.9\n",
      "[  5] Best mean score:    475.1, Pedigree: 22M-6-21-22-1-8-6-21-21M-21-1-22-21-6-6-21-6-1-21-22-21\n",
      "\n",
      "{'agent': <agents.LinearAgent object at 0x7ff768ea28d0>, 'weights': [-0.038420072021086625, -0.09894921999799955, 0.08920413429256313, 0.6797791137616385, 0.23848436970449804, 0.21380969198457422, 0.3645687543167686, -0.9408170651648431, 1.2472383690551632, 0.8149320933540891, 0.13858602234176098, -0.87399990190714, -0.622040503387544, 0.6232830322125396, 0.07413137135366688, 0.48879830025759263, -0.5228673581223018, -0.3653588445557523, 0.4324146457849476, -0.9990732432429617, 0.7593014451728559], 'pedigree': ['22M', '6', '21', '22', '1', '8', '6', '21', '21M', '21', '1', '22', '21', '6', '6', '21', '6', '1', '21', '22', '21'], 'minimum': 274.1409863066165, 'maximum': 485.633034990194, 'mean': 475.11702964915094}\n"
     ]
    },
    {
     "data": {
      "text/html": [
       "<img src='./images/mod_cart_10.gif'>"
      ],
      "text/plain": [
       "<IPython.core.display.HTML object>"
      ]
     },
     "execution_count": 6,
     "metadata": {},
     "output_type": "execute_result"
    }
   ],
   "source": [
    "results = genetic_algorithm(results, generations=5, order=5)\n",
    "\n",
    "winner = sorted(results, key=lambda x: x[\"mean\"], reverse=True)[0]\n",
    "\n",
    "print(winner)\n",
    "\n",
    "HTML(f\"<img src='{winner['agent'].render('mod_cart_10.gif', episodes=1)}'>\")"
   ]
  },
  {
   "cell_type": "code",
   "execution_count": 7,
   "metadata": {},
   "outputs": [
    {
     "name": "stdout",
     "output_type": "stream",
     "text": [
      "[  1] Population average: 348.9\n",
      "[  1] Best mean score:    476.0, Pedigree: 22M-6-21-21-6-22-6-21-16-21-22-22-21-6-6-21-22-1-22-22-1\n",
      "\n",
      "[  2] Population average: 367.3\n",
      "[  2] Best mean score:    476.4, Pedigree: 22M-6-21-22-6-22-6-21-16-21-22-22-21-6-6-21-22-1-21-22-1\n",
      "\n",
      "[  3] Population average: 370.2\n",
      "[  3] Best mean score:    474.3, Pedigree: 22M-6-21-22-1-8-6-21-21M-21-1-22-21-6-6-21-6-1-21-22-21\n",
      "\n",
      "[  4] Population average: 368.9\n",
      "[  4] Best mean score:    483.0, Pedigree: 22M-6-21-21-6-6-6-21-16-21-20-22-21-6-6-6-6-1-22-22-21\n",
      "\n",
      "[  5] Population average: 378.7\n",
      "[  5] Best mean score:    482.5, Pedigree: 22M-8-21-1-6M-6-1-6-21MMM-21-22-21-0-6-6-6M-6-1-21M-22-16\n",
      "\n",
      "{'agent': <agents.LinearAgent object at 0x7ff768ec69b0>, 'weights': [-0.038420072021086625, -0.05240362794528752, 0.08920413429256313, 0.5286551489552509, 0.3776596885234489, 0.045363378289105416, 0.7148876400735882, 0.17784020387707478, 2.8041611464509892, 0.8149320933540891, -0.009929481156090159, 0.2162495409357419, -0.2822813625426859, 0.6232830322125396, 0.07413137135366688, 0.3299480732407942, -0.5228673581223018, -0.3653588445557523, 0.5644036032878192, -0.9990732432429617, -0.34097526448485715], 'pedigree': ['22M', '8', '21', '1', '6M', '6', '1', '6', '21MMM', '21', '22', '21', '0', '6', '6', '6M', '6', '1', '21M', '22', '16'], 'minimum': 469.65274114025016, 'maximum': 488.4311310995842, 'mean': 482.507265362017}\n"
     ]
    },
    {
     "data": {
      "text/html": [
       "<img src='./images/mod_cart_15.gif'>"
      ],
      "text/plain": [
       "<IPython.core.display.HTML object>"
      ]
     },
     "execution_count": 7,
     "metadata": {},
     "output_type": "execute_result"
    }
   ],
   "source": [
    "results = genetic_algorithm(results, generations=5, order=5)\n",
    "\n",
    "winner = sorted(results, key=lambda x: x[\"mean\"], reverse=True)[0]\n",
    "\n",
    "print(winner)\n",
    "\n",
    "HTML(f\"<img src='{winner['agent'].render('mod_cart_15.gif', episodes=1)}'>\")"
   ]
  },
  {
   "cell_type": "code",
   "execution_count": 8,
   "metadata": {},
   "outputs": [
    {
     "name": "stdout",
     "output_type": "stream",
     "text": [
      "[  1] Population average: 377.4\n",
      "[  1] Best mean score:    484.9, Pedigree: 22M-6-21-22-6MM-22-21-6-21MMM-21-22-1-21-1-21M-21-22-6-22-1-1\n",
      "\n",
      "[  2] Population average: 387.7\n",
      "[  2] Best mean score:    484.1, Pedigree: 22M-6-21-21-21-22-1-6-21MMM-6-22-1-22-22-22-6-22-1-22-6-1\n",
      "\n",
      "[  3] Population average: 397.8\n",
      "[  3] Best mean score:    483.4, Pedigree: 22M-6-21-21-21-22-1-6-21MMM-6-22-1-22-22-22-6-22-1-22-6-1\n",
      "\n",
      "[  4] Population average: 392.6\n",
      "[  4] Best mean score:    484.1, Pedigree: 22M-6-21-21-21-22-1-6-21MMM-6-22-1-22-22-22-6-22-1-22-6-1\n",
      "\n",
      "[  5] Population average: 379.0\n",
      "[  5] Best mean score:    485.1, Pedigree: 22M-6-21-21-21-22-1-6-21MMM-6-22-1-22-22-22-6-22-1-22-6-1\n",
      "\n",
      "{'agent': <agents.LinearAgent object at 0x7ff768e5ac18>, 'weights': [-0.038420072021086625, -0.09894921999799955, 0.08920413429256313, 0.795518223459416, 0.5616888590346676, 0.0638950568255372, 0.7148876400735882, 0.17784020387707478, 2.8041611464509892, -0.3974992856089661, -0.009929481156090159, 0.32852424110954703, 0.842606050236741, 0.2948250573454927, 0.18337613738282643, -0.20496866959819715, -0.6948669432775905, -0.3653588445557523, -0.2825950093806444, -0.7438154227742393, 0.042569684962231236], 'pedigree': ['22M', '6', '21', '21', '21', '22', '1', '6', '21MMM', '6', '22', '1', '22', '22', '22', '6', '22', '1', '22', '6', '1'], 'minimum': 463.021189054041, 'maximum': 498.1848049137958, 'mean': 485.09347008640975}\n"
     ]
    },
    {
     "data": {
      "text/html": [
       "<img src='./images/mod_cart_20.gif'>"
      ],
      "text/plain": [
       "<IPython.core.display.HTML object>"
      ]
     },
     "execution_count": 8,
     "metadata": {},
     "output_type": "execute_result"
    }
   ],
   "source": [
    "results = genetic_algorithm(results, generations=5, order=5)\n",
    "\n",
    "winner = sorted(results, key=lambda x: x[\"mean\"], reverse=True)[0]\n",
    "\n",
    "print(winner)\n",
    "\n",
    "HTML(f\"<img src='{winner['agent'].render('mod_cart_20.gif', episodes=1)}'>\")"
   ]
  },
  {
   "cell_type": "code",
   "execution_count": 9,
   "metadata": {},
   "outputs": [
    {
     "name": "stdout",
     "output_type": "stream",
     "text": [
      "[  1] Population average: 395.3\n",
      "[  1] Best mean score:    484.2, Pedigree: 22M-6-21-21-21-22-1-6-21MMM-6-22-22M-21-22-22-6-22-6-22-6-1\n",
      "\n",
      "[  2] Population average: 387.4\n",
      "[  2] Best mean score:    484.3, Pedigree: 22M-6-21-21-21-22-1-6-21MMM-6-22-1-22-22-22-6-22-1-22-6-1\n",
      "\n",
      "[  3] Population average: 390.2\n",
      "[  3] Best mean score:    486.0, Pedigree: 22M-8-21-21-21-22-1-6-21MMM-6-8-1-21-20M-6M-6-22-1-22-22-1\n",
      "\n",
      "[  4] Population average: 394.2\n",
      "[  4] Best mean score:    485.1, Pedigree: 22M-6-21-21-21-22-1-6-21MMM-6-22-22MM-0-22-22-6-22-1-22-21-6\n",
      "\n",
      "[  5] Population average: 408.9\n",
      "[  5] Best mean score:    485.0, Pedigree: 22M-8-21-21-1-22-1-6-21M-6-21M-1-0M-22-6-6-6-1M-22-6-1\n",
      "\n",
      "{'agent': <agents.LinearAgent object at 0x7ff768e8f2b0>, 'weights': [-0.038420072021086625, -0.05240362794528752, 0.08920413429256313, 0.795518223459416, 0.23848436970449804, 0.0638950568255372, 0.7148876400735882, 0.17784020387707478, 1.2472383690551632, -0.3974992856089661, -0.33054836357113626, 0.32852424110954703, -0.5703675464327256, 0.2948250573454927, 0.07413137135366688, -0.20496866959819715, -0.5228673581223018, -0.5637613581664687, -0.2825950093806444, -0.7438154227742393, 0.042569684962231236], 'pedigree': ['22M', '8', '21', '21', '1', '22', '1', '6', '21M', '6', '21M', '1', '0M', '22', '6', '6', '6', '1M', '22', '6', '1'], 'minimum': 482.002143657865, 'maximum': 489.71559221733787, 'mean': 484.95223752905775}\n"
     ]
    },
    {
     "data": {
      "text/html": [
       "<img src='./images/mod_cart_25.gif'>"
      ],
      "text/plain": [
       "<IPython.core.display.HTML object>"
      ]
     },
     "execution_count": 9,
     "metadata": {},
     "output_type": "execute_result"
    }
   ],
   "source": [
    "results = genetic_algorithm(results, generations=5, order=5)\n",
    "\n",
    "winner = sorted(results, key=lambda x: x[\"mean\"], reverse=True)[0]\n",
    "\n",
    "print(winner)\n",
    "\n",
    "HTML(f\"<img src='{winner['agent'].render('mod_cart_25.gif', episodes=1)}'>\")"
   ]
  },
  {
   "cell_type": "code",
   "execution_count": null,
   "metadata": {},
   "outputs": [],
   "source": []
  }
 ],
 "metadata": {
  "kernelspec": {
   "display_name": "Python 3",
   "language": "python",
   "name": "python3"
  },
  "language_info": {
   "codemirror_mode": {
    "name": "ipython",
    "version": 3
   },
   "file_extension": ".py",
   "mimetype": "text/x-python",
   "name": "python",
   "nbconvert_exporter": "python",
   "pygments_lexer": "ipython3",
   "version": "3.6.5"
  }
 },
 "nbformat": 4,
 "nbformat_minor": 2
}
