{
 "cells": [
  {
   "cell_type": "markdown",
   "metadata": {},
   "source": [
    "# Modelled Agents\n",
    "\n",
    "I don't really accomplish anything here.\n",
    "\n",
    "I wanted to see if cartpole could be solved by a naive approach. I figured all you need to do is try a handful of random agents, model reward against agent parameters with ElasticCV, and then simply minimize (well, maximize) the estimated reward/score. Seems simple.\n",
    "\n",
    "As you'll see, this doesn't really work."
   ]
  },
  {
   "cell_type": "code",
   "execution_count": 1,
   "metadata": {},
   "outputs": [],
   "source": [
    "# For Jupyter to display GIFs\n",
    "from IPython.display import HTML\n",
    "\n",
    "# OpenAI gym\n",
    "import gym\n",
    "\n",
    "# Import local script\n",
    "import agents\n",
    "\n",
    "# For modelling the scores\n",
    "import numpy as np\n",
    "from sklearn.linear_model import ElasticNetCV\n",
    "from scipy.optimize import minimize"
   ]
  },
  {
   "cell_type": "markdown",
   "metadata": {},
   "source": [
    "I'm going to create myself a convenience function to manage the agents' attempts. The results are saved in a dictionary."
   ]
  },
  {
   "cell_type": "code",
   "execution_count": 2,
   "metadata": {},
   "outputs": [],
   "source": [
    "def trial_agent(agent, trials=100, limit=1000):\n",
    "    env = gym.make(agent.game)\n",
    "\n",
    "    scores = []\n",
    "    for i in range(trials):\n",
    "        observation = env.reset()\n",
    "        score = 0\n",
    "        for t in range(limit):\n",
    "            action = agent.predict(observation)\n",
    "            observation, reward, done, info = env.step(action)\n",
    "            if done:\n",
    "                break\n",
    "            score += reward\n",
    "        scores.append(score)\n",
    "        \n",
    "    data_dict = {\n",
    "        \"agent\" : agent, \n",
    "        \"weights\" : agent.w, \n",
    "        \"pedigree\" : agent.pedigree, \n",
    "        \"minimum\" : min(scores), \n",
    "        \"maximum\" : max(scores), \n",
    "        \"mean\" : sum(scores)/len(scores)\n",
    "    }\n",
    "    \n",
    "    env.close()\n",
    "    \n",
    "    return data_dict"
   ]
  },
  {
   "cell_type": "markdown",
   "metadata": {},
   "source": [
    "## First-order agent\n",
    "\n",
    "We'll see that this technique can improve the agent's score, but it's not consistent. Often it seems to make the whole thing worse."
   ]
  },
  {
   "cell_type": "code",
   "execution_count": 3,
   "metadata": {},
   "outputs": [
    {
     "name": "stdout",
     "output_type": "stream",
     "text": [
      "{'agent': <agents.LinearAgent object at 0x7f2146b9dac8>, 'weights': array([[-0.04767383],\n",
      "       [-0.41343628],\n",
      "       [-0.8815537 ],\n",
      "       [ 0.5984474 ],\n",
      "       [ 0.94331561]]), 'pedigree': ['-1', '-1', '-1', '-1', '-1'], 'minimum': 38.0, 'maximum': 499.0, 'mean': 140.49}\n"
     ]
    },
    {
     "data": {
      "text/html": [
       "<img src='./images/model_simple_test.gif'>"
      ],
      "text/plain": [
       "<IPython.core.display.HTML object>"
      ]
     },
     "execution_count": 3,
     "metadata": {},
     "output_type": "execute_result"
    }
   ],
   "source": [
    "results = []\n",
    "\n",
    "for a in range(25):\n",
    "    results.append(trial_agent(agents.LinearAgent(weights=None)))\n",
    "\n",
    "winner = sorted(results, key=lambda x: x[\"mean\"], reverse=True)[0]\n",
    "\n",
    "print(winner)\n",
    "\n",
    "HTML(f\"<img src='{winner['agent'].render('model_simple_test.gif')}'>\")"
   ]
  },
  {
   "cell_type": "code",
   "execution_count": 4,
   "metadata": {},
   "outputs": [
    {
     "name": "stdout",
     "output_type": "stream",
     "text": [
      "New weights: [ 1. -1. -1.  1.  1.]\n",
      "Best mean score: 140.65\n",
      "New weights: [-0.5772359 -1.        -1.         1.         1.       ]\n",
      "Best mean score: 169.96\n",
      "New weights: [ 0.01468095 -1.         -1.          1.          1.        ]\n",
      "Best mean score: 145.03\n",
      "New weights: [ 1. -1. -1.  1.  1.]\n",
      "Best mean score: 149.6\n",
      "New weights: [ 1. -1. -1.  1.  1.]\n",
      "Best mean score: 142.57\n",
      "New weights: [-1. -1. -1.  1.  1.]\n",
      "Best mean score: 144.56\n",
      "New weights: [ 0.6471874 -1.        -1.         1.         1.       ]\n",
      "Best mean score: 151.56\n",
      "New weights: [ 0.3738965 -1.        -1.         1.         1.       ]\n",
      "Best mean score: 128.38\n",
      "New weights: [ 0.40622772 -1.         -1.          1.          1.        ]\n",
      "Best mean score: 157.13\n",
      "New weights: [ 1. -1. -1.  1.  1.]\n",
      "Best mean score: 158.38\n",
      "New weights: [ 0.04067076 -1.         -1.          1.          1.        ]\n",
      "Best mean score: 132.34\n",
      "New weights: [-1. -1. -1.  1.  1.]\n",
      "Best mean score: 144.26\n",
      "New weights: [ 0.04067076 -1.         -1.          1.          1.        ]\n",
      "Best mean score: 159.37\n",
      "New weights: [-1. -1. -1.  1.  1.]\n",
      "Best mean score: 169.75\n",
      "New weights: [ 1. -1. -1.  1.  1.]\n",
      "Best mean score: 138.85\n",
      "New weights: [-1. -1. -1.  1.  1.]\n",
      "Best mean score: 147.67\n",
      "New weights: [ 1. -1. -1.  1.  1.]\n",
      "Best mean score: 147.17\n",
      "New weights: [-0.55520899 -1.         -1.          1.          1.        ]\n",
      "Best mean score: 146.08\n",
      "New weights: [ 0.04067076 -1.         -1.          1.          1.        ]\n",
      "Best mean score: 140.7\n",
      "New weights: [ 0.12145827 -1.         -1.          1.          1.        ]\n",
      "Best mean score: 147.75\n",
      "New weights: [-0.94670979 -1.         -1.          1.          1.        ]\n",
      "Best mean score: 136.14\n",
      "New weights: [ 1. -1. -1.  1.  1.]\n",
      "Best mean score: 142.93\n",
      "New weights: [-0.5772359 -1.        -1.         1.         1.       ]\n",
      "Best mean score: 175.06\n",
      "New weights: [ 1. -1. -1.  1.  1.]\n",
      "Best mean score: 139.13\n",
      "New weights: [-1. -1. -1.  1.  1.]\n",
      "Best mean score: 133.46\n"
     ]
    }
   ],
   "source": [
    "for rounds in range(25):\n",
    "    X = np.array([i[\"weights\"].flatten() for i in results])\n",
    "    y = [-i[\"mean\"] for i in results]\n",
    "    model = ElasticNetCV()\n",
    "\n",
    "    model.fit(X, y)\n",
    "\n",
    "    def function(x):\n",
    "        return model.predict([x])\n",
    "\n",
    "    optim_result = minimize(\n",
    "        function, \n",
    "        X[np.random.randint(X.shape[0]),:],\n",
    "        bounds = ((-1,1),(-1,1),(-1,1),(-1,1),(-1,1))\n",
    "        )\n",
    "\n",
    "    new_weights = optim_result[\"x\"]\n",
    "    \n",
    "    print(f\"New weights: {new_weights}\")\n",
    "\n",
    "    new_agents = [i[\"agent\"] for i in results]\n",
    "    new_agents.append(agents.LinearAgent(weights=new_weights))\n",
    "\n",
    "    results = []\n",
    "\n",
    "    for agent in new_agents:\n",
    "        results.append(trial_agent(agent))\n",
    "\n",
    "    print(f\"Best mean score: {max([i['mean'] for i in results])}\")"
   ]
  },
  {
   "cell_type": "code",
   "execution_count": 5,
   "metadata": {},
   "outputs": [
    {
     "name": "stdout",
     "output_type": "stream",
     "text": [
      "{'agent': <agents.LinearAgent object at 0x7f2146b9dac8>, 'weights': array([[-0.04767383],\n",
      "       [-0.41343628],\n",
      "       [-0.8815537 ],\n",
      "       [ 0.5984474 ],\n",
      "       [ 0.94331561]]), 'pedigree': ['-1', '-1', '-1', '-1', '-1'], 'minimum': 40.0, 'maximum': 499.0, 'mean': 133.46}\n"
     ]
    },
    {
     "data": {
      "text/html": [
       "<img src='./images/model_simple.gif'>"
      ],
      "text/plain": [
       "<IPython.core.display.HTML object>"
      ]
     },
     "execution_count": 5,
     "metadata": {},
     "output_type": "execute_result"
    }
   ],
   "source": [
    "winner = sorted(results, key=lambda x: x[\"mean\"], reverse=True)[0]\n",
    "\n",
    "print(winner)\n",
    "\n",
    "HTML(f\"<img src='{winner['agent'].render('model_simple.gif')}'>\")"
   ]
  },
  {
   "cell_type": "markdown",
   "metadata": {},
   "source": [
    "## Second-order agent\n",
    "\n",
    "What about a second-order linear agent? Well, not much more luck there."
   ]
  },
  {
   "cell_type": "code",
   "execution_count": 6,
   "metadata": {},
   "outputs": [
    {
     "name": "stdout",
     "output_type": "stream",
     "text": [
      "{'agent': <agents.LinearAgent object at 0x7f2139c8e0b8>, 'weights': array([[ 0.02993938],\n",
      "       [-0.07200166],\n",
      "       [-0.02676448],\n",
      "       [-0.44498421],\n",
      "       [ 0.70079584],\n",
      "       [-0.37041175],\n",
      "       [-0.90085725],\n",
      "       [ 0.47640766],\n",
      "       [-0.18951579],\n",
      "       [-0.49825458],\n",
      "       [ 0.5753615 ],\n",
      "       [-0.79484706],\n",
      "       [ 0.40982099],\n",
      "       [ 0.43879367],\n",
      "       [-0.24865189]]), 'pedigree': ['-1', '-1', '-1', '-1', '-1', '-1', '-1', '-1', '-1', '-1', '-1', '-1', '-1', '-1', '-1'], 'minimum': 51.0, 'maximum': 171.0, 'mean': 76.95}\n"
     ]
    },
    {
     "data": {
      "text/html": [
       "<img src='./images/model_complex_test.gif'>"
      ],
      "text/plain": [
       "<IPython.core.display.HTML object>"
      ]
     },
     "execution_count": 6,
     "metadata": {},
     "output_type": "execute_result"
    }
   ],
   "source": [
    "results = []\n",
    "\n",
    "for a in range(25):\n",
    "    results.append(trial_agent(agents.LinearAgent(None, order=2)))\n",
    "\n",
    "winner = sorted(results, key=lambda x: x[\"mean\"], reverse=True)[0]\n",
    "\n",
    "print(winner)\n",
    "\n",
    "HTML(f\"<img src='{winner['agent'].render('model_complex_test.gif')}'>\")"
   ]
  },
  {
   "cell_type": "code",
   "execution_count": 7,
   "metadata": {},
   "outputs": [
    {
     "name": "stdout",
     "output_type": "stream",
     "text": [
      "New weights: [ 1.         -0.98057026 -1.          0.76308348  1.          0.14146411\n",
      " -1.          1.          1.          0.89912533  1.         -0.25412356\n",
      "  1.          0.52808718  1.        ]\n",
      "Best mean score: 74.4\n",
      "New weights: [-0.57745244 -0.81514094  0.19659757  0.27986783  0.71523956  0.29032466\n",
      "  0.94202693 -0.29160399  0.61232511 -0.70212115 -0.57001023 -0.06248123\n",
      "  0.45745882 -0.02075776  0.27565627]\n",
      "Best mean score: 76.42\n",
      "New weights: [-0.26042569  0.0638245  -0.43251775  0.94336785  0.72831443  0.38260426\n",
      " -0.95668549 -0.33951856 -0.2318254   0.51604825 -0.64357834 -0.60017052\n",
      " -0.79884325 -0.63089202 -0.05974894]\n",
      "Best mean score: 75.3\n",
      "New weights: [-0.757083   -0.72731039 -1.          0.9049504   1.          0.09401692\n",
      " -1.         -0.1936582   0.42634316  0.69140615  0.36088997 -0.85579091\n",
      " -0.44700762  0.50628162  0.93339813]\n",
      "Best mean score: 77.89\n",
      "New weights: [-0.75302379 -0.923601   -1.         -0.42399257  1.         -0.38219842\n",
      " -1.          0.2765027   0.19400621  0.910071    0.39384761 -0.51227686\n",
      " -0.02571401  0.474112    0.07450829]\n",
      "Best mean score: 77.77\n",
      "New weights: [-0.15639925 -0.58704346 -1.         -0.68465347  1.          0.93797692\n",
      " -1.          0.16887197  0.46437     0.18813338 -0.44276565  0.83320546\n",
      "  0.67236802  0.38964328 -0.118938  ]\n",
      "Best mean score: 74.68\n",
      "New weights: [ 0.27679269  1.         -1.          0.79137526  1.         -0.96006779\n",
      " -1.         -0.63400517 -0.93564707 -0.48436603 -0.09744054  0.21116193\n",
      "  0.46391714  0.63266637  0.49203411]\n",
      "Best mean score: 75.85\n",
      "New weights: [ 1.          1.         -1.         -0.42399257  1.         -0.38219842\n",
      " -1.          0.2765027   0.19400621 -1.          0.39384761  1.\n",
      " -0.02571401  0.474112    0.07450829]\n",
      "Best mean score: 75.61\n",
      "New weights: [ 0.24703878  1.         -1.          0.93435857  1.         -0.63496817\n",
      " -1.         -0.28522173  0.66215331 -0.73617599 -0.19916375  0.39986085\n",
      "  0.50668645 -0.75478369  1.        ]\n",
      "Best mean score: 77.05\n",
      "New weights: [-0.17273875  1.         -1.          0.37694699  1.         -0.87209404\n",
      " -1.         -0.54965689 -0.51372098 -1.         -1.          1.\n",
      "  1.         -0.31504697  1.        ]\n",
      "Best mean score: 74.68\n",
      "New weights: [-0.93331042  1.         -1.          0.55076374  1.          0.31890296\n",
      " -1.         -0.64907089 -0.51449753 -1.         -1.          1.\n",
      "  1.         -0.0542025   1.        ]\n",
      "Best mean score: 75.24\n",
      "New weights: [ 1.          1.         -1.          0.94336785  1.          0.38260426\n",
      " -1.         -0.33951856 -0.2318254  -1.         -1.          1.\n",
      "  1.         -0.63089202  1.        ]\n",
      "Best mean score: 75.55\n",
      "New weights: [-0.49769525  1.         -1.         -1.          1.         -1.\n",
      " -1.         -0.20980589 -0.17662953 -1.         -1.          1.\n",
      "  0.78531279  0.34266912  1.        ]\n",
      "Best mean score: 74.1\n",
      "New weights: [-0.75302379  1.         -1.         -0.42399257  1.         -1.\n",
      " -1.          0.2765027   0.19400621 -1.         -1.          1.\n",
      " -0.02571401  0.474112    1.        ]\n",
      "Best mean score: 77.53\n",
      "New weights: [ 1.          1.         -1.         -0.0941368   1.         -1.\n",
      " -1.         -0.91365974 -0.94212326 -1.          0.1727357   0.63623368\n",
      " -0.69780477 -0.81342625  1.        ]\n",
      "Best mean score: 74.81\n",
      "New weights: [-0.75302379  1.         -1.         -0.42399257  1.         -0.38219842\n",
      " -1.          0.2765027   0.19400621  0.910071   -1.         -0.51227686\n",
      "  1.          0.474112    0.07450829]\n",
      "Best mean score: 73.12\n",
      "New weights: [-0.757083    1.         -1.          0.9049504   1.          0.09401692\n",
      " -1.         -0.1936582   0.42634316  0.69140615 -1.         -0.85579091\n",
      "  1.          0.50628162  1.        ]\n",
      "Best mean score: 75.25\n",
      "New weights: [-0.49769525  1.         -1.         -1.          1.         -1.\n",
      " -1.         -0.20980589 -0.17662953 -1.         -1.          1.\n",
      "  1.          0.34266912  1.        ]\n",
      "Best mean score: 75.92\n",
      "New weights: [-0.93331042  1.         -1.          0.55076374  1.          0.31890296\n",
      " -1.         -0.64907089 -0.51449753 -0.66398203 -0.56048168  1.\n",
      "  1.         -0.0542025   1.        ]\n",
      "Best mean score: 77.29\n",
      "New weights: [-0.49769525  1.         -1.         -1.          1.         -1.\n",
      " -1.         -0.20980589  1.         -1.         -1.          1.\n",
      "  1.          0.34266912  1.        ]\n",
      "Best mean score: 74.99\n",
      "New weights: [ 1.          1.         -1.          0.79137526  1.         -1.\n",
      " -1.         -0.63400517 -0.93564707 -1.         -0.09744054  0.21116193\n",
      "  0.46391714  0.63266637  1.        ]\n",
      "Best mean score: 78.04\n",
      "New weights: [ 1.          1.         -1.         -0.0941368   1.         -1.\n",
      " -1.         -0.91365974 -0.94212326 -1.          0.1727357   0.63623368\n",
      "  1.         -0.81342625  1.        ]\n",
      "Best mean score: 79.92\n",
      "New weights: [ 1.          1.         -1.          0.94336785  1.          0.38260426\n",
      " -1.         -0.33951856 -0.2318254  -1.         -1.          1.\n",
      "  1.         -0.63089202  1.        ]\n",
      "Best mean score: 72.71\n",
      "New weights: [-0.757083    1.         -1.          0.9049504   1.          0.09401692\n",
      " -1.         -0.1936582   1.          0.69140615  0.36088997 -0.85579091\n",
      " -0.44700762  0.50628162  0.93339813]\n",
      "Best mean score: 76.77\n",
      "New weights: [-0.57745244  1.         -1.          0.27986783  1.          0.29032466\n",
      " -1.         -0.29160399  0.61232511 -0.70212115 -0.57001023 -0.06248123\n",
      "  0.45745882 -0.02075776  0.27565627]\n",
      "Best mean score: 75.6\n"
     ]
    }
   ],
   "source": [
    "for rounds in range(25):\n",
    "    X = np.array([list(i[\"agent\"].w.flatten()) for i in results])\n",
    "    y = [-i[\"mean\"] for i in results]\n",
    "    model = ElasticNetCV()\n",
    "\n",
    "    model.fit(X, y)\n",
    "\n",
    "    def function(x):\n",
    "        return model.predict([x])\n",
    "\n",
    "    optim_result = minimize(\n",
    "        function, \n",
    "        X[np.random.randint(X.shape[0]),:],\n",
    "        bounds = ((-1,1),(-1,1),(-1,1),(-1,1),(-1,1),(-1,1),(-1,1),(-1,1),(-1,1),(-1,1),(-1,1),(-1,1),(-1,1),(-1,1),(-1,1))\n",
    "        )\n",
    "\n",
    "    new_weights = optim_result[\"x\"]\n",
    "    \n",
    "    print(f\"New weights: {new_weights}\")\n",
    "\n",
    "    new_agents = [i[\"agent\"] for i in results]\n",
    "    new_agents.append(agents.LinearAgent(weights=new_weights, order=2))\n",
    "\n",
    "    results = []\n",
    "\n",
    "    for agent in new_agents:\n",
    "        results.append(trial_agent(agent))\n",
    "\n",
    "    print(f\"Best mean score: {max([i['mean'] for i in results])}\")"
   ]
  },
  {
   "cell_type": "code",
   "execution_count": 8,
   "metadata": {},
   "outputs": [
    {
     "name": "stdout",
     "output_type": "stream",
     "text": [
      "{'agent': <agents.LinearAgent object at 0x7f2139c8e0b8>, 'weights': array([[ 0.02993938],\n",
      "       [-0.07200166],\n",
      "       [-0.02676448],\n",
      "       [-0.44498421],\n",
      "       [ 0.70079584],\n",
      "       [-0.37041175],\n",
      "       [-0.90085725],\n",
      "       [ 0.47640766],\n",
      "       [-0.18951579],\n",
      "       [-0.49825458],\n",
      "       [ 0.5753615 ],\n",
      "       [-0.79484706],\n",
      "       [ 0.40982099],\n",
      "       [ 0.43879367],\n",
      "       [-0.24865189]]), 'pedigree': ['-1', '-1', '-1', '-1', '-1', '-1', '-1', '-1', '-1', '-1', '-1', '-1', '-1', '-1', '-1'], 'minimum': 51.0, 'maximum': 143.0, 'mean': 75.6}\n"
     ]
    },
    {
     "data": {
      "text/html": [
       "<img src='./images/model_complex.gif'>"
      ],
      "text/plain": [
       "<IPython.core.display.HTML object>"
      ]
     },
     "execution_count": 8,
     "metadata": {},
     "output_type": "execute_result"
    }
   ],
   "source": [
    "winner = sorted(results, key=lambda x: x[\"mean\"], reverse=True)[0]\n",
    "\n",
    "print(winner)\n",
    "\n",
    "HTML(f\"<img src='{winner['agent'].render('model_complex.gif')}'>\")"
   ]
  },
  {
   "cell_type": "markdown",
   "metadata": {},
   "source": [
    "## A simple interpolation approach\n",
    "\n",
    "Maybe I can just pick the two best agents, average them, and win? This pseudo-genetic strategy doesn't really work either."
   ]
  },
  {
   "cell_type": "code",
   "execution_count": 9,
   "metadata": {},
   "outputs": [
    {
     "name": "stdout",
     "output_type": "stream",
     "text": [
      "{'agent': <agents.LinearAgent object at 0x7f214720c7b8>, 'weights': array([[0.02795687],\n",
      "       [0.54463446],\n",
      "       [0.63246507],\n",
      "       [0.22635165],\n",
      "       [0.71787658]]), 'pedigree': ['-1', '-1', '-1', '-1', '-1'], 'minimum': 50.0, 'maximum': 160.0, 'mean': 87.0}\n"
     ]
    },
    {
     "data": {
      "text/html": [
       "<img src='./images/average_simple_test.gif'>"
      ],
      "text/plain": [
       "<IPython.core.display.HTML object>"
      ]
     },
     "execution_count": 9,
     "metadata": {},
     "output_type": "execute_result"
    }
   ],
   "source": [
    "results = []\n",
    "\n",
    "for a in range(25):\n",
    "    results.append(trial_agent(agents.LinearAgent(weights=None)))\n",
    "\n",
    "winner = sorted(results, key=lambda x: x[\"mean\"], reverse=True)[0]\n",
    "\n",
    "print(winner)\n",
    "\n",
    "HTML(f\"<img src='{winner['agent'].render('average_simple_test.gif')}'>\")"
   ]
  },
  {
   "cell_type": "code",
   "execution_count": 10,
   "metadata": {},
   "outputs": [
    {
     "name": "stdout",
     "output_type": "stream",
     "text": [
      "New weights: [[0.00164897]\n",
      " [0.62903522]\n",
      " [0.42023632]\n",
      " [0.11298344]\n",
      " [0.6704636 ]]\n",
      "Best mean score: 89.4\n",
      "New weights: [[0.01480292]\n",
      " [0.58683484]\n",
      " [0.52635069]\n",
      " [0.16966755]\n",
      " [0.69417009]]\n",
      "Best mean score: 89.08\n",
      "New weights: [[0.00822594]\n",
      " [0.60793503]\n",
      " [0.47329351]\n",
      " [0.14132549]\n",
      " [0.68231684]]\n",
      "Best mean score: 88.39\n",
      "New weights: [[0.00493745]\n",
      " [0.61848512]\n",
      " [0.44676492]\n",
      " [0.12715447]\n",
      " [0.67639022]]\n",
      "Best mean score: 87.95\n",
      "New weights: [[0.0065817 ]\n",
      " [0.61321008]\n",
      " [0.46002921]\n",
      " [0.13423998]\n",
      " [0.67935353]]\n",
      "Best mean score: 90.73\n",
      "New weights: [[0.00575958]\n",
      " [0.6158476 ]\n",
      " [0.45339706]\n",
      " [0.13069722]\n",
      " [0.67787188]]\n",
      "Best mean score: 88.82\n",
      "New weights: [[0.00534851]\n",
      " [0.61716636]\n",
      " [0.45008099]\n",
      " [0.12892585]\n",
      " [0.67713105]]\n",
      "Best mean score: 89.82\n",
      "New weights: [[0.00329321]\n",
      " [0.62376017]\n",
      " [0.43350062]\n",
      " [0.12006895]\n",
      " [0.67342691]]\n",
      "Best mean score: 88.81\n",
      "New weights: [[0.00432086]\n",
      " [0.62046327]\n",
      " [0.4417908 ]\n",
      " [0.1244974 ]\n",
      " [0.67527898]]\n",
      "Best mean score: 90.95\n",
      "New weights: [[0.00462916]\n",
      " [0.61947419]\n",
      " [0.44427786]\n",
      " [0.12582593]\n",
      " [0.6758346 ]]\n",
      "Best mean score: 90.25\n",
      "New weights: [[0.00462916]\n",
      " [0.61947419]\n",
      " [0.44427786]\n",
      " [0.12582593]\n",
      " [0.6758346 ]]\n",
      "Best mean score: 89.7\n",
      "New weights: [[0.00478331]\n",
      " [0.61897966]\n",
      " [0.44552139]\n",
      " [0.1264902 ]\n",
      " [0.67611241]]\n",
      "Best mean score: 90.74\n",
      "New weights: [[0.00470623]\n",
      " [0.61922693]\n",
      " [0.44489962]\n",
      " [0.12615807]\n",
      " [0.67597351]]\n",
      "Best mean score: 90.15\n",
      "New weights: [[0.00478331]\n",
      " [0.61897966]\n",
      " [0.44552139]\n",
      " [0.1264902 ]\n",
      " [0.67611241]]\n",
      "Best mean score: 90.73\n",
      "New weights: [[0.00474477]\n",
      " [0.61910329]\n",
      " [0.44521051]\n",
      " [0.12632413]\n",
      " [0.67604296]]\n",
      "Best mean score: 90.98\n",
      "New weights: [[0.00575958]\n",
      " [0.6158476 ]\n",
      " [0.45339706]\n",
      " [0.13069722]\n",
      " [0.67787188]]\n",
      "Best mean score: 89.73\n",
      "New weights: [[0.00462916]\n",
      " [0.61947419]\n",
      " [0.44427786]\n",
      " [0.12582593]\n",
      " [0.6758346 ]]\n",
      "Best mean score: 89.57\n",
      "New weights: [[0.00483469]\n",
      " [0.61881481]\n",
      " [0.4459359 ]\n",
      " [0.12671162]\n",
      " [0.67620501]]\n",
      "Best mean score: 90.93\n",
      "New weights: [[0.00462916]\n",
      " [0.61947419]\n",
      " [0.44427786]\n",
      " [0.12582593]\n",
      " [0.6758346 ]]\n",
      "Best mean score: 90.05\n",
      "New weights: [[0.00349874]\n",
      " [0.62310079]\n",
      " [0.43515866]\n",
      " [0.12095464]\n",
      " [0.67379732]]\n",
      "Best mean score: 90.78\n",
      "New weights: [[0.00396118]\n",
      " [0.62161718]\n",
      " [0.43888924]\n",
      " [0.12294744]\n",
      " [0.67463076]]\n",
      "Best mean score: 90.32\n",
      "New weights: [[0.00473192]\n",
      " [0.6191445 ]\n",
      " [0.44510688]\n",
      " [0.12626878]\n",
      " [0.67601981]]\n",
      "Best mean score: 90.94\n",
      "New weights: [[0.00412175]\n",
      " [0.62110204]\n",
      " [0.44018458]\n",
      " [0.12363939]\n",
      " [0.67492014]]\n",
      "Best mean score: 90.63\n",
      "New weights: [[0.00396118]\n",
      " [0.62161718]\n",
      " [0.43888924]\n",
      " [0.12294744]\n",
      " [0.67463076]]\n",
      "Best mean score: 90.25\n",
      "New weights: [[0.00406395]\n",
      " [0.62128749]\n",
      " [0.43971826]\n",
      " [0.12339029]\n",
      " [0.67481596]]\n",
      "Best mean score: 89.55\n"
     ]
    }
   ],
   "source": [
    "for rounds in range(25):\n",
    "    top_scores = sorted(results, key=lambda x: x[\"mean\"], reverse=True)\n",
    "    \n",
    "    top_two = top_scores[:2]\n",
    "\n",
    "    new_weights = np.mean(np.array([i[\"weights\"] for i in top_two]), axis=0)\n",
    "    \n",
    "    print(f\"New weights: {new_weights}\")\n",
    "\n",
    "    new_agents = [i[\"agent\"] for i in results]\n",
    "    new_agents.append(agents.LinearAgent(weights=new_weights, order=1))\n",
    "\n",
    "    results = []\n",
    "\n",
    "    for agent in new_agents:\n",
    "        results.append(trial_agent(agent))\n",
    "\n",
    "    print(f\"Best mean score: {max([i['mean'] for i in results])}\")"
   ]
  },
  {
   "cell_type": "code",
   "execution_count": 11,
   "metadata": {},
   "outputs": [
    {
     "name": "stdout",
     "output_type": "stream",
     "text": [
      "{'agent': <agents.LinearAgent object at 0x7f2139c8ef98>, 'weights': array([[0.00478331],\n",
      "       [0.61897966],\n",
      "       [0.44552139],\n",
      "       [0.1264902 ],\n",
      "       [0.67611241]]), 'pedigree': ['-1', '-1', '-1', '-1', '-1'], 'minimum': 54.0, 'maximum': 140.0, 'mean': 89.55}\n"
     ]
    },
    {
     "data": {
      "text/html": [
       "<img src='./images/average_simple.gif'>"
      ],
      "text/plain": [
       "<IPython.core.display.HTML object>"
      ]
     },
     "execution_count": 11,
     "metadata": {},
     "output_type": "execute_result"
    }
   ],
   "source": [
    "winner = sorted(results, key=lambda x: x[\"mean\"], reverse=True)[0]\n",
    "\n",
    "print(winner)\n",
    "\n",
    "HTML(f\"<img src='{winner['agent'].render('average_simple.gif')}'>\")"
   ]
  },
  {
   "cell_type": "code",
   "execution_count": null,
   "metadata": {},
   "outputs": [],
   "source": []
  }
 ],
 "metadata": {
  "kernelspec": {
   "display_name": "Python 3",
   "language": "python",
   "name": "python3"
  },
  "language_info": {
   "codemirror_mode": {
    "name": "ipython",
    "version": 3
   },
   "file_extension": ".py",
   "mimetype": "text/x-python",
   "name": "python",
   "nbconvert_exporter": "python",
   "pygments_lexer": "ipython3",
   "version": "3.6.5"
  }
 },
 "nbformat": 4,
 "nbformat_minor": 2
}
