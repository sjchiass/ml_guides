{
 "cells": [
  {
   "cell_type": "markdown",
   "metadata": {},
   "source": [
    "# Modelled Agents\n",
    "\n",
    "I don't really accomplish anything here.\n",
    "\n",
    "I wanted to see if cartpole could be solved by a naive approach. I figured all you need to do is try a handful of random agents, model reward against agent parameters with ElasticCV, and then simply minimize (well, maximize) the estimated reward/score. Seems simple.\n",
    "\n",
    "As you'll see, this doesn't really work."
   ]
  },
  {
   "cell_type": "code",
   "execution_count": 1,
   "metadata": {},
   "outputs": [],
   "source": [
    "# For Jupyter to display GIFs\n",
    "from IPython.display import HTML\n",
    "\n",
    "# OpenAI gym\n",
    "import gym\n",
    "\n",
    "# Import local script\n",
    "import agents\n",
    "\n",
    "# For modelling the scores\n",
    "import numpy as np\n",
    "from sklearn.linear_model import ElasticNetCV\n",
    "from scipy.optimize import minimize"
   ]
  },
  {
   "cell_type": "markdown",
   "metadata": {},
   "source": [
    "I'm going to create myself a convenience function to manage the agents' attempts. The results are saved in a dictionary."
   ]
  },
  {
   "cell_type": "code",
   "execution_count": 2,
   "metadata": {},
   "outputs": [],
   "source": [
    "def trial_agent(agent, trials=100, limit=1000):\n",
    "    env = gym.make(agent.game)\n",
    "\n",
    "    scores = []\n",
    "    for i in range(trials):\n",
    "        observation = env.reset()\n",
    "        score = 0\n",
    "        for t in range(limit):\n",
    "            action = agent.predict(observation)\n",
    "            observation, reward, done, info = env.step(action)\n",
    "            if done:\n",
    "                break\n",
    "            score += reward\n",
    "        scores.append(score)\n",
    "        \n",
    "    data_dict = {\n",
    "        \"agent\" : agent, \n",
    "        \"weights\" : agent.w, \n",
    "        \"pedigree\" : agent.pedigree, \n",
    "        \"minimum\" : min(scores), \n",
    "        \"maximum\" : max(scores), \n",
    "        \"mean\" : sum(scores)/len(scores)\n",
    "    }\n",
    "    \n",
    "    env.close()\n",
    "    \n",
    "    return data_dict"
   ]
  },
  {
   "cell_type": "markdown",
   "metadata": {},
   "source": [
    "## First-order agent\n",
    "\n",
    "We'll see that this technique can improve the agent's score, but it's not consistent. Often it seems to make the whole thing worse."
   ]
  },
  {
   "cell_type": "code",
   "execution_count": 3,
   "metadata": {},
   "outputs": [
    {
     "name": "stdout",
     "output_type": "stream",
     "text": [
      "{'agent': <agents.LinearAgent object at 0x7fd49675af28>, 'weights': array([ 0.06445774,  0.26379023, -0.77444378, -0.00948223,  0.72288678]), 'pedigree': ['-1', '-1', '-1', '-1', '-1'], 'minimum': 31.0, 'maximum': 120.0, 'mean': 54.73}\n"
     ]
    },
    {
     "data": {
      "text/html": [
       "<img src='./images/model_simple_test.gif'>"
      ],
      "text/plain": [
       "<IPython.core.display.HTML object>"
      ]
     },
     "execution_count": 3,
     "metadata": {},
     "output_type": "execute_result"
    }
   ],
   "source": [
    "results = []\n",
    "\n",
    "for a in range(25):\n",
    "    results.append(trial_agent(agents.LinearAgent(weights=None)))\n",
    "\n",
    "winner = sorted(results, key=lambda x: x[\"mean\"], reverse=True)[0]\n",
    "\n",
    "print(winner)\n",
    "\n",
    "HTML(f\"<img src='{winner['agent'].render('model_simple_test.gif')}'>\")"
   ]
  },
  {
   "cell_type": "code",
   "execution_count": 4,
   "metadata": {},
   "outputs": [
    {
     "name": "stdout",
     "output_type": "stream",
     "text": [
      "New weights: [ 1.          0.55519479 -1.          1.          1.        ]\n",
      "Best mean score: 50.07\n",
      "New weights: [ 1. -1. -1.  1.  1.]\n",
      "Best mean score: 49.54\n",
      "New weights: [ 1.          0.47419455 -1.          1.          1.        ]\n",
      "Best mean score: 53.34\n",
      "New weights: [ 0.53803873 -0.33275824 -1.          1.          1.        ]\n",
      "Best mean score: 53.07\n",
      "New weights: [-0.50941169  0.08646901 -1.          1.          1.        ]\n",
      "Best mean score: 51.28\n",
      "New weights: [-1. -1. -1.  1.  1.]\n",
      "Best mean score: 52.16\n",
      "New weights: [ 0.35302354  0.55519479 -1.          1.          1.        ]\n",
      "Best mean score: 54.68\n",
      "New weights: [ 1.  1. -1.  1.  1.]\n",
      "Best mean score: 52.14\n",
      "New weights: [-0.083834   -0.62977961 -1.          1.          1.        ]\n",
      "Best mean score: 93.94\n",
      "New weights: [-1. -1. -1.  1.  1.]\n",
      "Best mean score: 107.66\n",
      "New weights: [-1. -1. -1.  1.  1.]\n",
      "Best mean score: 92.65\n",
      "New weights: [ 1. -1. -1.  1.  1.]\n",
      "Best mean score: 124.01\n",
      "New weights: [-1. -1. -1.  1.  1.]\n",
      "Best mean score: 109.86\n",
      "New weights: [-0.10590167 -1.         -1.          1.          1.        ]\n",
      "Best mean score: 101.59\n",
      "New weights: [-0.50941169 -1.         -1.          1.          1.        ]\n",
      "Best mean score: 114.47\n",
      "New weights: [-1. -1. -1.  1.  1.]\n",
      "Best mean score: 116.01\n",
      "New weights: [ 1. -1. -1.  1.  1.]\n",
      "Best mean score: 120.56\n",
      "New weights: [-1. -1. -1.  1.  1.]\n",
      "Best mean score: 99.81\n",
      "New weights: [ 1. -1. -1.  1.  1.]\n",
      "Best mean score: 101.61\n",
      "New weights: [ 1. -1. -1.  1.  1.]\n",
      "Best mean score: 114.51\n",
      "New weights: [-1. -1. -1.  1.  1.]\n",
      "Best mean score: 102.83\n",
      "New weights: [-1. -1. -1.  1.  1.]\n",
      "Best mean score: 108.99\n",
      "New weights: [-0.50941169 -1.         -1.          1.          1.        ]\n",
      "Best mean score: 104.81\n",
      "New weights: [-0.77541523 -1.         -1.          1.          1.        ]\n",
      "Best mean score: 89.81\n",
      "New weights: [-0.10590167 -1.         -1.          1.          1.        ]\n",
      "Best mean score: 94.75\n"
     ]
    }
   ],
   "source": [
    "for rounds in range(25):\n",
    "    X = np.array([i[\"agent\"].w for i in results])\n",
    "    y = [-i[\"mean\"] for i in results]\n",
    "    model = ElasticNetCV()\n",
    "\n",
    "    model.fit(X, y)\n",
    "\n",
    "    def function(x):\n",
    "        return model.predict([x])\n",
    "\n",
    "    optim_result = minimize(\n",
    "        function, \n",
    "        X[np.random.randint(X.shape[0]),:],\n",
    "        bounds = ((-1,1),(-1,1),(-1,1),(-1,1),(-1,1))\n",
    "        )\n",
    "\n",
    "    new_weights = optim_result[\"x\"]\n",
    "    \n",
    "    print(f\"New weights: {new_weights}\")\n",
    "\n",
    "    new_agents = [i[\"agent\"] for i in results]\n",
    "    new_agents.append(agents.LinearAgent(weights=new_weights))\n",
    "\n",
    "    results = []\n",
    "\n",
    "    for agent in new_agents:\n",
    "        results.append(trial_agent(agent))\n",
    "\n",
    "    print(f\"Best mean score: {max([i['mean'] for i in results])}\")"
   ]
  },
  {
   "cell_type": "code",
   "execution_count": 5,
   "metadata": {},
   "outputs": [
    {
     "name": "stdout",
     "output_type": "stream",
     "text": [
      "{'agent': <agents.LinearAgent object at 0x7fd48b7c4f28>, 'weights': array([-0.083834  , -0.62977961, -1.        ,  1.        ,  1.        ]), 'pedigree': ['-1', '-1', '-1', '-1', '-1'], 'minimum': 35.0, 'maximum': 499.0, 'mean': 94.75}\n"
     ]
    },
    {
     "data": {
      "text/html": [
       "<img src='./images/model_simple.gif'>"
      ],
      "text/plain": [
       "<IPython.core.display.HTML object>"
      ]
     },
     "execution_count": 5,
     "metadata": {},
     "output_type": "execute_result"
    }
   ],
   "source": [
    "winner = sorted(results, key=lambda x: x[\"mean\"], reverse=True)[0]\n",
    "\n",
    "print(winner)\n",
    "\n",
    "HTML(f\"<img src='{winner['agent'].render('model_simple.gif')}'>\")"
   ]
  },
  {
   "cell_type": "markdown",
   "metadata": {},
   "source": [
    "## Second-order agent\n",
    "\n",
    "What about a second-order linear agent? Well, not much more luck there."
   ]
  },
  {
   "cell_type": "code",
   "execution_count": 6,
   "metadata": {},
   "outputs": [
    {
     "name": "stdout",
     "output_type": "stream",
     "text": [
      "{'agent': <agents.LinearAgent object at 0x7fd48b7c49b0>, 'weights': array([-0.07696393, -0.41381943, -0.39084882,  0.01602592,  0.9757666 ,\n",
      "       -0.72577967,  0.28824408, -0.2641107 , -0.99834271]), 'pedigree': ['-1', '-1', '-1', '-1', '-1', '-1', '-1', '-1', '-1'], 'minimum': 34.0, 'maximum': 114.0, 'mean': 57.95}\n"
     ]
    },
    {
     "data": {
      "text/html": [
       "<img src='./images/model_complex_test.gif'>"
      ],
      "text/plain": [
       "<IPython.core.display.HTML object>"
      ]
     },
     "execution_count": 6,
     "metadata": {},
     "output_type": "execute_result"
    }
   ],
   "source": [
    "results = []\n",
    "\n",
    "for a in range(25):\n",
    "    results.append(trial_agent(agents.LinearAgent(None, order=2)))\n",
    "\n",
    "winner = sorted(results, key=lambda x: x[\"mean\"], reverse=True)[0]\n",
    "\n",
    "print(winner)\n",
    "\n",
    "HTML(f\"<img src='{winner['agent'].render('model_complex_test.gif')}'>\")"
   ]
  },
  {
   "cell_type": "code",
   "execution_count": 7,
   "metadata": {},
   "outputs": [
    {
     "name": "stdout",
     "output_type": "stream",
     "text": [
      "New weights: [-0.56505166 -0.4292349  -0.05185146 -0.27065133  0.75084665  0.25098994\n",
      " -0.96915118 -0.4028917  -0.38118921]\n",
      "Best mean score: 63.16\n",
      "New weights: [ 0.43788251  0.45405379 -0.96720325  0.28977011 -0.3975548   0.93323486\n",
      " -0.4434338   0.79899917 -0.50224365]\n",
      "Best mean score: 63.62\n",
      "New weights: [-0.84235024  0.78402661 -0.38574107 -0.09165103  1.         -0.53242327\n",
      " -0.8334698   0.36825708 -0.7734683 ]\n",
      "Best mean score: 60.0\n",
      "New weights: [ 0.50576435 -0.9849318   0.6877891   0.29483987  0.46107278  0.35342359\n",
      "  0.91627621 -0.83574404  0.36608969]\n",
      "Best mean score: 65.27\n",
      "New weights: [-0.30019676  0.07596906  0.84034081  0.81476214 -0.0422685  -0.96825594\n",
      " -0.90818088 -0.84462504 -0.88879345]\n",
      "Best mean score: 63.69\n",
      "New weights: [-0.84235024  0.78402661 -0.38574107 -0.09165103  0.9329098  -0.53242327\n",
      " -0.8334698   0.36825708 -0.7734683 ]\n",
      "Best mean score: 60.71\n",
      "New weights: [ 0.70706614 -0.08600052  0.83260981 -0.39733541 -0.80570633 -0.6913631\n",
      "  0.82276298  0.44627394  0.9559877 ]\n",
      "Best mean score: 62.86\n",
      "New weights: [-0.41563896 -0.05595679  0.68149559 -0.97325995 -0.28340415 -0.21666607\n",
      "  0.86673105  0.66113005 -0.13824339]\n",
      "Best mean score: 62.13\n",
      "New weights: [ 0.70706614 -0.08600052 -1.         -0.39733541  1.         -0.6913631\n",
      "  0.82276298  0.44627394  0.9559877 ]\n",
      "Best mean score: 64.17\n",
      "New weights: [-0.56206782 -1.         -1.          0.55025651  1.         -1.\n",
      "  0.05949189 -0.64789469  0.81190783]\n",
      "Best mean score: 60.82\n",
      "New weights: [-0.80225819 -1.         -1.         -1.          1.         -1.\n",
      "  1.         -1.         -0.5750715 ]\n",
      "Best mean score: 59.44\n",
      "New weights: [ 0.3508913  -1.         -1.          0.69842636  1.         -1.\n",
      " -0.15771597 -1.          0.20940056]\n",
      "Best mean score: 60.82\n",
      "New weights: [ 1.         -1.         -1.          0.55025651  1.         -1.\n",
      "  0.05949189 -1.          0.81190783]\n",
      "Best mean score: 57.57\n",
      "New weights: [ 1. -1. -1.  1.  1. -1.  1. -1.  1.]\n",
      "Best mean score: 60.6\n",
      "New weights: [ 1.         -1.         -1.          1.          1.         -1.\n",
      " -0.15771597 -1.          0.20940056]\n",
      "Best mean score: 62.7\n",
      "New weights: [ 1.         -1.         -1.          1.          1.         -1.\n",
      " -0.15771597 -1.          0.20940056]\n",
      "Best mean score: 70.0\n",
      "New weights: [ 1.         -1.         -1.         -0.29585843  1.         -1.\n",
      "  0.23679838 -1.          0.86529839]\n",
      "Best mean score: 62.53\n",
      "New weights: [ 1.         -1.         -1.          1.          1.         -1.\n",
      "  0.6849716  -1.          0.57622629]\n",
      "Best mean score: 65.83\n",
      "New weights: [ 1.         -1.         -1.         -0.27065133  1.         -1.\n",
      " -0.96915118 -1.         -0.38118921]\n",
      "Best mean score: 64.75\n",
      "New weights: [ 1.         -1.         -1.          1.          1.         -1.\n",
      " -0.96915118 -1.         -0.38118921]\n",
      "Best mean score: 59.6\n",
      "New weights: [ 1.         -1.         -1.          1.          1.         -1.\n",
      " -0.15771597 -1.          1.        ]\n",
      "Best mean score: 63.65\n",
      "New weights: [ 1.         -1.         -1.          1.          1.         -1.\n",
      "  0.6849716  -1.          0.57622629]\n",
      "Best mean score: 61.42\n",
      "New weights: [ 1.         -1.         -1.          1.          1.         -1.\n",
      "  0.58124544 -1.          1.        ]\n",
      "Best mean score: 62.14\n",
      "New weights: [ 1.         -1.         -1.          0.81476214  1.         -1.\n",
      " -0.90818088 -1.         -0.88879345]\n",
      "Best mean score: 61.26\n",
      "New weights: [ 1.        -1.        -1.         1.         1.        -1.\n",
      "  1.        -1.        -0.5750715]\n",
      "Best mean score: 59.59\n"
     ]
    }
   ],
   "source": [
    "for rounds in range(25):\n",
    "    X = np.array([i[\"agent\"].w for i in results])\n",
    "    y = [-i[\"mean\"] for i in results]\n",
    "    model = ElasticNetCV()\n",
    "\n",
    "    model.fit(X, y)\n",
    "\n",
    "    def function(x):\n",
    "        return model.predict([x])\n",
    "\n",
    "    optim_result = minimize(\n",
    "        function, \n",
    "        X[np.random.randint(X.shape[0]),:],\n",
    "        bounds = ((-1,1),(-1,1),(-1,1),(-1,1),(-1,1),(-1,1),(-1,1),(-1,1),(-1,1))\n",
    "        )\n",
    "\n",
    "    new_weights = optim_result[\"x\"]\n",
    "    \n",
    "    print(f\"New weights: {new_weights}\")\n",
    "\n",
    "    new_agents = [i[\"agent\"] for i in results]\n",
    "    new_agents.append(agents.LinearAgent(weights=new_weights, order=2))\n",
    "\n",
    "    results = []\n",
    "\n",
    "    for agent in new_agents:\n",
    "        results.append(trial_agent(agent))\n",
    "\n",
    "    print(f\"Best mean score: {max([i['mean'] for i in results])}\")"
   ]
  },
  {
   "cell_type": "code",
   "execution_count": 8,
   "metadata": {},
   "outputs": [
    {
     "name": "stdout",
     "output_type": "stream",
     "text": [
      "{'agent': <agents.LinearAgent object at 0x7fd48b7c49b0>, 'weights': array([-0.07696393, -0.41381943, -0.39084882,  0.01602592,  0.9757666 ,\n",
      "       -0.72577967,  0.28824408, -0.2641107 , -0.99834271]), 'pedigree': ['-1', '-1', '-1', '-1', '-1', '-1', '-1', '-1', '-1'], 'minimum': 34.0, 'maximum': 131.0, 'mean': 59.59}\n"
     ]
    },
    {
     "data": {
      "text/html": [
       "<img src='./images/model_complex.gif'>"
      ],
      "text/plain": [
       "<IPython.core.display.HTML object>"
      ]
     },
     "execution_count": 8,
     "metadata": {},
     "output_type": "execute_result"
    }
   ],
   "source": [
    "winner = sorted(results, key=lambda x: x[\"mean\"], reverse=True)[0]\n",
    "\n",
    "print(winner)\n",
    "\n",
    "HTML(f\"<img src='{winner['agent'].render('model_complex.gif')}'>\")"
   ]
  },
  {
   "cell_type": "markdown",
   "metadata": {},
   "source": [
    "## A simple interpolation approach\n",
    "\n",
    "Maybe I can just pick the two best agents, average them, and win? This pseudo-genetic strategy doesn't really work either."
   ]
  },
  {
   "cell_type": "code",
   "execution_count": 9,
   "metadata": {},
   "outputs": [
    {
     "name": "stdout",
     "output_type": "stream",
     "text": [
      "{'agent': <agents.LinearAgent object at 0x7fd48b7c42b0>, 'weights': array([ 0.35443014, -0.78348071, -0.66300644,  0.64119488,  0.75963163]), 'pedigree': ['-1', '-1', '-1', '-1', '-1'], 'minimum': 22.0, 'maximum': 77.0, 'mean': 34.9}\n"
     ]
    },
    {
     "data": {
      "text/html": [
       "<img src='./images/average_simple_test.gif'>"
      ],
      "text/plain": [
       "<IPython.core.display.HTML object>"
      ]
     },
     "execution_count": 9,
     "metadata": {},
     "output_type": "execute_result"
    }
   ],
   "source": [
    "results = []\n",
    "\n",
    "for a in range(25):\n",
    "    results.append(trial_agent(agents.LinearAgent(weights=None)))\n",
    "\n",
    "winner = sorted(results, key=lambda x: x[\"mean\"], reverse=True)[0]\n",
    "\n",
    "print(winner)\n",
    "\n",
    "HTML(f\"<img src='{winner['agent'].render('average_simple_test.gif')}'>\")"
   ]
  },
  {
   "cell_type": "code",
   "execution_count": 10,
   "metadata": {},
   "outputs": [
    {
     "name": "stdout",
     "output_type": "stream",
     "text": [
      "New weights: [ 0.17377927 -0.11580529 -0.73357662  0.72638408  0.1810018 ]\n",
      "Best mean score: 39.44\n",
      "New weights: [ 0.2641047  -0.449643   -0.69829153  0.68378948  0.47031672]\n",
      "Best mean score: 41.47\n",
      "New weights: [ 0.21894198 -0.28272414 -0.71593407  0.70508678  0.32565926]\n",
      "Best mean score: 40.82\n",
      "New weights: [ 0.21894198 -0.28272414 -0.71593407  0.70508678  0.32565926]\n",
      "Best mean score: 39.36\n",
      "New weights: [ 0.19636063 -0.19926471 -0.72475534  0.71573543  0.25333053]\n",
      "Best mean score: 41.77\n",
      "New weights: [ 0.18506995 -0.157535   -0.72916598  0.72105975  0.21716617]\n",
      "Best mean score: 42.86\n",
      "New weights: [ 0.17942461 -0.13667014 -0.7313713   0.72372192  0.19908399]\n",
      "Best mean score: 40.48\n",
      "New weights: [ 0.17660194 -0.12623771 -0.73247396  0.725053    0.19004289]\n",
      "Best mean score: 43.19\n",
      "New weights: [ 0.19071529 -0.17839986 -0.72696066  0.71839759  0.23524835]\n",
      "Best mean score: 45.19\n",
      "New weights: [ 0.17942461 -0.13667014 -0.7313713   0.72372192  0.19908399]\n",
      "Best mean score: 44.11\n",
      "New weights: [ 0.17942461 -0.13667014 -0.7313713   0.72372192  0.19908399]\n",
      "Best mean score: 45.34\n",
      "New weights: [ 0.17660194 -0.12623771 -0.73247396  0.725053    0.19004289]\n",
      "Best mean score: 44.24\n",
      "New weights: [ 0.18506995 -0.157535   -0.72916598  0.72105975  0.21716617]\n",
      "Best mean score: 44.66\n",
      "New weights: [ 0.18224728 -0.14710257 -0.73026864  0.72239084  0.20812508]\n",
      "Best mean score: 44.14\n",
      "New weights: [ 0.18365861 -0.15231879 -0.72971731  0.72172529  0.21264562]\n",
      "Best mean score: 45.6\n",
      "New weights: [ 0.18648128 -0.16275121 -0.72861465  0.72039421  0.22168671]\n",
      "Best mean score: 43.63\n",
      "New weights: [ 0.18224728 -0.14710257 -0.73026864  0.72239084  0.20812508]\n",
      "Best mean score: 44.25\n",
      "New weights: [ 0.18506995 -0.157535   -0.72916598  0.72105975  0.21716617]\n",
      "Best mean score: 46.03\n",
      "New weights: [ 0.18365861 -0.15231879 -0.72971731  0.72172529  0.21264562]\n",
      "Best mean score: 43.97\n",
      "New weights: [ 0.18365861 -0.15231879 -0.72971731  0.72172529  0.21264562]\n",
      "Best mean score: 43.82\n",
      "New weights: [ 0.18365861 -0.15231879 -0.72971731  0.72172529  0.21264562]\n",
      "Best mean score: 45.75\n",
      "New weights: [ 0.18013027 -0.13927825 -0.73109563  0.72338915  0.20134426]\n",
      "Best mean score: 45.01\n",
      "New weights: [ 0.18436428 -0.15492689 -0.72944164  0.72139252  0.21490589]\n",
      "Best mean score: 45.84\n",
      "New weights: [ 0.18365861 -0.15231879 -0.72971731  0.72172529  0.21264562]\n",
      "Best mean score: 49.79\n",
      "New weights: [ 0.17801327 -0.13145393 -0.73192263  0.72438746  0.19456344]\n",
      "Best mean score: 45.2\n"
     ]
    }
   ],
   "source": [
    "for rounds in range(25):\n",
    "    top_scores = sorted(results, key=lambda x: x[\"mean\"], reverse=True)\n",
    "    \n",
    "    top_two = top_scores[:2]\n",
    "\n",
    "    new_weights = np.mean(np.array([i[\"weights\"] for i in top_two]), axis=0)\n",
    "    \n",
    "    print(f\"New weights: {new_weights}\")\n",
    "\n",
    "    new_agents = [i[\"agent\"] for i in results]\n",
    "    new_agents.append(agents.LinearAgent(weights=new_weights, order=1))\n",
    "\n",
    "    results = []\n",
    "\n",
    "    for agent in new_agents:\n",
    "        results.append(trial_agent(agent))\n",
    "\n",
    "    print(f\"Best mean score: {max([i['mean'] for i in results])}\")"
   ]
  },
  {
   "cell_type": "code",
   "execution_count": 11,
   "metadata": {},
   "outputs": [
    {
     "name": "stdout",
     "output_type": "stream",
     "text": [
      "{'agent': <agents.LinearAgent object at 0x7fd496d81400>, 'weights': array([ 0.18506995, -0.157535  , -0.72916598,  0.72105975,  0.21716617]), 'pedigree': ['-1', '-1', '-1', '-1', '-1'], 'minimum': 22.0, 'maximum': 175.0, 'mean': 45.2}\n"
     ]
    },
    {
     "data": {
      "text/html": [
       "<img src='./images/average_simple.gif'>"
      ],
      "text/plain": [
       "<IPython.core.display.HTML object>"
      ]
     },
     "execution_count": 11,
     "metadata": {},
     "output_type": "execute_result"
    }
   ],
   "source": [
    "winner = sorted(results, key=lambda x: x[\"mean\"], reverse=True)[0]\n",
    "\n",
    "print(winner)\n",
    "\n",
    "HTML(f\"<img src='{winner['agent'].render('average_simple.gif')}'>\")"
   ]
  },
  {
   "cell_type": "code",
   "execution_count": null,
   "metadata": {},
   "outputs": [],
   "source": []
  }
 ],
 "metadata": {
  "kernelspec": {
   "display_name": "Python 3",
   "language": "python",
   "name": "python3"
  },
  "language_info": {
   "codemirror_mode": {
    "name": "ipython",
    "version": 3
   },
   "file_extension": ".py",
   "mimetype": "text/x-python",
   "name": "python",
   "nbconvert_exporter": "python",
   "pygments_lexer": "ipython3",
   "version": "3.6.5"
  }
 },
 "nbformat": 4,
 "nbformat_minor": 2
}
