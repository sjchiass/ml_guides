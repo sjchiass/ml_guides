{
 "cells": [
  {
   "cell_type": "markdown",
   "metadata": {},
   "source": [
    "# Driving a Car Over the Mountain\n",
    "\n",
    "Cartpole is pretty easy, but mountain-car is hard. According to [Reddit](https://www.reddit.com/r/MachineLearning/comments/67fqv8/da3c_performs_badly_in_mountain_car/), mountain-car is difficult because rewards only in a win. The gym [wiki page](https://github.com/openai/gym/wiki/MountainCar-v0) also explains this. Unless your car reaches the little flag, you receive a -1 penalty each action you take: agents may be tempted to give up and chill at the bottom of the valley.\n",
    "\n",
    "In order to solve the mountain-car game, the agent has to build momentum by going left and right. This is like how you can dislodge your car from being stuck in snow by rocking it forwards and backwards. Agents have to experiment a little to figure it out.\n",
    "\n",
    "The functions are the same from the previous notebook."
   ]
  },
  {
   "cell_type": "code",
   "execution_count": 1,
   "metadata": {},
   "outputs": [],
   "source": [
    "# Display GIFs in Jupyter\n",
    "from IPython.display import HTML\n",
    "\n",
    "# OpenAI gym\n",
    "import gym\n",
    "\n",
    "# Import local script\n",
    "import agents\n",
    "\n",
    "# numpy\n",
    "import numpy as np\n",
    "\n",
    "# To speed up the algorithm\n",
    "from multiprocessing import Pool\n",
    "n_jobs = 4 # Set your number of cores here"
   ]
  },
  {
   "cell_type": "code",
   "execution_count": 2,
   "metadata": {},
   "outputs": [],
   "source": [
    "def trial_agent(agent, trials=25, limit=200):\n",
    "    env = gym.make(agent.game)\n",
    "\n",
    "    scores = []\n",
    "    for i in range(trials):\n",
    "        observation = env.reset()\n",
    "        score = 0\n",
    "        for t in range(limit):\n",
    "            action = agent.predict(observation)\n",
    "            observation, reward, done, info = env.step(action)\n",
    "            if done:\n",
    "                break\n",
    "            score += reward\n",
    "        scores.append(score)\n",
    "        \n",
    "    data_dict = {\n",
    "        \"agent\" : agent, \n",
    "        \"weights\" : agent.w, \n",
    "        \"pedigree\" : agent.pedigree, \n",
    "        \"minimum\" : min(scores), \n",
    "        \"maximum\" : max(scores), \n",
    "        \"mean\" : sum(scores)/len(scores)\n",
    "    }\n",
    "    \n",
    "    env.close()\n",
    "    \n",
    "    return data_dict"
   ]
  },
  {
   "cell_type": "code",
   "execution_count": 3,
   "metadata": {},
   "outputs": [],
   "source": [
    "def genetic_algorithm(results, old=5, new=95, n_parents=2, generations=25, \n",
    "                      mutation_rate=0.01, mutation_amount=0.5, order=1, max_score=499.0, \n",
    "                      game=\"CartPole-v1\"):\n",
    "    for round in range(generations):\n",
    "        # Sort agents by score (fitness)\n",
    "        top_scores = sorted(results, key=lambda x: x[\"mean\"], reverse=True)\n",
    "\n",
    "        # The survival of the fittest. Wikipedia calls this \"elitism\".\n",
    "        # The top agents of a generation are carried over to the next\n",
    "        survivors = top_scores[:old]\n",
    "\n",
    "        # To start breeding new agents, I'll mix weights (genes)\n",
    "        weight_shape = top_scores[0][\"weights\"].shape\n",
    "        gene_pool = [list(i[\"weights\"].flatten()) for i in top_scores]\n",
    "        pedigree_list = [i[\"pedigree\"] for i in top_scores]\n",
    "        genome_size = top_scores[0][\"weights\"].size\n",
    "\n",
    "        # Scores can be negative, so here I make them all positive\n",
    "        # They also need to sum to 1 for random sampling\n",
    "        min_score = min([i[\"mean\"] for i in top_scores])\n",
    "        sum_score = sum([i[\"mean\"]+min_score for i in top_scores])\n",
    "        probs = [(i[\"mean\"]+min_score)/sum_score for i in top_scores]\n",
    "\n",
    "        # For each new agent, randomly select parents\n",
    "        # Higher-fitness agents are likelier to sire new agents\n",
    "        children = []\n",
    "        for birth in range(new):\n",
    "            parents = np.random.choice(np.arange(len(gene_pool)), \n",
    "                             size=n_parents, \n",
    "                             replace=False, \n",
    "                             p=probs)\n",
    "\n",
    "            # The offspring get a mix of each parent's weights\n",
    "            # The weights (genes) are simply copied over\n",
    "            mix = np.random.randint(0, high=n_parents, size=genome_size)\n",
    "\n",
    "            weights = []\n",
    "            pedigree = []\n",
    "            for i in range(genome_size):\n",
    "                weights.append(gene_pool[parents[mix[i]]][i])\n",
    "                pedigree.append(pedigree_list[parents[mix[i]]][i])\n",
    "                # A mutation happens rarely and adds a bit of noise to a gene\n",
    "                if np.random.random(1) < mutation_rate:\n",
    "                    weights[i] += float(np.random.normal(0, mutation_amount, 1))\n",
    "                    pedigree[i] += \"M\"\n",
    "\n",
    "            children.append({\"weights\" : weights, \"pedigree\" : pedigree})\n",
    "\n",
    "        # Elitism: the top agents survive to fight another day\n",
    "        new_agents = [i[\"agent\"] for i in survivors]\n",
    "\n",
    "        # The offspring are added it\n",
    "        # With the pedigree variable their ancestors are tracked\n",
    "        for child in children:\n",
    "            new_agents.append(\n",
    "                agents.LinearAgent(\n",
    "                    np.array(child[\"weights\"]).reshape(weight_shape), \n",
    "                    pedigree=child[\"pedigree\"],\n",
    "                    order=order,\n",
    "                    game=game))\n",
    "\n",
    "        # Trial the agents using multiple CPU cores\n",
    "        p = Pool(n_jobs)\n",
    "        results = p.map(trial_agent, new_agents)\n",
    "        p.close()\n",
    "        \n",
    "        results = sorted(results, key=lambda x: x[\"mean\"], reverse=True)\n",
    "\n",
    "        print(f\"[{round+1:3}] Population average: {sum([i['mean'] for i in results])/len(results):5.1f}\")\n",
    "        print(f\"[{round+1:3}] Best mean score:    {results[0]['mean']:5.1f}, Pedigree: {'-'.join(results[0]['pedigree'])}\")\n",
    "        print()\n",
    "        \n",
    "        # End early if maximum is reached\n",
    "        if results[0]['mean'] >= max_score:\n",
    "            print(f\"[{round+1:3}] Best score reached, ending early\")\n",
    "            break\n",
    "    return results"
   ]
  },
  {
   "cell_type": "markdown",
   "metadata": {},
   "source": [
    "## Simple agent\n",
    "\n",
    "This eventually worked with a bit of patience. My initial failures were from trying [continuous-mountain-car](https://github.com/openai/gym/wiki/MountainCarContinuous-v0) first, which was a bad idea. Once I changed my agent into a softmax regression, the non-continuous mountain-car was fine."
   ]
  },
  {
   "cell_type": "code",
   "execution_count": 4,
   "metadata": {},
   "outputs": [
    {
     "name": "stdout",
     "output_type": "stream",
     "text": [
      "{'agent': <agents.LinearAgent object at 0x7f8560b8a240>, 'weights': array([[-0.08561069, -0.54933713,  0.87068654],\n",
      "       [ 0.63230176, -0.74579003, -0.04338294],\n",
      "       [-0.50436285,  0.11389632,  0.64390371]]), 'pedigree': ['0', '0', '0', '0', '0', '0', '0', '0', '0'], 'minimum': -199.0, 'maximum': -199.0, 'mean': -199.0}\n"
     ]
    },
    {
     "data": {
      "text/html": [
       "<img src='./images/mountaincar_0.gif'>"
      ],
      "text/plain": [
       "<IPython.core.display.HTML object>"
      ]
     },
     "execution_count": 4,
     "metadata": {},
     "output_type": "execute_result"
    }
   ],
   "source": [
    "results = []\n",
    "\n",
    "for a in range(100):\n",
    "    results.append(trial_agent(agents.LinearAgent(None, id=a, order=1, game=\"MountainCar-v0\")))\n",
    "\n",
    "winner = sorted(results, key=lambda x: x[\"mean\"], reverse=True)[0]\n",
    "\n",
    "print(winner)\n",
    "\n",
    "HTML(f\"<img src='{winner['agent'].render('mountaincar_0.gif', episodes=5, limit=250)}'>\")"
   ]
  },
  {
   "cell_type": "code",
   "execution_count": 5,
   "metadata": {},
   "outputs": [
    {
     "name": "stdout",
     "output_type": "stream",
     "text": [
      "[  1] Population average: -199.0\n",
      "[  1] Best mean score:    -199.0, Pedigree: 0-0-0-0-0-0-0-0-0\n",
      "\n",
      "[  2] Population average: -199.0\n",
      "[  2] Best mean score:    -199.0, Pedigree: 0-0-0-0-0-0-0-0-0\n",
      "\n",
      "[  3] Population average: -199.0\n",
      "[  3] Best mean score:    -199.0, Pedigree: 0-0-0-0-0-0-0-0-0\n",
      "\n",
      "[  4] Population average: -199.0\n",
      "[  4] Best mean score:    -199.0, Pedigree: 0-0-0-0-0-0-0-0-0\n",
      "\n",
      "[  5] Population average: -199.0\n",
      "[  5] Best mean score:    -199.0, Pedigree: 0-0-0-0-0-0-0-0-0\n",
      "\n",
      "[  6] Population average: -199.0\n",
      "[  6] Best mean score:    -199.0, Pedigree: 0-0-0-0-0-0-0-0-0\n",
      "\n",
      "[  7] Population average: -199.0\n",
      "[  7] Best mean score:    -199.0, Pedigree: 0-0-0-0-0-0-0-0-0\n",
      "\n",
      "[  8] Population average: -199.0\n",
      "[  8] Best mean score:    -199.0, Pedigree: 0-0-0-0-0-0-0-0-0\n",
      "\n",
      "[  9] Population average: -199.0\n",
      "[  9] Best mean score:    -199.0, Pedigree: 0-0-0-0-0-0-0-0-0\n",
      "\n",
      "[ 10] Population average: -199.0\n",
      "[ 10] Best mean score:    -199.0, Pedigree: 0-0-0-0-0-0-0-0-0\n",
      "\n",
      "{'agent': <agents.LinearAgent object at 0x7f85535cb860>, 'weights': array([[-0.08561069, -0.54933713,  0.87068654],\n",
      "       [ 0.63230176, -0.74579003, -0.04338294],\n",
      "       [-0.50436285,  0.11389632,  0.64390371]]), 'pedigree': ['0', '0', '0', '0', '0', '0', '0', '0', '0'], 'minimum': -199.0, 'maximum': -199.0, 'mean': -199.0}\n"
     ]
    },
    {
     "data": {
      "text/html": [
       "<img src='./images/mountaincar_10.gif'>"
      ],
      "text/plain": [
       "<IPython.core.display.HTML object>"
      ]
     },
     "execution_count": 5,
     "metadata": {},
     "output_type": "execute_result"
    }
   ],
   "source": [
    "results = genetic_algorithm(results, generations=10, max_score=-120, mutation_amount=5.0, game=\"MountainCar-v0\")\n",
    "\n",
    "winner = sorted(results, key=lambda x: x[\"mean\"], reverse=True)[0]\n",
    "\n",
    "print(winner)\n",
    "\n",
    "HTML(f\"<img src='{winner['agent'].render('mountaincar_10.gif', episodes=5, limit=250)}'>\")"
   ]
  },
  {
   "cell_type": "code",
   "execution_count": 6,
   "metadata": {},
   "outputs": [
    {
     "name": "stdout",
     "output_type": "stream",
     "text": [
      "[  1] Population average: -199.0\n",
      "[  1] Best mean score:    -199.0, Pedigree: 0-0-0-0-0-0-0-0-0\n",
      "\n",
      "[  2] Population average: -199.0\n",
      "[  2] Best mean score:    -198.6, Pedigree: 30-3-40-2-4-41-2-7-59M\n",
      "\n",
      "[  3] Population average: -199.0\n",
      "[  3] Best mean score:    -198.2, Pedigree: 30-3-40-2-4-41-2-7-59M\n",
      "\n",
      "[  4] Population average: -199.0\n",
      "[  4] Best mean score:    -198.0, Pedigree: 30-3-3-62-4-41-2-7-59M\n",
      "\n",
      "[  5] Population average: -199.0\n",
      "[  5] Best mean score:    -196.3, Pedigree: 30-3-40-11-69-40-2-2-59M\n",
      "\n",
      "[  6] Population average: -199.0\n",
      "[  6] Best mean score:    -196.2, Pedigree: 30-3-40-11-69-40-2-2-59M\n",
      "\n",
      "[  7] Population average: -199.0\n",
      "[  7] Best mean score:    -197.1, Pedigree: 30-3-40-11-69-40-2-2-59M\n",
      "\n",
      "[  8] Population average: -198.9\n",
      "[  8] Best mean score:    -193.7, Pedigree: 2-12-3-62-3-0-2-2-59M\n",
      "\n",
      "[  9] Population average: -198.9\n",
      "[  9] Best mean score:    -190.5, Pedigree: 2-12-3-62-3-0-2-2-59M\n",
      "\n",
      "[ 10] Population average: -198.8\n",
      "[ 10] Best mean score:    -191.6, Pedigree: 2-12-3-62-3-0-2-2-59M\n",
      "\n",
      "{'agent': <agents.LinearAgent object at 0x7f85535cdba8>, 'weights': array([[-0.57744813,  0.1566841 ,  0.16148404],\n",
      "       [-0.9757652 , -0.11059926, -0.04338294],\n",
      "       [ 0.02747569,  0.48981708,  6.46876156]]), 'pedigree': ['2', '12', '3', '62', '3', '0', '2', '2', '59M'], 'minimum': -199.0, 'maximum': -159.0, 'mean': -191.56}\n"
     ]
    },
    {
     "data": {
      "text/html": [
       "<img src='./images/mountaincar_20.gif'>"
      ],
      "text/plain": [
       "<IPython.core.display.HTML object>"
      ]
     },
     "execution_count": 6,
     "metadata": {},
     "output_type": "execute_result"
    }
   ],
   "source": [
    "results = genetic_algorithm(results, generations=10, max_score=-120, mutation_amount=5.0, game=\"MountainCar-v0\")\n",
    "\n",
    "winner = sorted(results, key=lambda x: x[\"mean\"], reverse=True)[0]\n",
    "\n",
    "print(winner)\n",
    "\n",
    "HTML(f\"<img src='{winner['agent'].render('mountaincar_20.gif', episodes=5, limit=250)}'>\")"
   ]
  },
  {
   "cell_type": "code",
   "execution_count": 7,
   "metadata": {},
   "outputs": [
    {
     "name": "stdout",
     "output_type": "stream",
     "text": [
      "[  1] Population average: -198.8\n",
      "[  1] Best mean score:    -193.5, Pedigree: 2-12-3-62-3-0-2-2-59M\n",
      "\n",
      "[  2] Population average: -198.8\n",
      "[  2] Best mean score:    -193.0, Pedigree: 2-12-3-62-3-0-2-2-59M\n",
      "\n",
      "[  3] Population average: -198.8\n",
      "[  3] Best mean score:    -192.8, Pedigree: 30-12-3-11-3-0-2-88M-59M\n",
      "\n",
      "[  4] Population average: -198.8\n",
      "[  4] Best mean score:    -193.1, Pedigree: 30-12-3-11-3-0-2-88M-59M\n",
      "\n",
      "[  5] Population average: -198.2\n",
      "[  5] Best mean score:    -139.4, Pedigree: 92-4M-72-11-3-40-0-69-59M\n",
      "\n",
      "[  6] Population average: -198.1\n",
      "[  6] Best mean score:    -131.8, Pedigree: 92-4M-72-11-3-40-0-69-59M\n",
      "\n",
      "[  7] Population average: -197.3\n",
      "[  7] Best mean score:    -137.2, Pedigree: 92-4M-72-11-3-40-0-69-59M\n",
      "\n",
      "[  8] Population average: -197.0\n",
      "[  8] Best mean score:    -140.8, Pedigree: 92-4M-72-11-3-40-0-69-59M\n",
      "\n",
      "[  9] Population average: -196.5\n",
      "[  9] Best mean score:    -142.3, Pedigree: 92-4M-72-11-3-40-0-69-59M\n",
      "\n",
      "[ 10] Population average: -195.8\n",
      "[ 10] Best mean score:    -134.9, Pedigree: 92-4M-72-11-3-40-0-69-59M\n",
      "\n",
      "{'agent': <agents.LinearAgent object at 0x7f85535cd8d0>, 'weights': array([[ 0.99252738, -2.38978484,  0.77867077],\n",
      "       [-0.49730536, -0.11059926, -0.90959094],\n",
      "       [-0.50436285, -0.75361713,  6.46876156]]), 'pedigree': ['92', '4M', '72', '11', '3', '40', '0', '69', '59M'], 'minimum': -184.0, 'maximum': -108.0, 'mean': -134.92}\n"
     ]
    },
    {
     "data": {
      "text/html": [
       "<img src='./images/mountaincar_30.gif'>"
      ],
      "text/plain": [
       "<IPython.core.display.HTML object>"
      ]
     },
     "execution_count": 7,
     "metadata": {},
     "output_type": "execute_result"
    }
   ],
   "source": [
    "results = genetic_algorithm(results, generations=10, max_score=-120, mutation_amount=5.0, game=\"MountainCar-v0\")\n",
    "\n",
    "winner = sorted(results, key=lambda x: x[\"mean\"], reverse=True)[0]\n",
    "\n",
    "print(winner)\n",
    "\n",
    "HTML(f\"<img src='{winner['agent'].render('mountaincar_30.gif', episodes=5, limit=250)}'>\")"
   ]
  },
  {
   "cell_type": "code",
   "execution_count": 8,
   "metadata": {},
   "outputs": [
    {
     "name": "stdout",
     "output_type": "stream",
     "text": [
      "[  1] Population average: -194.8\n",
      "[  1] Best mean score:    -133.4, Pedigree: 92-75-72-11-3-40-0-2-59M\n",
      "\n",
      "[  2] Population average: -194.8\n",
      "[  2] Best mean score:    -134.4, Pedigree: 92-75-72-11-3-40-0-2-59M\n",
      "\n",
      "[  3] Population average: -195.1\n",
      "[  3] Best mean score:    -133.1, Pedigree: 92-4M-72-11-3-40-0-69-59M\n",
      "\n",
      "[  4] Population average: -194.5\n",
      "[  4] Best mean score:    -134.0, Pedigree: 92-75-72-11-3-40-0-2-59M\n",
      "\n",
      "[  5] Population average: -195.6\n",
      "[  5] Best mean score:    -137.0, Pedigree: 92-75-72-11-3-40-0-2-59M\n",
      "\n",
      "[  6] Population average: -194.9\n",
      "[  6] Best mean score:    -136.0, Pedigree: 92-4M-72-11-3M-40-0M-2-59M\n",
      "\n",
      "[  7] Population average: -193.8\n",
      "[  7] Best mean score:    -128.7, Pedigree: 92-4M-72-11-3M-40-0M-2-59M\n",
      "\n",
      "[  8] Population average: -194.9\n",
      "[  8] Best mean score:    -130.2, Pedigree: 92-4M-72-11-3-40-0-2-59M\n",
      "\n",
      "[  9] Population average: -195.2\n",
      "[  9] Best mean score:    -122.4, Pedigree: 92-4M-72-11-3M-40-0M-3-59\n",
      "\n",
      "[ 10] Population average: -193.6\n",
      "[ 10] Best mean score:    -126.6, Pedigree: 92-4M-72-11-3M-40-0M-3-59\n",
      "\n",
      "{'agent': <agents.LinearAgent object at 0x7f85535de828>, 'weights': array([[ 0.99252738, -2.38978484,  0.77867077],\n",
      "       [-0.49730536, -2.46858451, -0.90959094],\n",
      "       [-9.7163576 ,  0.73270899,  0.50720609]]), 'pedigree': ['92', '4M', '72', '11', '3M', '40', '0M', '3', '59'], 'minimum': -149.0, 'maximum': -107.0, 'mean': -126.6}\n"
     ]
    },
    {
     "data": {
      "text/html": [
       "<img src='./images/mountaincar_40.gif'>"
      ],
      "text/plain": [
       "<IPython.core.display.HTML object>"
      ]
     },
     "execution_count": 8,
     "metadata": {},
     "output_type": "execute_result"
    }
   ],
   "source": [
    "results = genetic_algorithm(results, generations=10, max_score=-120, mutation_amount=5.0, game=\"MountainCar-v0\")\n",
    "\n",
    "winner = sorted(results, key=lambda x: x[\"mean\"], reverse=True)[0]\n",
    "\n",
    "print(winner)\n",
    "\n",
    "HTML(f\"<img src='{winner['agent'].render('mountaincar_40.gif', episodes=5, limit=250)}'>\")"
   ]
  },
  {
   "cell_type": "code",
   "execution_count": 9,
   "metadata": {},
   "outputs": [
    {
     "name": "stdout",
     "output_type": "stream",
     "text": [
      "[  1] Population average: -193.7\n",
      "[  1] Best mean score:    -124.4, Pedigree: 92-75-72-11-0M-40-2-7M-59M\n",
      "\n",
      "[  2] Population average: -192.0\n",
      "[  2] Best mean score:    -120.9, Pedigree: 92-4M-72-11-3M-40-0M-3-59\n",
      "\n",
      "[  3] Population average: -192.4\n",
      "[  3] Best mean score:    -112.4, Pedigree: 92-75-72-11-3-0M-0M-7-59M\n",
      "\n",
      "[  3] Best score reached, ending early\n",
      "{'agent': <agents.LinearAgent object at 0x7f85535af278>, 'weights': array([[ 0.99252738,  0.40209843,  0.77867077],\n",
      "       [-0.49730536, -0.11059926, -1.07767823],\n",
      "       [-9.7163576 , -0.18688903,  6.46876156]]), 'pedigree': ['92', '75', '72', '11', '3', '0M', '0M', '7', '59M'], 'minimum': -117.0, 'maximum': -111.0, 'mean': -112.4}\n"
     ]
    },
    {
     "data": {
      "text/html": [
       "<img src='./images/mountaincar_50.gif'>"
      ],
      "text/plain": [
       "<IPython.core.display.HTML object>"
      ]
     },
     "execution_count": 9,
     "metadata": {},
     "output_type": "execute_result"
    }
   ],
   "source": [
    "results = genetic_algorithm(results, generations=10, max_score=-120, mutation_amount=5.0, game=\"MountainCar-v0\")\n",
    "\n",
    "winner = sorted(results, key=lambda x: x[\"mean\"], reverse=True)[0]\n",
    "\n",
    "print(winner)\n",
    "\n",
    "HTML(f\"<img src='{winner['agent'].render('mountaincar_50.gif', episodes=5, limit=250)}'>\")"
   ]
  },
  {
   "cell_type": "markdown",
   "metadata": {},
   "source": [
    "The little car learns to tear right out of that valley! :-)"
   ]
  },
  {
   "cell_type": "code",
   "execution_count": null,
   "metadata": {},
   "outputs": [],
   "source": []
  },
  {
   "cell_type": "code",
   "execution_count": null,
   "metadata": {},
   "outputs": [],
   "source": []
  }
 ],
 "metadata": {
  "kernelspec": {
   "display_name": "Python 3",
   "language": "python",
   "name": "python3"
  },
  "language_info": {
   "codemirror_mode": {
    "name": "ipython",
    "version": 3
   },
   "file_extension": ".py",
   "mimetype": "text/x-python",
   "name": "python",
   "nbconvert_exporter": "python",
   "pygments_lexer": "ipython3",
   "version": "3.6.5"
  }
 },
 "nbformat": 4,
 "nbformat_minor": 2
}
