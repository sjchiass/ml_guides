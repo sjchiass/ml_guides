{
 "cells": [
  {
   "cell_type": "markdown",
   "metadata": {},
   "source": [
    "# An introduction to Python\n",
    "\n",
    "## Join the flying Python circus\n",
    "\n",
    "Python started as a hobbyist project in Christmas of '89. Its creator said that he wanted \"a descendant of ABC that would appeal to Unix/C hackers\". (ABC was an attempt to make the BASIC programming language less like [https://en.wikipedia.org/wiki/BASIC#Examples](broken English in screaming CAPS).)\n",
    "\n",
    "Python looks a lot like pseudo code, code written in a notebook on a hot summer afternoon. For example, `[\"Spoiled!\" if apple[\"spoiled\"] else \"Fresh!\" for apple in bunch]` is an example of Python's looser syntax. It relies more on words and indents than brackets and semi-colon line teminators.\n",
    "\n",
    "Python is not for everyone. It's a loose and dynamic interpreted programming language. It assumes a lot, more than a language like C++, and it doesn't run especially fast. It is not something you want to use in a high-stakes, high-speed situation.\n",
    "\n",
    "Python has good things going for it. It is able to interface with fast and powerful libraries like Numpy and TensorFlow, giving Python speed without sacrificing friendliness. Python has also been the most popular beginner programming language for quite some time, so it has a good following of beginners and grey-beards alike.\n",
    "\n",
    "To get you started in python, I'll go over the basics\n",
    "\n",
    "1. **Importing libraries** Importing libraries is how you can use pre-written code in Python. If you're doing data science, statistical learning, or deep learning, you'll likely be importing a library. For example, people have already developed TensorFlow to run deep learning models, and you can import TensorFlow into your python project to quickly set up neural networks yourself.\n",
    "2. **Manipulating strings** Strings in python are text. They may a few letters, words, lines, sentences, or a simple report nicely aligned and evenly spaced. You can use tools in python to manipulate strings to your liking or make them more presentable on the screen.\n",
    "3. **Using lists** Lists stores data, but as the name indicates, lists are *lists*. Python can read through them naturally, allowing you to do whatever you want with the items.\n",
    "4. **Using dictionaries** Just like a real dictionary, when you give a dictionary a word, you get something in return, whether it's the definition of a word, the phone number of a person, or the sales value of a product. You may need dictionaries in your project or you might not: dicionaries have their uses.\n",
    "5. **Opening files** Since these guides are targetted to data analysts, it's bound to happen that a fille need opening somewhere. I'll cover opening text files, including CSVs. This should at least get you started.\n",
    "\n",
    "## Importing libraries\n",
    "\n",
    "To import a Python library/package means to include either Python code or some pre-compiled programs into your own Python script. The important thing to keep track of here is the *namespace*.\n",
    "\n",
    "Nevertheless, the main things `import` does is include pre-existing code in your python script. This code may be active, or it may be passive. Here's an example of an `import` [that does something](https://www.python.org/dev/peps/pep-0020/)."
   ]
  },
  {
   "cell_type": "code",
   "execution_count": 1,
   "metadata": {},
   "outputs": [
    {
     "name": "stdout",
     "output_type": "stream",
     "text": [
      "The Zen of Python, by Tim Peters\n",
      "\n",
      "Beautiful is better than ugly.\n",
      "Explicit is better than implicit.\n",
      "Simple is better than complex.\n",
      "Complex is better than complicated.\n",
      "Flat is better than nested.\n",
      "Sparse is better than dense.\n",
      "Readability counts.\n",
      "Special cases aren't special enough to break the rules.\n",
      "Although practicality beats purity.\n",
      "Errors should never pass silently.\n",
      "Unless explicitly silenced.\n",
      "In the face of ambiguity, refuse the temptation to guess.\n",
      "There should be one-- and preferably only one --obvious way to do it.\n",
      "Although that way may not be obvious at first unless you're Dutch.\n",
      "Now is better than never.\n",
      "Although never is often better than *right* now.\n",
      "If the implementation is hard to explain, it's a bad idea.\n",
      "If the implementation is easy to explain, it may be a good idea.\n",
      "Namespaces are one honking great idea -- let's do more of those!\n"
     ]
    }
   ],
   "source": [
    "import this"
   ]
  },
  {
   "cell_type": "markdown",
   "metadata": {},
   "source": [
    "More often, you'll use `import` to get access some libraries like scikit-learn to use premade statistical models. These models will be given their own space in your code, and you can call the models when you decide to: this is the namespace.\n",
    "\n",
    "As an example of a namespace, suppose you've written a Python function called `fit()` to fit a model to some data. Suppose you also want to import a library that already has a library with a function called `fit()`. How will you be able to call each function separately? That's the main concern when dealing with namespaces. With a good import command, you don't have to worry about these things.\n",
    "\n",
    "### Method 1: import\n",
    "\n",
    "Here is a way of importing a library that keeps it completely separate."
   ]
  },
  {
   "cell_type": "code",
   "execution_count": 2,
   "metadata": {
    "collapsed": true
   },
   "outputs": [],
   "source": [
    "import sklearn.linear_model"
   ]
  },
  {
   "cell_type": "markdown",
   "metadata": {},
   "source": [
    "This imports all of scikit-learn's `linear_model` library and lets you use these models in your program by calling `sklearn.linear_model` followed by the model you want to use. `sklearn.linear_model` is the namespace and it is kept separate."
   ]
  },
  {
   "cell_type": "code",
   "execution_count": 3,
   "metadata": {},
   "outputs": [
    {
     "data": {
      "text/plain": [
       "LinearRegression(copy_X=True, fit_intercept=True, n_jobs=1, normalize=False)"
      ]
     },
     "execution_count": 3,
     "metadata": {},
     "output_type": "execute_result"
    }
   ],
   "source": [
    "lm = sklearn.linear_model.LinearRegression()\n",
    "lm"
   ]
  },
  {
   "cell_type": "markdown",
   "metadata": {},
   "source": [
    "### Method 2: import as\n",
    "\n",
    "You can also import a library under a name of your choosing."
   ]
  },
  {
   "cell_type": "code",
   "execution_count": 4,
   "metadata": {
    "collapsed": true
   },
   "outputs": [],
   "source": [
    "import sklearn.linear_model as hotdog"
   ]
  },
  {
   "cell_type": "markdown",
   "metadata": {},
   "source": [
    "This will let you call the linear models library by only using `linear_model`."
   ]
  },
  {
   "cell_type": "code",
   "execution_count": 5,
   "metadata": {},
   "outputs": [
    {
     "data": {
      "text/plain": [
       "LinearRegression(copy_X=True, fit_intercept=True, n_jobs=1, normalize=False)"
      ]
     },
     "execution_count": 5,
     "metadata": {},
     "output_type": "execute_result"
    }
   ],
   "source": [
    "lm = hotdog.LinearRegression()\n",
    "lm"
   ]
  },
  {
   "cell_type": "markdown",
   "metadata": {},
   "source": [
    "### Method 3: import selectively\n",
    "\n",
    "You can also import only some parts of a library, to keep things clean."
   ]
  },
  {
   "cell_type": "code",
   "execution_count": 6,
   "metadata": {
    "collapsed": true
   },
   "outputs": [],
   "source": [
    "from sklearn.linear_model import LinearRegression"
   ]
  },
  {
   "cell_type": "markdown",
   "metadata": {},
   "source": [
    "Now the `LinearRegression` class will available for you to use on its own. It is now part of your own namespace, as if you had written the model yourself."
   ]
  },
  {
   "cell_type": "code",
   "execution_count": 7,
   "metadata": {},
   "outputs": [
    {
     "data": {
      "text/plain": [
       "LinearRegression(copy_X=True, fit_intercept=True, n_jobs=1, normalize=False)"
      ]
     },
     "execution_count": 7,
     "metadata": {},
     "output_type": "execute_result"
    }
   ],
   "source": [
    "lm = LinearRegression()\n",
    "lm"
   ]
  },
  {
   "cell_type": "markdown",
   "metadata": {},
   "source": [
    "### What you should do\n",
    "\n",
    "Look at some code examples online and see how people usually import a library. It's better to use the common method so that people reading your code see familiar things. For example, the library `numpy` is always import as"
   ]
  },
  {
   "cell_type": "code",
   "execution_count": 8,
   "metadata": {
    "collapsed": true
   },
   "outputs": [],
   "source": [
    "# The official way\n",
    "import numpy as np"
   ]
  },
  {
   "cell_type": "markdown",
   "metadata": {},
   "source": [
    "## Strings\n",
    "\n",
    "In Python a [string](https://docs.python.org/3/library/stdtypes.html#text-sequence-type-str) is text. This will be format used for things such as column names, dictionary keys (more later), and text data.\n",
    "\n",
    "A very useful built-in function in Python is the [`print()`](https://docs.python.org/3/library/functions.html#print) function!"
   ]
  },
  {
   "cell_type": "code",
   "execution_count": 9,
   "metadata": {},
   "outputs": [
    {
     "name": "stdout",
     "output_type": "stream",
     "text": [
      "Hello world!\n"
     ]
    }
   ],
   "source": [
    "print(\"Hello world!\")"
   ]
  },
  {
   "cell_type": "markdown",
   "metadata": {},
   "source": [
    "Use the print function often to display data to your Jupyter session or your Python console.\n",
    "\n",
    "Here are a few neat things you can do with strings."
   ]
  },
  {
   "cell_type": "code",
   "execution_count": 10,
   "metadata": {},
   "outputs": [
    {
     "name": "stdout",
     "output_type": "stream",
     "text": [
      "Strings can be concatenated by adding them together.\n",
      "A string can also be multiplied multiplied multiplied multiplied multiplied \n",
      "The str() function can turn numbers into a string: 100\n"
     ]
    }
   ],
   "source": [
    "print(\"Strings can be concatenated by \" + \"adding them together.\")\n",
    "\n",
    "print(\"A string can also be \" + (5 * \"multiplied \"))\n",
    "\n",
    "print(\"The str() function can turn numbers into a string: \" + str(100))"
   ]
  },
  {
   "cell_type": "markdown",
   "metadata": {},
   "source": [
    "Another useful set of string commands are [`split()`](https://docs.python.org/3/library/stdtypes.html#str.split), `join()`, and `replace()` (these last two are documented in [string methods](https://docs.python.org/3/library/stdtypes.html#string-methods)."
   ]
  },
  {
   "cell_type": "code",
   "execution_count": 11,
   "metadata": {},
   "outputs": [
    {
     "name": "stdout",
     "output_type": "stream",
     "text": [
      "['The', 'split', 'function', 'will', 'separate', 'delimited', 'substrings.']\n",
      "The join method does the opposite.\n",
      "THOTDOGe replace metHOTDOGod does a find and replace.\n"
     ]
    }
   ],
   "source": [
    "print(\"The split function will separate delimited substrings.\".split(\" \"))\n",
    "\n",
    "print(\" \".join([\"The\", \"join\", \"method\", \"does\", \"the\", \"opposite.\"]))\n",
    "\n",
    "print(\"The replace method does a find and replace.\".replace(\"h\", \"HOTDOG\"))"
   ]
  },
  {
   "cell_type": "markdown",
   "metadata": {},
   "source": [
    "The most important string function you will come across is the [`.format()`](https://docs.python.org/3/library/string.html#formatstrings) method. If you find the Python documentation obtuse, there also [this webpage](https://pyformat.info/) devoted to `.format()`."
   ]
  },
  {
   "cell_type": "code",
   "execution_count": 12,
   "metadata": {},
   "outputs": [
    {
     "name": "stdout",
     "output_type": "stream",
     "text": [
      "Johnny ate 5 cakes while Timmy ate 15.1.\n"
     ]
    }
   ],
   "source": [
    "# The first mode of .format() is positional\n",
    "print(\"Johnny ate {0} cakes while Timmy ate {1}.\".format(5, 15.1))"
   ]
  },
  {
   "cell_type": "markdown",
   "metadata": {},
   "source": [
    "The `.format()` method can also receive specific formatting options. For example, `{:5}` will reserve a 5 characters space to print an integer. `{:<10}` will left-align a string within a 10-character space. Finally, `{:07.2f}` will reserver 7 characters to hold a float number, padding it with zeros."
   ]
  },
  {
   "cell_type": "code",
   "execution_count": 13,
   "metadata": {},
   "outputs": [
    {
     "name": "stdout",
     "output_type": "stream",
     "text": [
      "Johnny ate     5 cakes while Cthulhu    ate 0151.20.\n",
      "Epoch    11 complete, cost   0.023153, accuracy 97.23%\n"
     ]
    }
   ],
   "source": [
    "# The second mode is more specific\n",
    "print(\"Johnny ate {:5d} cakes while {:<10} ate {:07.2f}.\".format(5, \"Cthulhu\", 151.2))\n",
    "\n",
    "# A more realistic example\n",
    "print(\"Epoch {:5d} complete, cost {:10.6f}, accuracy {:5.2f}%\".format(11, 0.0231532, 97.231))"
   ]
  },
  {
   "cell_type": "markdown",
   "metadata": {},
   "source": [
    "## Using lists\n",
    "\n",
    "Lists in Python are really just flexible data containers. You can store any kind of data in them, and you can manipulate them any way you want. Lists are also useful to iterate through for-loops.\n",
    "\n",
    "You can find the documentation on lists [here](https://docs.python.org/3/tutorial/datastructures.html)."
   ]
  },
  {
   "cell_type": "code",
   "execution_count": 14,
   "metadata": {},
   "outputs": [
    {
     "name": "stdout",
     "output_type": "stream",
     "text": [
      "['a', 'b', 'c', 1, 2, 3]\n",
      "['a', 'b', 'c', '1', '2', '3']\n"
     ]
    }
   ],
   "source": [
    "# A list is declared with square brackets\n",
    "mylist = [\"a\", \"b\", \"c\", 1, 2, 3]\n",
    "print(mylist)\n",
    "\n",
    "# They can also be created by splitting strings\n",
    "my_delimited_list = \"a, b, c, 1, 2, 3\".split(\", \")\n",
    "print(my_delimited_list)"
   ]
  },
  {
   "cell_type": "markdown",
   "metadata": {},
   "source": [
    "You can \"slice\" lists various ways. All of these are pretty useful. You can find the official Python slicing guide [here](https://docs.python.org/3/tutorial/introduction.html#lists).\n",
    "\n",
    "**Important**: Python starts counting list indices at 0.\n",
    "\n",
    "**Exception**: If Python is counting backwards, it starts at -1."
   ]
  },
  {
   "cell_type": "code",
   "execution_count": 15,
   "metadata": {},
   "outputs": [
    {
     "name": "stdout",
     "output_type": "stream",
     "text": [
      "All indices: ['a', 'b', 'c', 1, 2, 3]\n",
      "Individual index: b\n",
      "Range of indices: ['a', 'b']\n",
      "Last index: 3\n"
     ]
    }
   ],
   "source": [
    "print(\"All indices: {0}\".format(mylist[:]))\n",
    "print(\"Individual index: {0}\".format(mylist[1]))\n",
    "print(\"Range of indices: {0}\".format(mylist[0:2]))\n",
    "print(\"Last index: {0}\".format(mylist[-1]))"
   ]
  },
  {
   "cell_type": "markdown",
   "metadata": {},
   "source": [
    "You can also perform some operations on lists. Here are some useful ones."
   ]
  },
  {
   "cell_type": "code",
   "execution_count": 16,
   "metadata": {},
   "outputs": [
    {
     "name": "stdout",
     "output_type": "stream",
     "text": [
      "['a', 'b', 'c', 1, 2, 3, 'a']\n",
      "['a', 'b', 'c', 1, 2, 3, 'a', (1, 2, 3)]\n",
      "['a', 'b', 'c', 1, 2, 3, 'a', (1, 2, 3), ['a', 'b', 'c', '1', '2', '3']]\n",
      "['a', 'b', 'c', '1', '2', '3', 'apple', 'orange', 'banana']\n"
     ]
    }
   ],
   "source": [
    "mylist = [\"a\", \"b\", \"c\", 1, 2, 3]\n",
    "my_delimited_list = \"a, b, c, 1, 2, 3\".split(\", \")\n",
    "\n",
    "# The append method concatenates something to the end of a list (does not return the appended list)\n",
    "mylist.append(\"a\")\n",
    "print(mylist)\n",
    "mylist.append((1, 2, 3))\n",
    "print(mylist)\n",
    "mylist.append(my_delimited_list)\n",
    "print(mylist)\n",
    "\n",
    "# You can also use the addition operator\n",
    "print(my_delimited_list + [\"apple\", \"orange\", \"banana\"])"
   ]
  },
  {
   "cell_type": "markdown",
   "metadata": {},
   "source": [
    "A very nice thing about lists is that they're iterable. This means that they can be fed to a for-loop and processed one-by-one."
   ]
  },
  {
   "cell_type": "code",
   "execution_count": 17,
   "metadata": {},
   "outputs": [
    {
     "name": "stdout",
     "output_type": "stream",
     "text": [
      "1\n",
      "2\n",
      "3\n",
      "1\n",
      "2\n",
      "3\n"
     ]
    }
   ],
   "source": [
    "mylist = [\"1\", \"2\", \"3\", 1, 2, 3]\n",
    "\n",
    "for i in mylist:\n",
    "    print(i)"
   ]
  },
  {
   "cell_type": "markdown",
   "metadata": {},
   "source": [
    "You can call `i` whatever you want, like Ricky. `Ricky` will become a temporary variable representing the current element of `mylist`, and you can do whatever you want with it."
   ]
  },
  {
   "cell_type": "code",
   "execution_count": 18,
   "metadata": {},
   "outputs": [
    {
     "name": "stdout",
     "output_type": "stream",
     "text": [
      "This is a string. 1\n",
      "This is a string. 2\n",
      "This is a string. 3\n",
      "This isn't a string. 1\n",
      "This isn't a string. 2\n",
      "This isn't a string. 3\n"
     ]
    }
   ],
   "source": [
    "for Ricky in mylist:\n",
    "    if isinstance(Ricky, str):\n",
    "        print(\"This is a string. {0}\".format(Ricky))\n",
    "    else:\n",
    "        print(\"This isn't a string. {0}\".format(Ricky))"
   ]
  },
  {
   "cell_type": "markdown",
   "metadata": {},
   "source": [
    "Because `Ricky` is a temporary variable, changing it doesn't affect the original list."
   ]
  },
  {
   "cell_type": "code",
   "execution_count": 19,
   "metadata": {},
   "outputs": [
    {
     "name": "stdout",
     "output_type": "stream",
     "text": [
      "Before [1, 2, 3, 4, 5]\n",
      "After [1, 2, 3, 4, 5]\n"
     ]
    }
   ],
   "source": [
    "newlist = [1, 2, 3, 4, 5]\n",
    "\n",
    "print(\"Before {0}\".format(newlist))\n",
    "\n",
    "for i in newlist:\n",
    "    i += 1 # the += is shorthand for making an addition in-place\n",
    "\n",
    "print(\"After {0}\".format(newlist))"
   ]
  },
  {
   "cell_type": "markdown",
   "metadata": {},
   "source": [
    "What you can do instead is use the list indexes in the for loop. This will change the original list.\n",
    "\n",
    "The [`range()`](https://docs.python.org/3/library/functions.html#func-range) function comes standard in Python, and it's a way of quickly generating sequences of numbers."
   ]
  },
  {
   "cell_type": "code",
   "execution_count": 20,
   "metadata": {},
   "outputs": [
    {
     "name": "stdout",
     "output_type": "stream",
     "text": [
      "Before [1, 2, 3, 4, 5]\n",
      "After [2, 3, 4, 5, 6]\n"
     ]
    }
   ],
   "source": [
    "newlist = [1, 2, 3, 4, 5]\n",
    "\n",
    "print(\"Before {0}\".format(newlist))\n",
    "\n",
    "for i in range(len(newlist)):\n",
    "    newlist[i] += 1 # the += is shorthand for making an addition in-place\n",
    "\n",
    "print(\"After {0}\".format(newlist))"
   ]
  },
  {
   "cell_type": "markdown",
   "metadata": {},
   "source": [
    "A more advanced technique is called \"list comprehension\", which is like Python's [`map()`](https://docs.python.org/3/library/functions.html#map) or [`apply()`](http://stat.ethz.ch/R-manual/R-devel/library/base/html/apply.html) function in other languages. "
   ]
  },
  {
   "cell_type": "code",
   "execution_count": 21,
   "metadata": {},
   "outputs": [
    {
     "name": "stdout",
     "output_type": "stream",
     "text": [
      "['1', '2', '3', '4', '5', '6', '7', '8', '9', '10']\n",
      "['6', '7', '8', '9', '10']\n"
     ]
    }
   ],
   "source": [
    "# The list comprehension will apply a function on all the elements in mylist\n",
    "mylist = [1, 2, 3, 4, 5, 6, 7, 8, 9, 10]\n",
    "my_other_list = [str(x) for x in mylist]\n",
    "print(my_other_list)\n",
    "\n",
    "# The list comprehension can also take conditions\n",
    "my_shorter_list = [str(x) for x in mylist if x > 5]\n",
    "print(my_shorter_list)"
   ]
  },
  {
   "cell_type": "markdown",
   "metadata": {},
   "source": [
    "A list comprehension can be useful in some situations, but a for-loop can do the same in a few more lines."
   ]
  },
  {
   "cell_type": "markdown",
   "metadata": {},
   "source": [
    "## Dictionaries\n",
    "\n",
    "Dictionaries can be pretty useful, especially if you're working data but don't want a very complicated retrieval mechanism.\n",
    "\n",
    "If you've used JSON before, you'll quickly get the idea behind Python dictionaries. Dictionaries are also known as hashtables and associative arrays.\n",
    "\n",
    "You use dictionaries to retrieve a value using a key, like so"
   ]
  },
  {
   "cell_type": "code",
   "execution_count": 22,
   "metadata": {},
   "outputs": [
    {
     "name": "stdout",
     "output_type": "stream",
     "text": [
      "Billy wants a waffle-maker.\n"
     ]
    }
   ],
   "source": [
    "christmas_presents = {\"Billy\" : \"waffle-maker\", \"Betty\" : \"belt-sander\", \"Bonny\" : \"clown costume\"}\n",
    "\n",
    "print(\"Billy wants a {0}.\".format(christmas_presents[\"Billy\"]))"
   ]
  },
  {
   "cell_type": "markdown",
   "metadata": {},
   "source": [
    "The difference with lists is that dictionaries don't have an order: they just store values someplace in memory and retrieve them when given the right key.\n",
    "\n",
    "So adding a key/value pair to a dictionary is simply a matter of assigning a value to a new key."
   ]
  },
  {
   "cell_type": "code",
   "execution_count": 23,
   "metadata": {},
   "outputs": [
    {
     "name": "stdout",
     "output_type": "stream",
     "text": [
      "Bart wants a tarantula.\n"
     ]
    }
   ],
   "source": [
    "christmas_presents[\"Bart\"] = \"tarantula\"\n",
    "\n",
    "print(\"Bart wants a {0}.\".format(christmas_presents[\"Bart\"]))"
   ]
  },
  {
   "cell_type": "markdown",
   "metadata": {},
   "source": [
    "When using dictionaries, you will get an error if you attempt to retrieve a key that does not exist. You can avoid this with the [`.get()`](https://stackoverflow.com/questions/11041405/why-dict-getkey-instead-of-dictkey) function, which can return a default value."
   ]
  },
  {
   "cell_type": "code",
   "execution_count": 24,
   "metadata": {},
   "outputs": [
    {
     "name": "stdout",
     "output_type": "stream",
     "text": [
      "Bort wants a pair of socks.\n"
     ]
    }
   ],
   "source": [
    "print(\"Bort wants a {0}.\".format(christmas_presents.get(\"Bort\", \"pair of socks\")))"
   ]
  },
  {
   "cell_type": "markdown",
   "metadata": {},
   "source": [
    "Finally, if you want to see what a dictionary contains, you can use the `.keys()` and `.values()` methods."
   ]
  },
  {
   "cell_type": "code",
   "execution_count": 25,
   "metadata": {},
   "outputs": [
    {
     "name": "stdout",
     "output_type": "stream",
     "text": [
      "dict_keys(['Billy', 'Betty', 'Bonny', 'Bart'])\n",
      "dict_values(['waffle-maker', 'belt-sander', 'clown costume', 'tarantula'])\n"
     ]
    }
   ],
   "source": [
    "print(christmas_presents.keys())\n",
    "print(christmas_presents.values())"
   ]
  },
  {
   "cell_type": "markdown",
   "metadata": {},
   "source": [
    "If you want to iterate over the keys in a dictionary, you can simply do it as `for key in dict:`. Python will feed the keys into the `key` variable"
   ]
  },
  {
   "cell_type": "code",
   "execution_count": 26,
   "metadata": {},
   "outputs": [
    {
     "name": "stdout",
     "output_type": "stream",
     "text": [
      "Billy wants a waffle-maker.\n",
      "Betty wants a belt-sander.\n",
      "Bonny wants a clown costume.\n",
      "Bart wants a tarantula.\n"
     ]
    }
   ],
   "source": [
    "for key in christmas_presents:\n",
    "    print(\"{0} wants a {1}.\".format(key, christmas_presents[key]))"
   ]
  },
  {
   "cell_type": "markdown",
   "metadata": {},
   "source": [
    "## Opening files\n",
    "\n",
    "Finally, here is how [you open and read files](https://docs.python.org/3/tutorial/inputoutput.html#reading-and-writing-files). I'll only give you the simplest example since it's usually all you ever need to use.\n",
    "\n",
    "The [`with`](https://docs.python.org/3/reference/compound_stmts.html#the-with-statement) statement is a way of closing the file connection automatically as soon as you're finished with it. The `with` statement is use a lot in TensorFlow."
   ]
  },
  {
   "cell_type": "code",
   "execution_count": 27,
   "metadata": {},
   "outputs": [
    {
     "name": "stdout",
     "output_type": "stream",
     "text": [
      "Urbem Romam a principio reges habuere; libertatem et consulatum L. Brutus instituit.\n",
      "\n",
      "Dictaturae ad tempus sumebantur; neque decemviralis potestas ultra biennium, neque tribunorum militum consulare ius diu valuit.\n",
      "\n",
      "Non Cinnae, non Sullae longa dominatio; et Pompei Crassique potentia cito in Caesarem, Lepidi atque Antonii arma in Augustum cessere, qui cuncta discordiis civilibus fessa nomine principis sub imperium accepit.\n"
     ]
    }
   ],
   "source": [
    "with open(\"Principio.txt\", 'r') as f:\n",
    "    for line in f.readlines():\n",
    "        print(line)\n",
    "\n",
    "# The extra newlines below come the ends of the lines in the file"
   ]
  },
  {
   "cell_type": "markdown",
   "metadata": {},
   "source": [
    "But of course, the best solutions use a list comprehension. ;-)"
   ]
  },
  {
   "cell_type": "code",
   "execution_count": 28,
   "metadata": {},
   "outputs": [
    {
     "name": "stdout",
     "output_type": "stream",
     "text": [
      "Urbem Romam a principio reges habuere; libertatem et consulatum L. Brutus instituit.\n",
      "Dictaturae ad tempus sumebantur; neque decemviralis potestas ultra biennium, neque tribunorum militum consulare ius diu valuit.\n",
      "Non Cinnae, non Sullae longa dominatio; et Pompei Crassique potentia cito in Caesarem, Lepidi atque Antonii arma in Augustum cessere, qui cuncta discordiis civilibus fessa nomine principis sub imperium accepit.\n"
     ]
    }
   ],
   "source": [
    "[print(line) for line in open(\"Principio.txt\", 'r').read().splitlines()] ; # The semicolon will keep Jupyter quiet"
   ]
  },
  {
   "cell_type": "markdown",
   "metadata": {},
   "source": [
    "Let's try with a csv. This example will use things we covered elsewhere in the guide.\n",
    "\n",
    "Here is what the code below does\n",
    "1. The `Apples.txt` file is opened temporarily under the name `f`\n",
    "2. The first line of the csv file is split by `,` and saved as a list\n",
    "3. A new dictionary `dict()` object is created to hold the incoming data\n",
    "4. For each remaining line, the line is split by `,` and the data fed to `bunch[apple]` as a nested dictionary."
   ]
  },
  {
   "cell_type": "code",
   "execution_count": 29,
   "metadata": {
    "collapsed": true
   },
   "outputs": [],
   "source": [
    "with open(\"Apples.txt\", 'r') as f:\n",
    "    # Get header\n",
    "    header = f.readline().replace(\"\\n\", \"\").split(\",\")\n",
    "    # Instantiate a new dictionary\n",
    "    bunch = dict()\n",
    "    for line in f.readlines():\n",
    "        dataline = line.replace(\"\\n\", \"\").split(\",\")\n",
    "        bunch[dataline[0]] = {header[1] : dataline[1], header[2] : int(dataline[2]), header[3] : dataline[3]}"
   ]
  },
  {
   "cell_type": "markdown",
   "metadata": {},
   "source": [
    "We now have a tree-style dataset. Whenever you want to access information about a particular apple, you just have to supply the right sequence of keys to get to the data."
   ]
  },
  {
   "cell_type": "code",
   "execution_count": 30,
   "metadata": {},
   "outputs": [
    {
     "name": "stdout",
     "output_type": "stream",
     "text": [
      "{'Variety': 'Spartan', 'Weight': 161, 'Freshness': 'Fresh'}\n",
      "Fresh\n"
     ]
    }
   ],
   "source": [
    "print(bunch[\"Alfa\"])\n",
    "\n",
    "print(bunch[\"Alfa\"][\"Freshness\"])"
   ]
  },
  {
   "cell_type": "markdown",
   "metadata": {},
   "source": [
    "We can check on our apples' freshness by using a list comprehension. In Jupyter you can use a `;` at the end of a line to supress output. Here is only want my `print()` output to appear."
   ]
  },
  {
   "cell_type": "code",
   "execution_count": 31,
   "metadata": {},
   "outputs": [
    {
     "name": "stdout",
     "output_type": "stream",
     "text": [
      "Alfa       is      Fresh\n",
      "Bravo      is      Fresh\n",
      "Charlie    is      Fresh\n",
      "Delta      is    Spoiled\n",
      "Echo       is    Spoiled\n",
      "Foxtrot    is      Fresh\n",
      "Golf       is    Spoiled\n",
      "Hotel      is      Fresh\n",
      "India      is    Spoiled\n",
      "Juliett    is      Fresh\n",
      "Kilo       is      Fresh\n",
      "Lima       is      Fresh\n",
      "Mike       is    Spoiled\n",
      "November   is      Fresh\n",
      "Oscar      is      Fresh\n",
      "Papa       is      Fresh\n",
      "Quebec     is      Fresh\n",
      "Romeo      is      Fresh\n",
      "Sierra     is      Fresh\n",
      "Tango      is      Fresh\n",
      "Uniform    is      Fresh\n",
      "Victor     is      Fresh\n",
      "Whiskey    is      Fresh\n",
      "X-ray      is    Spoiled\n",
      "Yankee     is      Fresh\n",
      "Zulu       is      Fresh\n"
     ]
    }
   ],
   "source": [
    "[print(\"{:<10} is {:>10}\".format(apple, bunch[apple][\"Freshness\"])) for apple in bunch.keys()] ;"
   ]
  },
  {
   "cell_type": "markdown",
   "metadata": {},
   "source": [
    "Thanks for reading this python intro!"
   ]
  }
 ],
 "metadata": {
  "kernelspec": {
   "display_name": "Python 3",
   "language": "python",
   "name": "python3"
  },
  "language_info": {
   "codemirror_mode": {
    "name": "ipython",
    "version": 3
   },
   "file_extension": ".py",
   "mimetype": "text/x-python",
   "name": "python",
   "nbconvert_exporter": "python",
   "pygments_lexer": "ipython3",
   "version": "3.6.4"
  }
 },
 "nbformat": 4,
 "nbformat_minor": 2
}
