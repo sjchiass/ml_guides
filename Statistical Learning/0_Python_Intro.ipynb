{
 "cells": [
  {
   "cell_type": "markdown",
   "metadata": {
    "collapsed": true
   },
   "source": [
    "# An introduction to Python\n",
    "\n",
    "I'll go through a few important Python concepts before getting into the statistical learning. I'll show you how to import libraries, but also some neat things having to do with strings, lists, and dictionaries.\n",
    "\n",
    "1. importing libraries\n",
    "2. manipulating strings\n",
    "3. using lists\n",
    "4. using dictionaries\n",
    "5. opening files\n",
    "\n",
    "## Importing libraries\n",
    "\n",
    "To import a Python library/package means to include either Python code or some pre-compiled programs into your own Python script. The important thing to keep track of here is the *namespace*.\n",
    "\n",
    "As an example of a namespace, suppose you've written a Python function called `fit()` to fit a model to some data. Suppose you also want to import a library that already has a library with a function called `fit()`. How will you be able to call each function separately? That's the main concern when dealing with namespaces.\n",
    "\n",
    "### Method 1: import\n",
    "\n",
    "Here is a way of importing a library that keeps it completely separate."
   ]
  },
  {
   "cell_type": "code",
   "execution_count": 1,
   "metadata": {
    "collapsed": true
   },
   "outputs": [],
   "source": [
    "import sklearn.linear_model"
   ]
  },
  {
   "cell_type": "markdown",
   "metadata": {},
   "source": [
    "This imports all of scikit-learn's `linear_model` library and lets you use these models in your program by calling `sklearn.linear_model`."
   ]
  },
  {
   "cell_type": "code",
   "execution_count": 2,
   "metadata": {},
   "outputs": [
    {
     "data": {
      "text/plain": [
       "LinearRegression(copy_X=True, fit_intercept=True, n_jobs=1, normalize=False)"
      ]
     },
     "execution_count": 2,
     "metadata": {},
     "output_type": "execute_result"
    }
   ],
   "source": [
    "lm = sklearn.linear_model.LinearRegression()\n",
    "lm"
   ]
  },
  {
   "cell_type": "markdown",
   "metadata": {},
   "source": [
    "### Method 2: import as\n",
    "\n",
    "You can also import a library under a name of your choosing."
   ]
  },
  {
   "cell_type": "code",
   "execution_count": 3,
   "metadata": {
    "collapsed": true
   },
   "outputs": [],
   "source": [
    "import sklearn.linear_model as hotdog"
   ]
  },
  {
   "cell_type": "markdown",
   "metadata": {},
   "source": [
    "This will let you call the linear models library by only using `linear_model`."
   ]
  },
  {
   "cell_type": "code",
   "execution_count": 4,
   "metadata": {},
   "outputs": [
    {
     "data": {
      "text/plain": [
       "LinearRegression(copy_X=True, fit_intercept=True, n_jobs=1, normalize=False)"
      ]
     },
     "execution_count": 4,
     "metadata": {},
     "output_type": "execute_result"
    }
   ],
   "source": [
    "lm = hotdog.LinearRegression()\n",
    "lm"
   ]
  },
  {
   "cell_type": "markdown",
   "metadata": {},
   "source": [
    "### Method 3: import selectively\n",
    "\n",
    "You can also import only some parts of a library, to keep things clean."
   ]
  },
  {
   "cell_type": "code",
   "execution_count": 5,
   "metadata": {
    "collapsed": true
   },
   "outputs": [],
   "source": [
    "from sklearn.linear_model import LinearRegression"
   ]
  },
  {
   "cell_type": "markdown",
   "metadata": {},
   "source": [
    "Now the `LinearRegression` class will available for you to use on its own."
   ]
  },
  {
   "cell_type": "code",
   "execution_count": 6,
   "metadata": {},
   "outputs": [
    {
     "data": {
      "text/plain": [
       "LinearRegression(copy_X=True, fit_intercept=True, n_jobs=1, normalize=False)"
      ]
     },
     "execution_count": 6,
     "metadata": {},
     "output_type": "execute_result"
    }
   ],
   "source": [
    "lm = LinearRegression()\n",
    "lm"
   ]
  },
  {
   "cell_type": "markdown",
   "metadata": {},
   "source": [
    "### What you should do\n",
    "\n",
    "Look at some code examples online and see how people usually import a library. It's better to use the common method so that people reading your code see familiar things. For example, the library `numpy` is always import as"
   ]
  },
  {
   "cell_type": "code",
   "execution_count": 7,
   "metadata": {
    "collapsed": true
   },
   "outputs": [],
   "source": [
    "# The official way\n",
    "import numpy as np"
   ]
  },
  {
   "cell_type": "markdown",
   "metadata": {},
   "source": [
    "## Strings\n",
    "\n",
    "In Python a [string](https://docs.python.org/3/library/stdtypes.html#text-sequence-type-str) is text. This will be format used for things such as column names, dictionary keys (more later), and text data.\n",
    "\n",
    "A very useful built-in function in Python is the [`print()`](https://docs.python.org/3/library/functions.html#print) function!"
   ]
  },
  {
   "cell_type": "code",
   "execution_count": 8,
   "metadata": {},
   "outputs": [
    {
     "name": "stdout",
     "output_type": "stream",
     "text": [
      "Hello world!\n"
     ]
    }
   ],
   "source": [
    "print(\"Hello world!\")"
   ]
  },
  {
   "cell_type": "markdown",
   "metadata": {},
   "source": [
    "Use the print function often to display data to your Jupyter session or your Python console.\n",
    "\n",
    "Here are a few neat things you can do with strings."
   ]
  },
  {
   "cell_type": "code",
   "execution_count": 9,
   "metadata": {},
   "outputs": [
    {
     "name": "stdout",
     "output_type": "stream",
     "text": [
      "Strings can be concatenated by adding them together.\n",
      "A string can also be multiplied multiplied multiplied multiplied multiplied \n",
      "The str() function can turn numbers into a string: 100\n"
     ]
    }
   ],
   "source": [
    "print(\"Strings can be concatenated by \" + \"adding them together.\")\n",
    "\n",
    "print(\"A string can also be \" + (5 * \"multiplied \"))\n",
    "\n",
    "print(\"The str() function can turn numbers into a string: \" + str(100))"
   ]
  },
  {
   "cell_type": "markdown",
   "metadata": {},
   "source": [
    "Another useful set of string commands are [`split()`](https://docs.python.org/3/library/stdtypes.html#str.split), `join()`, and `replace()` (these last two are documented in [string methods](https://docs.python.org/3/library/stdtypes.html#string-methods)."
   ]
  },
  {
   "cell_type": "code",
   "execution_count": 10,
   "metadata": {},
   "outputs": [
    {
     "name": "stdout",
     "output_type": "stream",
     "text": [
      "['The', 'split', 'function', 'will', 'separate', 'delimited', 'substrings.']\n",
      "The join method does the opposite.\n",
      "Thi riplaci mithod dois a find and riplaci.\n"
     ]
    }
   ],
   "source": [
    "print(\"The split function will separate delimited substrings.\".split(\" \"))\n",
    "\n",
    "print(\" \".join([\"The\", \"join\", \"method\", \"does\", \"the\", \"opposite.\"]))\n",
    "\n",
    "print(\"The replace method does a find and replace.\".replace(\"e\", \"i\"))"
   ]
  },
  {
   "cell_type": "markdown",
   "metadata": {},
   "source": [
    "The most important string function you will come across is the [`.format()`](https://docs.python.org/3/library/string.html#formatstrings) method. If you find the Python documentation obtuse, there also [this webpage](https://pyformat.info/) devoted to `.format()`."
   ]
  },
  {
   "cell_type": "code",
   "execution_count": 11,
   "metadata": {},
   "outputs": [
    {
     "name": "stdout",
     "output_type": "stream",
     "text": [
      "Johnny ate 5 cakes while Timmy ate 15.1.\n"
     ]
    }
   ],
   "source": [
    "# The first mode of .format() is positional\n",
    "print(\"Johnny ate {0} cakes while Timmy ate {1}.\".format(5, 15.1))"
   ]
  },
  {
   "cell_type": "markdown",
   "metadata": {},
   "source": [
    "The `.format()` method can also receive specific formatting options. For example, `{:5}` will reverse 5 characters to print an integer. `{:<10}` will left-align a string within a 10-character space. Finally, `{:07.2f}` will reserver 7 characters to hold a float number, padding it with zeros."
   ]
  },
  {
   "cell_type": "code",
   "execution_count": 12,
   "metadata": {},
   "outputs": [
    {
     "name": "stdout",
     "output_type": "stream",
     "text": [
      "Johnny ate     5 cakes while Cthulhu    ate 0151.20.\n",
      "Epoch    11 complete, cost   0.023153, accuracy 97.23%\n"
     ]
    }
   ],
   "source": [
    "# The second mode is more specific\n",
    "print(\"Johnny ate {:5d} cakes while {:<10} ate {:07.2f}.\".format(5, \"Cthulhu\", 151.2))\n",
    "\n",
    "# A more realistic example\n",
    "print(\"Epoch {:5d} complete, cost {:10.6f}, accuracy {:5.2f}%\".format(11, 0.0231532, 97.231))"
   ]
  },
  {
   "cell_type": "markdown",
   "metadata": {},
   "source": [
    "## Using lists\n",
    "\n",
    "Lists in Python are really just flexible data containers. You can store any kind of data in them, and you can manipulate them any way you want. Lists are also useful to iterate through for-loops.\n",
    "\n",
    "You can find the documentation on lists [here](https://docs.python.org/3/tutorial/datastructures.html)."
   ]
  },
  {
   "cell_type": "code",
   "execution_count": 13,
   "metadata": {},
   "outputs": [
    {
     "name": "stdout",
     "output_type": "stream",
     "text": [
      "['a', 'b', 'c', 1, 2, 3]\n",
      "['a', 'b', 'c', '1', '2', '3']\n"
     ]
    }
   ],
   "source": [
    "# A list is declared with square brackets\n",
    "mylist = [\"a\", \"b\", \"c\", 1, 2, 3]\n",
    "print(mylist)\n",
    "\n",
    "# They can also be created by splitting strings\n",
    "my_delimited_list = \"a, b, c, 1, 2, 3\".split(\", \")\n",
    "print(my_delimited_list)"
   ]
  },
  {
   "cell_type": "markdown",
   "metadata": {},
   "source": [
    "You can also perform some operations on lists. Here are some useful ones."
   ]
  },
  {
   "cell_type": "code",
   "execution_count": 14,
   "metadata": {},
   "outputs": [
    {
     "name": "stdout",
     "output_type": "stream",
     "text": [
      "['a', 'b', 'c', 1, 2, 3, 'a']\n",
      "['a', 'b', 'c', 1, 2, 3, 'a', (1, 2, 3)]\n",
      "['a', 'b', 'c', 1, 2, 3, 'a', (1, 2, 3), ['a', 'b', 'c', '1', '2', '3']]\n",
      "['a', 'b', 'c', '1', '2', '3', 'apple', 'orange', 'banana']\n"
     ]
    }
   ],
   "source": [
    "mylist = [\"a\", \"b\", \"c\", 1, 2, 3]\n",
    "my_delimited_list = \"a, b, c, 1, 2, 3\".split(\", \")\n",
    "\n",
    "# The append method concatenates something to the end of a list (does not return the appended list)\n",
    "mylist.append(\"a\")\n",
    "print(mylist)\n",
    "mylist.append((1, 2, 3))\n",
    "print(mylist)\n",
    "mylist.append(my_delimited_list)\n",
    "print(mylist)\n",
    "\n",
    "# You can also use the addition operator\n",
    "print(my_delimited_list + [\"apple\", \"orange\", \"banana\"])"
   ]
  },
  {
   "cell_type": "markdown",
   "metadata": {},
   "source": [
    "A very nice thing about lists is that they're iterable. This means that they can be fed to a for-loop and processed one-by-one."
   ]
  },
  {
   "cell_type": "code",
   "execution_count": 15,
   "metadata": {},
   "outputs": [
    {
     "name": "stdout",
     "output_type": "stream",
     "text": [
      "1\n",
      "2\n",
      "3\n",
      "1\n",
      "2\n",
      "3\n",
      "This is a string. 1\n",
      "This is a string. 2\n",
      "This is a string. 3\n",
      "This isn't a string. 1\n",
      "This isn't a string. 2\n",
      "This isn't a string. 3\n"
     ]
    }
   ],
   "source": [
    "mylist = [\"1\", \"2\", \"3\", 1, 2, 3]\n",
    "\n",
    "# A simple for loop\n",
    "for i in mylist:\n",
    "    print(i)\n",
    "\n",
    "# Or play around a bit\n",
    "for i in mylist:\n",
    "    if isinstance(i, str):\n",
    "        print(\"This is a string. {0}\".format(i))\n",
    "    else:\n",
    "        print(\"This isn't a string. {0}\".format(i))"
   ]
  },
  {
   "cell_type": "markdown",
   "metadata": {},
   "source": [
    "A more advanced technique is called \"list comprehension\", which is like Python's [`map()`](https://docs.python.org/3/library/functions.html#map) or [`apply()`](http://stat.ethz.ch/R-manual/R-devel/library/base/html/apply.html) function in other languages. "
   ]
  },
  {
   "cell_type": "code",
   "execution_count": 16,
   "metadata": {},
   "outputs": [
    {
     "name": "stdout",
     "output_type": "stream",
     "text": [
      "['1', '2', '3', '4', '5', '6', '7', '8', '9', '10']\n",
      "['6', '7', '8', '9', '10']\n"
     ]
    }
   ],
   "source": [
    "# The list comprehension will apply a function on all the elements in mylist\n",
    "mylist = [1, 2, 3, 4, 5, 6, 7, 8, 9, 10]\n",
    "my_other_list = [str(x) for x in mylist]\n",
    "print(my_other_list)\n",
    "\n",
    "# The list comprehension can also take conditions\n",
    "my_shorter_list = [str(x) for x in mylist if x > 5]\n",
    "print(my_shorter_list)"
   ]
  },
  {
   "cell_type": "markdown",
   "metadata": {},
   "source": [
    "A list comprehension can be useful in some situations, but a for-loop can do the same in a few more lines."
   ]
  }
 ],
 "metadata": {
  "kernelspec": {
   "display_name": "Python 3",
   "language": "python",
   "name": "python3"
  },
  "language_info": {
   "codemirror_mode": {
    "name": "ipython",
    "version": 3
   },
   "file_extension": ".py",
   "mimetype": "text/x-python",
   "name": "python",
   "nbconvert_exporter": "python",
   "pygments_lexer": "ipython3",
   "version": "3.6.2"
  }
 },
 "nbformat": 4,
 "nbformat_minor": 2
}
