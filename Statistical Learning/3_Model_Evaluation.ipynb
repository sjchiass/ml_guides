{
 "cells": [
  {
   "cell_type": "markdown",
   "metadata": {},
   "source": [
    "# Testing and Evaluating Models"
   ]
  },
  {
   "cell_type": "code",
   "execution_count": 16,
   "metadata": {},
   "outputs": [],
   "source": [
    "# numpy\n",
    "import numpy as np\n",
    "\n",
    "# get scikit-learn's datasets\n",
    "from sklearn import datasets\n",
    "\n",
    "# get some model selection tools\n",
    "from sklearn.model_selection import train_test_split, KFold\n",
    "\n",
    "# load various models from scikit-learn's library\n",
    "from sklearn.linear_model import LinearRegression, LogisticRegression\n",
    "from sklearn.ensemble import AdaBoostRegressor, RandomForestRegressor, GradientBoostingRegressor\n",
    "from sklearn.neighbors import KNeighborsRegressor\n",
    "from sklearn.svm import SVR\n",
    "from sklearn.tree import DecisionTreeRegressor\n",
    "from sklearn.neural_network import MLPRegressor\n",
    "\n",
    "# also get some metrics to try\n",
    "from sklearn.metrics import *\n",
    "\n",
    "# matplotlib for graphs\n",
    "import matplotlib.pyplot as plt\n",
    "\n",
    "# itertools\n",
    "import itertools"
   ]
  },
  {
   "cell_type": "code",
   "execution_count": 17,
   "metadata": {},
   "outputs": [],
   "source": [
    "# Get a binary classification problem\n",
    "X, y = datasets.make_moons(n_samples=1000, noise=0.3)"
   ]
  },
  {
   "cell_type": "code",
   "execution_count": 18,
   "metadata": {},
   "outputs": [
    {
     "name": "stdout",
     "output_type": "stream",
     "text": [
      "Feature data shape: rows 1000; columns 2\n",
      "Target data shape: rows 1000\n"
     ]
    }
   ],
   "source": [
    "print(\"Feature data shape: {0}\".format(\"; \".join([\" \".join(map(str, i)) for i in zip([\"rows\", \"columns\"], X.shape)])))\n",
    "print(\"Target data shape: {0}\".format(\"; \".join([\" \".join(map(str, i)) for i in zip([\"rows\", \"columns\"], y.shape)])))"
   ]
  },
  {
   "cell_type": "markdown",
   "metadata": {},
   "source": [
    "Scikit-learns's [classfication metrics](http://scikit-learn.org/stable/modules/model_evaluation.html#classification-metrics)."
   ]
  },
  {
   "cell_type": "code",
   "execution_count": 22,
   "metadata": {},
   "outputs": [],
   "source": [
    "classification_metrics = {\"precision_recall_curve\" : \"Compute precision-recall pairs for different probability thresholds\", \n",
    "                            \"roc_curve\" : \"Compute Receiver operating characteristic (ROC)\", \n",
    "                            \"cohen_kappa_score\" : \"Cohen’s kappa: a statistic that measures inter-annotator agreement.\", \n",
    "                            \"confusion_matrix\" : \"Compute confusion matrix to evaluate the accuracy of a classification\", \n",
    "                            \"hinge_loss\" : \"Average hinge loss (non-regularized)\", \n",
    "                            \"matthews_corrcoef\" : \"Compute the Matthews correlation coefficient (MCC)\", \n",
    "                            \"accuracy_score\" : \"Accuracy classification score.\", \n",
    "                            \"classification_report\" : \"Build a text report showing the main classification metrics\", \n",
    "                            \"f1_score\" : \"Compute the F1 score, also known as balanced F-score or F-measure\", \n",
    "                            \"hamming_loss\" : \"Compute the average Hamming loss.\", \n",
    "                            \"jaccard_similarity_score\" : \"Jaccard similarity coefficient score\", \n",
    "                            \"log_loss\" : \"Log loss, aka logistic loss or cross-entropy loss.\", \n",
    "                            \"precision_recall_fscore_support\" : \"Compute precision, recall, F-measure and support for each class\", \n",
    "                            \"precision_score\" : \"Compute the precision\", \n",
    "                            \"recall_score\" : \"Compute the recall\", \n",
    "                            \"zero_one_loss\" : \"Zero-one classification loss.\", \n",
    "                            \"average_precision_score\" : \"Compute average precision (AP) from prediction scores\", \n",
    "                            \"roc_auc_score\" : \"Compute Area Under the Receiver Operating Characteristic Curve (ROC AUC) from prediction scores.\"\n",
    "                         }"
   ]
  },
  {
   "cell_type": "code",
   "execution_count": 24,
   "metadata": {},
   "outputs": [
    {
     "name": "stdout",
     "output_type": "stream",
     "text": [
      "*** precision_recall_curve ***\n",
      "Compute precision-recall pairs for different probability thresholds\n",
      "(array([0.5       , 0.85020243, 1.        ]), array([1.  , 0.84, 0.  ]), array([0, 1]))\n",
      "---\n",
      "*** roc_curve ***\n",
      "Compute Receiver operating characteristic (ROC)\n",
      "(array([0.   , 0.148, 1.   ]), array([0.  , 0.84, 1.  ]), array([2, 1, 0]))\n",
      "---\n",
      "*** cohen_kappa_score ***\n",
      "Cohen’s kappa: a statistic that measures inter-annotator agreement.\n",
      "0.692\n",
      "---\n",
      "*** confusion_matrix ***\n",
      "Compute confusion matrix to evaluate the accuracy of a classification\n",
      "[[426  74]\n",
      " [ 80 420]]\n",
      "---\n",
      "*** hinge_loss ***\n",
      "Average hinge loss (non-regularized)\n",
      "0.654\n",
      "---\n",
      "*** matthews_corrcoef ***\n",
      "Compute the Matthews correlation coefficient (MCC)\n",
      "0.6920498293816378\n",
      "---\n",
      "*** accuracy_score ***\n",
      "Accuracy classification score.\n",
      "0.846\n",
      "---\n",
      "*** classification_report ***\n",
      "Build a text report showing the main classification metrics\n",
      "             precision    recall  f1-score   support\n",
      "\n",
      "          0       0.84      0.85      0.85       500\n",
      "          1       0.85      0.84      0.85       500\n",
      "\n",
      "avg / total       0.85      0.85      0.85      1000\n",
      "\n",
      "---\n",
      "*** f1_score ***\n",
      "Compute the F1 score, also known as balanced F-score or F-measure\n",
      "0.8450704225352113\n",
      "---\n",
      "*** hamming_loss ***\n",
      "Compute the average Hamming loss.\n",
      "0.154\n",
      "---\n",
      "*** jaccard_similarity_score ***\n",
      "Jaccard similarity coefficient score\n",
      "0.846\n",
      "---\n",
      "*** log_loss ***\n",
      "Log loss, aka logistic loss or cross-entropy loss.\n",
      "5.319030735026079\n",
      "---\n",
      "*** precision_recall_fscore_support ***\n",
      "Compute precision, recall, F-measure and support for each class\n",
      "(array([0.84189723, 0.85020243]), array([0.852, 0.84 ]), array([0.84691849, 0.84507042]), array([500, 500]))\n",
      "---\n",
      "*** precision_score ***\n",
      "Compute the precision\n",
      "0.8502024291497976\n",
      "---\n",
      "*** recall_score ***\n",
      "Compute the recall\n",
      "0.84\n",
      "---\n",
      "*** zero_one_loss ***\n",
      "Zero-one classification loss.\n",
      "0.15400000000000003\n",
      "---\n",
      "*** average_precision_score ***\n",
      "Compute average precision (AP) from prediction scores\n",
      "0.7941700404858301\n",
      "---\n",
      "*** roc_auc_score ***\n",
      "Compute Area Under the Receiver Operating Characteristic Curve (ROC AUC) from prediction scores.\n",
      "0.8459999999999999\n",
      "---\n"
     ]
    }
   ],
   "source": [
    "model = LogisticRegression()\n",
    "# fit instance\n",
    "fit = model.fit(X=X, y=y)\n",
    "\n",
    "for key, value in classification_metrics.items():\n",
    "    print(\"*** {0} ***\".format(key))\n",
    "    print(value)\n",
    "    print(getattr(sklearn.metrics, key)(y, model.predict(X=X)))\n",
    "    print(\"---\")"
   ]
  },
  {
   "cell_type": "code",
   "execution_count": null,
   "metadata": {},
   "outputs": [],
   "source": []
  },
  {
   "cell_type": "code",
   "execution_count": null,
   "metadata": {},
   "outputs": [],
   "source": [
    "house_prices = datasets.load_boston()\n",
    "\n",
    "# Make things a bit cleaner\n",
    "X = house_prices.data\n",
    "y = house_prices.target"
   ]
  },
  {
   "cell_type": "code",
   "execution_count": 2,
   "metadata": {},
   "outputs": [
    {
     "name": "stdout",
     "output_type": "stream",
     "text": [
      "Features: CRIM, ZN, INDUS, CHAS, NOX, RM, AGE, DIS, RAD, TAX, PTRATIO, B, LSTAT\n",
      "Feature data shape: rows 506; columns 13\n",
      "Target data shape: rows 506\n"
     ]
    }
   ],
   "source": [
    "print(\"Features: {0}\".format(\", \".join(house_prices.feature_names)))\n",
    "print(\"Feature data shape: {0}\".format(\"; \".join([\" \".join(map(str, i)) for i in zip([\"rows\", \"columns\"], X.shape)])))\n",
    "print(\"Target data shape: {0}\".format(\"; \".join([\" \".join(map(str, i)) for i in zip([\"rows\", \"columns\"], y.shape)])))"
   ]
  },
  {
   "cell_type": "markdown",
   "metadata": {},
   "source": [
    "Scikit-learn's [regression metrics](http://scikit-learn.org/stable/modules/model_evaluation.html#regression-metrics)."
   ]
  },
  {
   "cell_type": "code",
   "execution_count": 28,
   "metadata": {},
   "outputs": [],
   "source": [
    "regression_metrics = {\n",
    "                        \"explained_variance_score\" : \"Explained variance regression score function\", \n",
    "                        \"mean_absolute_error\" : \"Mean absolute error regression loss\", \n",
    "                        \"mean_squared_error\" : \"Mean squared error regression loss\", \n",
    "                        \"mean_squared_log_error\" : \"Mean squared logarithmic error regression loss\", \n",
    "                        \"median_absolute_error\" : \"Median absolute error regression loss\", \n",
    "                        \"r2_score\" : \"R^2 (coefficient of determination) regression score function.\"\n",
    "                    }"
   ]
  },
  {
   "cell_type": "code",
   "execution_count": 29,
   "metadata": {},
   "outputs": [
    {
     "name": "stdout",
     "output_type": "stream",
     "text": [
      "*** explained_variance_score ***\n",
      "Explained variance regression score function\n",
      "0.5440373003850014\n",
      "---\n",
      "*** mean_absolute_error ***\n",
      "Mean absolute error regression loss\n",
      "0.2633147734163758\n",
      "---\n",
      "*** mean_squared_error ***\n",
      "Mean squared error regression loss\n",
      "0.11399067490374966\n",
      "---\n",
      "*** mean_squared_log_error ***\n",
      "Mean squared logarithmic error regression loss\n",
      "0.0570926337011185\n",
      "---\n",
      "*** median_absolute_error ***\n",
      "Median absolute error regression loss\n",
      "0.20669790079050793\n",
      "---\n",
      "*** r2_score ***\n",
      "R^2 (coefficient of determination) regression score function.\n",
      "0.5440373003850014\n",
      "---\n"
     ]
    }
   ],
   "source": [
    "model = LinearRegression()\n",
    "# fit instance\n",
    "fit = model.fit(X=X, y=y)\n",
    "\n",
    "for key, value in regression_metrics.items():\n",
    "    print(\"*** {0} ***\".format(key))\n",
    "    print(value)\n",
    "    print(getattr(sklearn.metrics, key)(y, model.predict(X=X)))\n",
    "    print(\"---\")"
   ]
  },
  {
   "cell_type": "markdown",
   "metadata": {},
   "source": [
    "## Train-test Splits\n",
    "\n",
    "In the examples above we evaluated the model's performance by only considering its performance with the training set. Since the model already learns from this data, it's expected to familiar with it. If the model overfits, this kind of evaluation won't detect it.\n",
    "\n",
    "By using a test set kept separate from the model's training, we can get a glimpse of how the model reacts in an unexpected situation. Hopefully this tells us how well the model will perform in real-life situations."
   ]
  },
  {
   "cell_type": "code",
   "execution_count": 30,
   "metadata": {},
   "outputs": [],
   "source": [
    "house_prices = datasets.load_boston()\n",
    "\n",
    "# Make things a bit cleaner\n",
    "X = house_prices.data\n",
    "y = house_prices.target"
   ]
  },
  {
   "cell_type": "markdown",
   "metadata": {},
   "source": [
    "Scikit-learn's `train_test_split` function will split a dataset for you. Using the `shuffle` option is a good idea if the dataset is sorted in some way but you want a randomized test set. Set the `random_state` option if you want a randomized test set that will stay the same each time you run your code.\n",
    "\n",
    "Picking a randomized test set is common practice, but there are sometimes motivations for not doing it, which will be explained below.\n",
    "\n",
    "If your dataset has duplicates, they should be removed since otherwise some data will be in both the training set and the test set, making their split imperfect."
   ]
  },
  {
   "cell_type": "code",
   "execution_count": 31,
   "metadata": {},
   "outputs": [
    {
     "name": "stdout",
     "output_type": "stream",
     "text": [
      "Training data X shape: rows 379; columns 13\n",
      "Training data y shape: rows 379\n",
      "Test data X shape: rows 127; columns 13\n",
      "Test data y shape: rows 127\n"
     ]
    }
   ],
   "source": [
    "# Create train/test split\n",
    "X_train, X_test, y_train, y_test = train_test_split(X, y, shuffle=True, random_state=1234)\n",
    "\n",
    "print(\"Training data X shape: {0}\".format(\"; \".join([\" \".join(map(str, i)) for i in zip([\"rows\", \"columns\"], X_train.shape)])))\n",
    "print(\"Training data y shape: {0}\".format(\"; \".join([\" \".join(map(str, i)) for i in zip([\"rows\", \"columns\"], y_train.shape)])))\n",
    "print(\"Test data X shape: {0}\".format(\"; \".join([\" \".join(map(str, i)) for i in zip([\"rows\", \"columns\"], X_test.shape)])))\n",
    "print(\"Test data y shape: {0}\".format(\"; \".join([\" \".join(map(str, i)) for i in zip([\"rows\", \"columns\"], y_test.shape)])))"
   ]
  },
  {
   "cell_type": "code",
   "execution_count": 33,
   "metadata": {},
   "outputs": [
    {
     "name": "stdout",
     "output_type": "stream",
     "text": [
      "OLS                  training R^2  0.73, test R^2  0.73\n",
      "KNN 5                training R^2  0.66, test R^2  0.55\n",
      "DecisionTrees (full) training R^2  1.00, test R^2  0.86\n",
      "AdaBoost 50          training R^2  0.91, test R^2  0.86\n",
      "Random Forests       training R^2  0.97, test R^2  0.89\n",
      "GradientBoost        training R^2  0.98, test R^2  0.91\n"
     ]
    }
   ],
   "source": [
    "regressors = {\"OLS\" : LinearRegression(), \n",
    "              \"KNN\" : KNeighborsRegressor(), \n",
    "              \"DecisionTrees\" : DecisionTreeRegressor(), \n",
    "              \"AdaBoost\" : AdaBoostRegressor(random_state=1234), \n",
    "              \"Random Forests\" : RandomForestRegressor(random_state=1234), \n",
    "              \"GradientBoost\" : GradientBoostingRegressor(random_state=1234)\n",
    "             }\n",
    "\n",
    "# You can use the zip() function to iterate over multiple series\n",
    "for name, regressor in regressors.items():\n",
    "    model = regressor\n",
    "    # fit instance\n",
    "    fit = model.fit(X=X_train, y=y_train)\n",
    "    # R^2\n",
    "    train_score = r2_score(y_true = y_train, y_pred = model.predict(X=X_train))\n",
    "    test_score = r2_score(y_true = y_test, y_pred = model.predict(X=X_test))\n",
    "    # residuals/errors\n",
    "    \n",
    "    # print results\n",
    "    print(\"{:<20} training R^2 {:5.2f}, test R^2 {:5.2f}\".format(name, train_score, test_score))"
   ]
  },
  {
   "cell_type": "code",
   "execution_count": 46,
   "metadata": {},
   "outputs": [
    {
     "name": "stdout",
     "output_type": "stream",
     "text": [
      "*** Error along feature values ***\n",
      "---\n",
      "Quintile ranges for AGE: Q1 6.0 to 36.1; Q2 37.8 to 63.0; Q3 64.5 to 89.0; Q4 89.1 to 95.8; Q5 96.0 to 100.0\n",
      "---\n",
      "OLS                  quintile mean/std [-2.35/ 5.06], [ 0.40/ 4.48], [-0.97/ 4.75], [ 0.14/ 4.41], [-0.33/ 6.53]; all [-0.63/ 5.19]\n",
      "KNN                  quintile mean/std [ 0.85/ 7.24], [ 0.16/ 5.21], [-2.56/ 7.72], [ 0.33/ 4.30], [-0.02/ 6.43]; all [-0.24/ 6.42]\n",
      "DecisionTrees        quintile mean/std [-0.94/ 2.94], [ 0.48/ 3.69], [ 1.06/ 3.83], [ 0.43/ 2.45], [ 0.88/ 4.97]; all [ 0.37/ 3.74]\n",
      "AdaBoost             quintile mean/std [ 0.58/ 2.73], [ 0.63/ 3.86], [ 0.82/ 4.13], [-0.50/ 2.29], [ 0.29/ 5.14]; all [ 0.37/ 3.79]\n",
      "Random Forests       quintile mean/std [-0.24/ 1.65], [ 0.45/ 3.40], [ 0.07/ 3.54], [-0.18/ 2.12], [ 0.20/ 4.79]; all [ 0.06/ 3.29]\n",
      "GradientBoost        quintile mean/std [ 0.29/ 1.66], [ 0.36/ 3.13], [ 0.42/ 3.57], [-0.42/ 2.04], [-0.09/ 4.02]; all [ 0.12/ 3.03]\n"
     ]
    },
    {
     "data": {
      "image/png": "[encoded data removed]",
      "text/plain": [
       "<Figure size 1080x432 with 6 Axes>"
      ]
     },
     "metadata": {},
     "output_type": "display_data"
    }
   ],
   "source": [
    "regressors = {\"OLS\" : LinearRegression(), \n",
    "              \"KNN\" : KNeighborsRegressor(), \n",
    "              \"DecisionTrees\" : DecisionTreeRegressor(), \n",
    "              \"AdaBoost\" : AdaBoostRegressor(random_state=1234), \n",
    "              \"Random Forests\" : RandomForestRegressor(random_state=1234), \n",
    "              \"GradientBoost\" : GradientBoostingRegressor(random_state=1234)\n",
    "             }\n",
    "\n",
    "error_dict = {}\n",
    "score_dict = {}\n",
    "\n",
    "# You can use the zip() function to iterate over multiple series\n",
    "for name, regressor in regressors.items():\n",
    "    model = regressor\n",
    "    # fit instance\n",
    "    fit = model.fit(X=X_train, y=y_train)\n",
    "    # score\n",
    "    score_dict[name] = r2_score(y_true = y_test, y_pred = model.predict(X=X_test))\n",
    "    # errors\n",
    "    error_dict[name] = model.predict(X=X_test) - y_test\n",
    "\n",
    "print(\"*** Error along feature values ***\")\n",
    "print(\"---\")\n",
    "for i in [6]:\n",
    "    plt.figure(figsize=(15, 6))\n",
    "    i_name = house_prices[\"feature_names\"][i]\n",
    "    i_data = np.expand_dims(X_test[:, i], axis=1)\n",
    "    cbind = np.hstack([i_data] + [error_dict[key].reshape(-1, 1) for key in error_dict.keys()])\n",
    "    cbind = cbind[cbind[:,0].argsort()]\n",
    "    err_mean = np.mean(cbind[:,1:], axis=0)\n",
    "    err_std = np.std(cbind[:,1:], axis=0)\n",
    "    quintile_data = np.array_split(cbind, 5)\n",
    "    quintile_min = [min(i[:,0]) for i in quintile_data]\n",
    "    quintile_max = [max(i[:,0]) for i in quintile_data]\n",
    "    print(\"Quintile ranges for {0}: {1}\".format(\n",
    "        i_name, \"; \".join([\"Q{0} {1} to {2}\".format(a+1, b, c) for a, b, c in zip(range(5), quintile_min, quintile_max)]))\n",
    "         )\n",
    "    print(\"---\")\n",
    "    q_err_means = [np.mean(i[:,1:], axis=0) for i in quintile_data]\n",
    "    q_err_stds = [np.std(i[:,1:], axis=0) for i in quintile_data]\n",
    "    for k, key in zip(range(len(error_dict.keys())), error_dict.keys()):\n",
    "        print(\"{:<20} quintile mean/std {:}; all [{:5.2f}/{:5.2f}]\".format(\n",
    "            key, \n",
    "            \", \".join([\"[{:5.2f}/{:5.2f}]\".format(m[k], s[k]) for m, s in zip(q_err_means, q_err_stds)]), \n",
    "            err_mean[k], \n",
    "            err_std[k])\n",
    "        )\n",
    "        plt.subplot(2, 3, k+1)\n",
    "        plt.errorbar(list(map(lambda s: \"Q\"+str(s), range(1, 5+1))), \n",
    "                     list(map(lambda m: m[k], q_err_means)), \n",
    "                     list(map(lambda m: m[k], q_err_stds)), \n",
    "                     label=key, \n",
    "                     fmt='--o', \n",
    "                     capsize=5)\n",
    "        plt.axhspan(err_mean[k]-err_std[k], err_mean[k]+err_std[k], alpha=0.1, color='red')\n",
    "        plt.xlabel(i_name)\n",
    "        plt.ylabel(\"Error\")\n",
    "        plt.axis((0.5, 4.5, -10, 10))\n",
    "        plt.legend()\n",
    "    plt.tight_layout()\n",
    "    plt.show()"
   ]
  },
  {
   "cell_type": "code",
   "execution_count": null,
   "metadata": {},
   "outputs": [],
   "source": []
  },
  {
   "cell_type": "code",
   "execution_count": 47,
   "metadata": {},
   "outputs": [
    {
     "name": "stdout",
     "output_type": "stream",
     "text": [
      "OLS                  training R^2s  0.73,  0.75,  0.73,  0.73,  0.79 (mean  0.74 stdev  0.03)\n",
      "OLS                      test R^2s  0.77,  0.62,  0.78,  0.79,  0.49 (mean  0.69 stdev  0.12)\n",
      "OLS             train^2 - test R^2 -0.04,  0.13, -0.05, -0.06,  0.30 (mean  0.05)\n",
      "\n",
      "KNN                  training R^2s  0.67,  0.71,  0.67,  0.71,  0.72 (mean  0.69 stdev  0.02)\n",
      "KNN                      test R^2s  0.56,  0.52,  0.69,  0.43,  0.39 (mean  0.52 stdev  0.11)\n",
      "KNN             train^2 - test R^2  0.11,  0.18, -0.02,  0.28,  0.33 (mean  0.18)\n",
      "\n",
      "DecisionTrees        training R^2s  1.00,  1.00,  1.00,  1.00,  1.00 (mean  1.00 stdev  0.00)\n",
      "DecisionTrees            test R^2s  0.79,  0.66,  0.68,  0.87,  0.54 (mean  0.71 stdev  0.11)\n",
      "DecisionTrees   train^2 - test R^2  0.21,  0.34,  0.32,  0.13,  0.46 (mean  0.29)\n",
      "\n",
      "AdaBoost             training R^2s  0.90,  0.92,  0.91,  0.90,  0.91 (mean  0.91 stdev  0.01)\n",
      "AdaBoost                 test R^2s  0.85,  0.80,  0.82,  0.87,  0.69 (mean  0.81 stdev  0.06)\n",
      "AdaBoost        train^2 - test R^2  0.04,  0.12,  0.09,  0.03,  0.22 (mean  0.10)\n",
      "\n",
      "Random Forests       training R^2s  0.97,  0.97,  0.98,  0.96,  0.97 (mean  0.97 stdev  0.00)\n",
      "Random Forests           test R^2s  0.89,  0.81,  0.84,  0.91,  0.70 (mean  0.83 stdev  0.07)\n",
      "Random Forests  train^2 - test R^2  0.08,  0.16,  0.14,  0.06,  0.27 (mean  0.14)\n",
      "\n",
      "GradientBoost        training R^2s  0.98,  0.98,  0.98,  0.98,  0.98 (mean  0.98 stdev  0.00)\n",
      "GradientBoost            test R^2s  0.91,  0.86,  0.86,  0.93,  0.77 (mean  0.86 stdev  0.06)\n",
      "GradientBoost   train^2 - test R^2  0.07,  0.12,  0.12,  0.05,  0.21 (mean  0.11)\n",
      "\n"
     ]
    }
   ],
   "source": [
    "regressors = {\"OLS\" : LinearRegression(), \n",
    "              \"KNN\" : KNeighborsRegressor(), \n",
    "              \"DecisionTrees\" : DecisionTreeRegressor(), \n",
    "              \"AdaBoost\" : AdaBoostRegressor(random_state=1234), \n",
    "              \"Random Forests\" : RandomForestRegressor(random_state=1234), \n",
    "              \"GradientBoost\" : GradientBoostingRegressor(random_state=1234)\n",
    "             }\n",
    "\n",
    "kf = KFold(n_splits = 5, random_state=1234, shuffle=True)\n",
    "\n",
    "for name, regressor in regressors.items():\n",
    "    train_r2s = []\n",
    "    test_r2s = []\n",
    "    for train_index, test_index in kf.split(X):\n",
    "        X_train, X_test = X[train_index], X[test_index]\n",
    "        y_train, y_test = y[train_index], y[test_index]\n",
    "        model = regressor\n",
    "        # fit instance\n",
    "        fit = model.fit(X=X_train, y=y_train)\n",
    "        # R^2\n",
    "        train_r2s.append(r2_score(y_true = y_train, y_pred = model.predict(X=X_train)))\n",
    "        test_r2s.append(r2_score(y_true = y_test, y_pred = model.predict(X=X_test)))\n",
    "    mean_train_r2s = np.mean(train_r2s, axis=0)\n",
    "    stdev_train_r2s = np.std(train_r2s, axis=0)\n",
    "    mean_test_r2s = np.mean(test_r2s, axis=0)\n",
    "    stdev_test_r2s = np.std(test_r2s, axis=0)\n",
    "    print(\"{:<20} training R^2s {:} (mean {:5.2f} stdev {:5.2f})\".format(name, \", \".join([\"{:5.2f}\".format(i) for i in train_r2s]), mean_train_r2s, stdev_train_r2s))\n",
    "    print(\"{:<20}     test R^2s {:} (mean {:5.2f} stdev {:5.2f})\".format(name, \", \".join([\"{:5.2f}\".format(i) for i in test_r2s]), mean_test_r2s, stdev_test_r2s))\n",
    "    print(\"{:<15} train^2 - test R^2 {:} (mean {:5.2f})\".format(name, \", \".join([\"{:5.2f}\".format(i-j) for i, j in zip(train_r2s, test_r2s)]), mean_train_r2s-mean_test_r2s))\n",
    "    print()"
   ]
  },
  {
   "cell_type": "markdown",
   "metadata": {},
   "source": [
    "## Test Sets\n",
    "\n",
    "The idea of the \"test set\" is to get an idea of how models will perform in real-world conditions. Normally the train/test split above is fine; however, if you're optimizing your models on these test splits, some of that test information is leaking into your models. You're getting less of an idea what it will be like to deploy your models in the real world.\n",
    "\n",
    "This is why people use train-validation-test splits when they're optimizing a lot of models. The validation set is for tweaking models with different parameters, and the test set is for guessing at the performance with unknown data.\n",
    "\n",
    "The logic of these sets may be strange at first. Think of the training set as your best-case scenario since it will nearly always be the highest. Then think of your validation set as your \"known unknown\" scenario, a situation with new but familiar data. Your test set should be closest to your worst case scenario, when data is completely unknown.\n",
    "\n",
    "The tougher your test set it, the easier it will be to spot the truly robust models from the flimsy ones. If a model works well with a tough test set, it has generalized well."
   ]
  },
  {
   "cell_type": "code",
   "execution_count": 15,
   "metadata": {},
   "outputs": [],
   "source": [
    "# Create train/test split\n",
    "X_, X_test, y_, y_test = train_test_split(X, y, test_size=0.2, shuffle=True, random_state=1234)\n",
    "X_train, X_valid, y_train, y_valid = train_test_split(X_, y_, shuffle=True, random_state=1234)"
   ]
  },
  {
   "cell_type": "markdown",
   "metadata": {},
   "source": [
    "We'll perform a grid search of parameters here. A very useful function for this is `itertools.product`, which finds all combinations of items among lists. It's equivalent to a nested for-loop.\n",
    "\n",
    "With the `GradientBoostingRegressor` we'll try a ton of different parameters to see which work best."
   ]
  },
  {
   "cell_type": "code",
   "execution_count": 16,
   "metadata": {},
   "outputs": [
    {
     "name": "stderr",
     "output_type": "stream",
     "text": [
      "/home/toaster/anaconda3/lib/python3.6/site-packages/sklearn/ensemble/forest.py:724: UserWarning: Some inputs do not have OOB scores. This probably means too few trees were used to compute any reliable oob estimates.\n",
      "  warn(\"Some inputs do not have OOB scores. \"\n",
      "/home/toaster/anaconda3/lib/python3.6/site-packages/sklearn/ensemble/forest.py:724: UserWarning: Some inputs do not have OOB scores. This probably means too few trees were used to compute any reliable oob estimates.\n",
      "  warn(\"Some inputs do not have OOB scores. \"\n",
      "/home/toaster/anaconda3/lib/python3.6/site-packages/sklearn/ensemble/forest.py:724: UserWarning: Some inputs do not have OOB scores. This probably means too few trees were used to compute any reliable oob estimates.\n",
      "  warn(\"Some inputs do not have OOB scores. \"\n",
      "/home/toaster/anaconda3/lib/python3.6/site-packages/sklearn/ensemble/forest.py:724: UserWarning: Some inputs do not have OOB scores. This probably means too few trees were used to compute any reliable oob estimates.\n",
      "  warn(\"Some inputs do not have OOB scores. \"\n",
      "/home/toaster/anaconda3/lib/python3.6/site-packages/sklearn/ensemble/forest.py:724: UserWarning: Some inputs do not have OOB scores. This probably means too few trees were used to compute any reliable oob estimates.\n",
      "  warn(\"Some inputs do not have OOB scores. \"\n",
      "/home/toaster/anaconda3/lib/python3.6/site-packages/sklearn/ensemble/forest.py:724: UserWarning: Some inputs do not have OOB scores. This probably means too few trees were used to compute any reliable oob estimates.\n",
      "  warn(\"Some inputs do not have OOB scores. \"\n"
     ]
    },
    {
     "name": "stdout",
     "output_type": "stream",
     "text": [
      "Top 10 according to train_score\n",
      "    1.  n: 100 / m: sqrt | training R^2  0.98 | valid R^2  0.85 | test R^2  0.87 | oob R^2  1.00\n",
      "    2.  n: 100 / m: log2 | training R^2  0.98 | valid R^2  0.85 | test R^2  0.87 | oob R^2  1.00\n",
      "    3.  n:  50 / m: sqrt | training R^2  0.98 | valid R^2  0.84 | test R^2  0.86 | oob R^2  1.00\n",
      "    4.  n:  50 / m: log2 | training R^2  0.98 | valid R^2  0.84 | test R^2  0.86 | oob R^2  1.00\n",
      "    5.  n: 100 / m: auto | training R^2  0.98 | valid R^2  0.85 | test R^2  0.91 | oob R^2  1.00\n",
      "    6.  n:  50 / m: auto | training R^2  0.98 | valid R^2  0.84 | test R^2  0.90 | oob R^2  1.00\n",
      "    7.  n:  25 / m: sqrt | training R^2  0.98 | valid R^2  0.83 | test R^2  0.85 | oob R^2  1.00\n",
      "    8.  n:  25 / m: log2 | training R^2  0.98 | valid R^2  0.83 | test R^2  0.85 | oob R^2  1.00\n",
      "    9.  n:  25 / m: auto | training R^2  0.97 | valid R^2  0.86 | test R^2  0.90 | oob R^2  1.00\n",
      "   10.  n:  10 / m: auto | training R^2  0.97 | valid R^2  0.86 | test R^2  0.90 | oob R^2  1.00\n",
      "Top 10 according to valid_score\n",
      "    1.  n:  10 / m: auto | training R^2  0.97 | valid R^2  0.86 | test R^2  0.90 | oob R^2  1.00\n",
      "    2.  n:   5 / m: auto | training R^2  0.96 | valid R^2  0.86 | test R^2  0.89 | oob R^2  1.00\n",
      "    3.  n:  25 / m: auto | training R^2  0.97 | valid R^2  0.86 | test R^2  0.90 | oob R^2  1.00\n",
      "    4.  n: 100 / m: sqrt | training R^2  0.98 | valid R^2  0.85 | test R^2  0.87 | oob R^2  1.00\n",
      "    5.  n: 100 / m: log2 | training R^2  0.98 | valid R^2  0.85 | test R^2  0.87 | oob R^2  1.00\n",
      "    6.  n: 100 / m: auto | training R^2  0.98 | valid R^2  0.85 | test R^2  0.91 | oob R^2  1.00\n",
      "    7.  n:  50 / m: sqrt | training R^2  0.98 | valid R^2  0.84 | test R^2  0.86 | oob R^2  1.00\n",
      "    8.  n:  50 / m: log2 | training R^2  0.98 | valid R^2  0.84 | test R^2  0.86 | oob R^2  1.00\n",
      "    9.  n:  50 / m: auto | training R^2  0.98 | valid R^2  0.84 | test R^2  0.90 | oob R^2  1.00\n",
      "   10.  n:  25 / m: sqrt | training R^2  0.98 | valid R^2  0.83 | test R^2  0.85 | oob R^2  1.00\n",
      "Top 10 according to test_score\n",
      "    1.  n: 100 / m: auto | training R^2  0.98 | valid R^2  0.85 | test R^2  0.91 | oob R^2  1.00\n",
      "    2.  n:  50 / m: auto | training R^2  0.98 | valid R^2  0.84 | test R^2  0.90 | oob R^2  1.00\n",
      "    3.  n:  25 / m: auto | training R^2  0.97 | valid R^2  0.86 | test R^2  0.90 | oob R^2  1.00\n",
      "    4.  n:  10 / m: auto | training R^2  0.97 | valid R^2  0.86 | test R^2  0.90 | oob R^2  1.00\n",
      "    5.  n:   5 / m: auto | training R^2  0.96 | valid R^2  0.86 | test R^2  0.89 | oob R^2  1.00\n",
      "    6.  n: 100 / m: sqrt | training R^2  0.98 | valid R^2  0.85 | test R^2  0.87 | oob R^2  1.00\n",
      "    7.  n: 100 / m: log2 | training R^2  0.98 | valid R^2  0.85 | test R^2  0.87 | oob R^2  1.00\n",
      "    8.  n:  50 / m: sqrt | training R^2  0.98 | valid R^2  0.84 | test R^2  0.86 | oob R^2  1.00\n",
      "    9.  n:  50 / m: log2 | training R^2  0.98 | valid R^2  0.84 | test R^2  0.86 | oob R^2  1.00\n",
      "   10.  n:  25 / m: sqrt | training R^2  0.98 | valid R^2  0.83 | test R^2  0.85 | oob R^2  1.00\n",
      "Top 10 according to oob_score\n",
      "    1.  n: 100 / m: auto | training R^2  0.98 | valid R^2  0.85 | test R^2  0.91 | oob R^2  1.00\n",
      "    2.  n:  50 / m: auto | training R^2  0.98 | valid R^2  0.84 | test R^2  0.90 | oob R^2  1.00\n",
      "    3.  n:  25 / m: auto | training R^2  0.97 | valid R^2  0.86 | test R^2  0.90 | oob R^2  1.00\n",
      "    4.  n:  10 / m: auto | training R^2  0.97 | valid R^2  0.86 | test R^2  0.90 | oob R^2  1.00\n",
      "    5.  n:   5 / m: auto | training R^2  0.96 | valid R^2  0.86 | test R^2  0.89 | oob R^2  1.00\n",
      "    6.  n: 100 / m: sqrt | training R^2  0.98 | valid R^2  0.85 | test R^2  0.87 | oob R^2  1.00\n",
      "    7.  n: 100 / m: log2 | training R^2  0.98 | valid R^2  0.85 | test R^2  0.87 | oob R^2  1.00\n",
      "    8.  n:  50 / m: sqrt | training R^2  0.98 | valid R^2  0.84 | test R^2  0.86 | oob R^2  1.00\n",
      "    9.  n:  50 / m: log2 | training R^2  0.98 | valid R^2  0.84 | test R^2  0.86 | oob R^2  1.00\n",
      "   10.  n:  25 / m: sqrt | training R^2  0.98 | valid R^2  0.83 | test R^2  0.85 | oob R^2  1.00\n"
     ]
    }
   ],
   "source": [
    "results = []\n",
    "\n",
    "for n, m in itertools.product(\n",
    "    [5, 10, 25, 50, 100], \n",
    "    [\"auto\", \"sqrt\", \"log2\"]\n",
    "    ):\n",
    "    model = RandomForestRegressor(n_estimators=n, max_features=m, random_state=1234)\n",
    "    # fit instance\n",
    "    fit = model.fit(X=X_train, y=y_train)\n",
    "    # R^2\n",
    "    train_score = r2_score(y_true = y_train, y_pred = model.predict(X=X_train))\n",
    "    valid_score = r2_score(y_true = y_valid, y_pred = model.predict(X=X_valid))\n",
    "    test_score = r2_score(y_true = y_test, y_pred = model.predict(X=X_test))\n",
    "    oob_score = fit.oob_score\n",
    "    \n",
    "    results.append({\"n\":n, \"m\":m, \"train_score\":train_score, \"valid_score\":valid_score, \"test_score\":test_score})\n",
    "    \n",
    "# print results\n",
    "for score_type in [\"train_score\", \"valid_score\", \"test_score\"]:\n",
    "    print(\"Top 5 according to {0}\".format(score_type))\n",
    "    results.sort(key=lambda x: x[score_type], reverse=True)\n",
    "    i=1\n",
    "    for row in results:\n",
    "        print(\"{:5}.  n: {:3.0f} / m: {:} | training R^2 {:5.2f} | valid R^2 {:5.2f} | test R^2 {:5.2f} | oob R^2 {:5.2f}\".format(\n",
    "            i, row[\"n\"], row[\"m\"], row[\"train_score\"], row[\"valid_score\"], row[\"test_score\"], row[\"oob_score\"]\n",
    "        ))\n",
    "        i+=1\n",
    "        if i > 5: break"
   ]
  },
  {
   "cell_type": "code",
   "execution_count": null,
   "metadata": {},
   "outputs": [],
   "source": []
  },
  {
   "cell_type": "code",
   "execution_count": 9,
   "metadata": {},
   "outputs": [],
   "source": [
    "# CHAS is variable 3\n",
    "river_indexes = np.flatnonzero(X[:,3] == 1)\n",
    "river_mask = np.ones(X.shape[0], np.bool)\n",
    "river_mask[river_indexes] = 0"
   ]
  },
  {
   "cell_type": "code",
   "execution_count": 10,
   "metadata": {},
   "outputs": [],
   "source": [
    "# Create train/test split\n",
    "X_, X_test, y_, y_test = X[river_mask,], X[river_indexes,], y[river_mask], y[river_indexes]\n",
    "X_train, X_valid, y_train, y_valid = train_test_split(X_, y_, test_size=0.3)"
   ]
  },
  {
   "cell_type": "code",
   "execution_count": 23,
   "metadata": {},
   "outputs": [
    {
     "name": "stdout",
     "output_type": "stream",
     "text": [
      "Top train_score:  1.00\n",
      "Top valid_score:  0.98\n",
      "Top test_score:  0.83\n",
      "Top 10 results by train_score\n",
      "    1.  l: 0.90 / n: 143 / d: 4 | training R^2  1.00 #1  | valid R^2  0.95 #1238 | test R^2  0.66 #1383\n",
      "    2.  l: 0.90 / n: 147 / d: 4 | training R^2  1.00 #2  | valid R^2  0.95 #1239 | test R^2  0.66 #1384\n",
      "    3.  l: 0.90 / n: 150 / d: 4 | training R^2  1.00 #3  | valid R^2  0.95 #1240 | test R^2  0.66 #1385\n",
      "    4.  l: 0.90 / n: 143 / d: 4 | training R^2  1.00 #4  | valid R^2  0.95 #1241 | test R^2  0.66 #1386\n",
      "    5.  l: 0.90 / n: 175 / d: 4 | training R^2  1.00 #5  | valid R^2  0.95 #1242 | test R^2  0.66 #1387\n",
      "    6.  l: 0.90 / n: 147 / d: 4 | training R^2  1.00 #6  | valid R^2  0.95 #1243 | test R^2  0.66 #1388\n",
      "    7.  l: 0.81 / n: 143 / d: 5 | training R^2  1.00 #7  | valid R^2  0.96 #853 | test R^2  0.64 #1669\n",
      "    8.  l: 0.81 / n: 147 / d: 5 | training R^2  1.00 #8  | valid R^2  0.96 #854 | test R^2  0.64 #1670\n",
      "    9.  l: 0.81 / n: 141 / d: 5 | training R^2  1.00 #9  | valid R^2  0.96 #855 | test R^2  0.64 #1671\n",
      "   10.  l: 0.81 / n: 136 / d: 5 | training R^2  1.00 #10 | valid R^2  0.96 #856 | test R^2  0.64 #1672\n",
      "Top 10 results by valid_score\n",
      "    1.  l: 0.46 / n:  47 / d: 4 | training R^2  1.00 #726 | valid R^2  0.98 #1  | test R^2  0.77 #183\n",
      "    2.  l: 0.46 / n:  68 / d: 4 | training R^2  1.00 #606 | valid R^2  0.98 #2  | test R^2  0.76 #207\n",
      "    3.  l: 0.46 / n:  40 / d: 4 | training R^2  1.00 #820 | valid R^2  0.98 #3  | test R^2  0.77 #182\n",
      "    4.  l: 0.46 / n: 104 / d: 4 | training R^2  1.00 #468 | valid R^2  0.98 #4  | test R^2  0.76 #202\n",
      "    5.  l: 0.46 / n: 106 / d: 4 | training R^2  1.00 #457 | valid R^2  0.98 #5  | test R^2  0.76 #203\n",
      "    6.  l: 0.46 / n: 109 / d: 4 | training R^2  1.00 #447 | valid R^2  0.98 #6  | test R^2  0.76 #201\n",
      "    7.  l: 0.46 / n: 128 / d: 4 | training R^2  1.00 #367 | valid R^2  0.98 #7  | test R^2  0.76 #206\n",
      "    8.  l: 0.46 / n: 136 / d: 4 | training R^2  1.00 #344 | valid R^2  0.98 #8  | test R^2  0.76 #215\n",
      "    9.  l: 0.46 / n: 143 / d: 4 | training R^2  1.00 #322 | valid R^2  0.98 #9  | test R^2  0.76 #208\n",
      "   10.  l: 0.46 / n: 143 / d: 4 | training R^2  1.00 #323 | valid R^2  0.98 #10 | test R^2  0.76 #209\n",
      "Top 10 results by test_score\n",
      "    1.  l: 0.99 / n:  68 / d: 2 | training R^2  0.99 #1114 | valid R^2  0.96 #815 | test R^2  0.83 #1 \n",
      "    2.  l: 0.99 / n:  79 / d: 2 | training R^2  0.99 #1050 | valid R^2  0.96 #764 | test R^2  0.82 #2 \n",
      "    3.  l: 0.99 / n: 104 / d: 2 | training R^2  1.00 #954 | valid R^2  0.96 #871 | test R^2  0.82 #3 \n",
      "    4.  l: 0.99 / n: 175 / d: 2 | training R^2  1.00 #695 | valid R^2  0.96 #798 | test R^2  0.82 #4 \n",
      "    5.  l: 0.99 / n: 106 / d: 2 | training R^2  1.00 #946 | valid R^2  0.96 #843 | test R^2  0.82 #5 \n",
      "    6.  l: 0.99 / n: 109 / d: 2 | training R^2  1.00 #935 | valid R^2  0.96 #945 | test R^2  0.82 #6 \n",
      "    7.  l: 0.99 / n: 128 / d: 2 | training R^2  1.00 #849 | valid R^2  0.96 #851 | test R^2  0.82 #7 \n",
      "    8.  l: 0.99 / n: 135 / d: 2 | training R^2  1.00 #813 | valid R^2  0.96 #872 | test R^2  0.82 #8 \n",
      "    9.  l: 0.99 / n: 150 / d: 2 | training R^2  1.00 #754 | valid R^2  0.96 #812 | test R^2  0.82 #9 \n",
      "   10.  l: 0.99 / n: 136 / d: 2 | training R^2  1.00 #807 | valid R^2  0.96 #882 | test R^2  0.82 #10\n"
     ]
    }
   ],
   "source": [
    "results = []\n",
    "\n",
    "for l, n, d in itertools.product(\n",
    "    np.random.uniform(low=0.01, high=1.0, size=20), \n",
    "    np.random.randint(5, high=200, size=20), \n",
    "    [1, 2, 3, 4, 5]):\n",
    "    model = GradientBoostingRegressor(learning_rate=l, n_estimators=n, max_depth=d, random_state=1234)\n",
    "    # fit instance\n",
    "    fit = model.fit(X=X_train, y=y_train)\n",
    "    # R^2\n",
    "    train_score = r2_score(y_true = y_train, y_pred = model.predict(X=X_train))\n",
    "    valid_score = r2_score(y_true = y_valid, y_pred = model.predict(X=X_valid))\n",
    "    test_score = r2_score(y_true = y_test, y_pred = model.predict(X=X_test))\n",
    "    \n",
    "    results.append({\"l\":l, \"n\":n, \"d\":d, \"train_score\":train_score, \"valid_score\":valid_score, \"test_score\":test_score})\n",
    "    \n",
    "# rank results\n",
    "for score_type in [\"train_score\", \"valid_score\", \"test_score\"]:\n",
    "    results.sort(key=lambda x: x[score_type], reverse=True)\n",
    "    for i in range(len(results)):\n",
    "        results[i][score_type+\"_rank\"] = i+1\n",
    "    print(\"Top {:}: {:5.2f}\".format(score_type, results[0][score_type]))\n",
    "\n",
    "# print results\n",
    "for score_type in [\"train_score\", \"valid_score\", \"test_score\"]:\n",
    "    print(\"Top 10 results by {0}\".format(score_type))\n",
    "    results.sort(key=lambda x: x[score_type], reverse=True)\n",
    "    i=1\n",
    "    for row in results:\n",
    "        print(\"{:5}.  l: {:4.2f} / n: {:3.0f} / d: {:} | training R^2 {:5.2f} #{:<2} | valid R^2 {:5.2f} #{:<2} | test R^2 {:5.2f} #{:<2}\".format(\n",
    "            i, row[\"l\"], row[\"n\"], row[\"d\"], row[\"train_score\"], row[\"train_score_rank\"], row[\"valid_score\"], row[\"valid_score_rank\"], \n",
    "            row[\"test_score\"], row[\"test_score_rank\"]\n",
    "        ))\n",
    "        i+=1\n",
    "        if i > 10: break"
   ]
  },
  {
   "cell_type": "code",
   "execution_count": null,
   "metadata": {},
   "outputs": [],
   "source": []
  }
 ],
 "metadata": {
  "kernelspec": {
   "display_name": "Python 3",
   "language": "python",
   "name": "python3"
  },
  "language_info": {
   "codemirror_mode": {
    "name": "ipython",
    "version": 3
   },
   "file_extension": ".py",
   "mimetype": "text/x-python",
   "name": "python",
   "nbconvert_exporter": "python",
   "pygments_lexer": "ipython3",
   "version": "3.6.4"
  }
 },
 "nbformat": 4,
 "nbformat_minor": 2
}
