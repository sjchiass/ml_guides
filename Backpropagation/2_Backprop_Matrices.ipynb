{
 "cells": [
  {
   "cell_type": "markdown",
   "metadata": {},
   "source": [
    "# Backprop guide: matrices\n",
    "\n",
    "When I browse [\"/r/learnmachinelearning\"](https://www.reddit.com/r/learnmachinelearning/), I often see people asking \"what kind of math do I need for machine learning\"?\n",
    "\n",
    "There are relly two questions here:\n",
    "1. How much math do I need to understand all of machine learning?\n",
    "2. How much math do I need to feel comfortable?\n",
    "\n",
    "I want to try to help people feel comfortable with machine learning, and I believe this only requires a very basic level of math, enough to just see that there's nothing magical about neural networks.\n",
    "\n",
    "With all the hype that comes with machine learning, there is also a lot of intimidation.\n",
    "\n",
    "Once neural networks have stopped being intimidating, you can later learn the more advanced math with confidence. Confidence is everything: you can't learn if you don't believe in your ability to learn!\n",
    "\n",
    "# Further reading\n",
    "\n",
    "* Probably the best way to get started with matrix algebra is with [Andrew Ng's Coursera videos](https://www.youtube.com/watch?v=6AP4IvfKmwg&list=PLnnr1O8OWc6boN4WHeuisJWmeQHH9D_Vg).\n",
    "* [3Blue1Brown's linear algebra videos](https://www.youtube.com/playlist?list=PLZHQObOWTQDPD3MizzM2xVFitgF8hE_ab) These are bit more than you need to understand neural networks, but they're good for making math less intimidating."
   ]
  },
  {
   "cell_type": "code",
   "execution_count": 22,
   "metadata": {
    "collapsed": true
   },
   "outputs": [],
   "source": [
    "import numpy as np\n",
    "import matplotlib.pyplot as plt"
   ]
  },
  {
   "cell_type": "markdown",
   "metadata": {},
   "source": [
    "### Neurons working\n",
    "\n",
    "Neural network layers have a dual nature: complex neural processing on one hand, and non-linear modulation on the other.\n",
    "\n",
    "The neurons' linear nature helps them perform computations. They each get their own copy of the data to work on. This amazing trick is possible because of matrix multiplication (or dot product). Rows don't mix with other rows, neither columns with other columns.\n",
    "\n",
    "The non-linear modulation, using a sigmoid, lets the layer generate more varied data. When things are only linear, they're pretty predictable. With the help of the sigmoid, the layer can now swerve to 0 or 1 depending on the situation.\n",
    "\n",
    "In summary: the large amount of connections help with analyzing lots of data simultaneously and the non-linear activation functions help deal with a large variety of situations.\n",
    "\n",
    "#### Matrices are fun\n",
    "\n",
    "Matrices shouldn't be scary. They're just a very fun way of cramming a lot of operations into a small package.\n",
    "\n",
    "Here is a trivial but familiar example. You can see that each neuron (column) does its own thing. Change one of the weight's element to see the effect on the output. The five neurons' outputs are the five elements in the output array."
   ]
  },
  {
   "cell_type": "code",
   "execution_count": 23,
   "metadata": {},
   "outputs": [
    {
     "data": {
      "text/plain": [
       "array([[1, 2, 3, 4, 5]])"
      ]
     },
     "execution_count": 23,
     "metadata": {},
     "output_type": "execute_result"
    }
   ],
   "source": [
    "     x = np.array([[1, 2, 3, 4, 5]])\n",
    "\n",
    "weight = np.array([[1, 0, 0, 0, 0],\n",
    "                   [0, 1, 0, 0, 0],\n",
    "                   [0, 0, 1, 0, 0],\n",
    "                   [0, 0, 0, 1, 0],\n",
    "                   [0, 0, 0, 0, 1]])\n",
    "x.dot(weight)"
   ]
  },
  {
   "cell_type": "markdown",
   "metadata": {},
   "source": [
    "Matrices can be thought as mappings from one matrix to another. In the example below, each element of $[1, 2, 3, 4, 5]$ has 5 places in that $5 \\times 5$ weight matrix.\n",
    "\n",
    "Let's look at that first weight column:\n",
    "1. Take $-1 \\times 1$ giving $-1$\n",
    "2. $0$\n",
    "3. Take $2 \\times 3$ giving $6$\n",
    "4. $0$\n",
    "5. $0$\n",
    "\n",
    "Add this up and you get $5$, which is the first element in the answer below.\n",
    "\n",
    "Here is a nice way of visualizing these operations. You just need to line up your matrices and it's a lot clearer.\n",
    "\n",
    "![Matrix cells combined](Images/intro_Matrix_multiplication.png \"Matrix cells combined\")\n",
    "\n",
    "You can play around with the weight matrix to get different results. Change some values in $x$ and $weight$ to see how the output is affected. **Try it out!**"
   ]
  },
  {
   "cell_type": "code",
   "execution_count": 24,
   "metadata": {},
   "outputs": [
    {
     "data": {
      "text/plain": [
       "array([[5, 4, 3, 2, 1]])"
      ]
     },
     "execution_count": 24,
     "metadata": {},
     "output_type": "execute_result"
    }
   ],
   "source": [
    "      x = np.array([[1,  2,  3,  4,  5]])\n",
    "\n",
    "weight = np.array([[-1,  0,  0,  0,  0],  # 1 the\n",
    "                   [ 0,  2,  0,  0,  0],  # 2 numbers\n",
    "                   [ 2,  0,  1, -1,  0],  # 3 go down\n",
    "                   [ 0,  0,  0,  0, -1],  # 4 like\n",
    "                   [ 0,  0,  0,  1,  1]]) # 5 this\n",
    "x.dot(weight)\n",
    "\n",
    "# I could also just flip the identity matrix horizontally to do this"
   ]
  },
  {
   "cell_type": "markdown",
   "metadata": {},
   "source": [
    "#### What this means\n",
    "\n",
    "The matrix multiplication allows the neural network layer to perform some basic arithmetic. When the network learns itself a *good* weight matrix, it has a list of instructions on how to process incoming data *just right*.\n",
    "\n",
    "There is also a statistical angle to this. One column of the weight matrix is like the linear regression model\n",
    "\n",
    "$$w_1 x_1 + w_2 x_2 + w_3 x_3 + w_4 x_4 + w_5 x_5 \\Longrightarrow \\hat{y} = -1 \\cdot 1 + 2 \\cdot 3 = 5$$\n",
    "\n",
    "That linear model is a way of taking input data and transforming it, but it's only one of the columns of that weight matrix! A $5 \\times 5$ weight matrix can process 5 variables 5 times! In fact, the 5 columns of the weight matrix represent a layer's 5 neurons.\n",
    "\n",
    "A medium-size hidden layer can have 100 neurons. This means it has the equivalent of 100 linear regression models working on the data.\n",
    "\n",
    "However, linear regressions are the solution to everything, which is why we need...\n",
    "\n",
    "#### The non-linearity advantage\n",
    "\n",
    "The matrix multiplication may be impressive, but all it really does is come up with $p$ different versions of the same data. Non-linearity functions like the sigmoid give the network the ability to act \"logically\".\n",
    "\n",
    "When someone says that a person's thinking is \"too linear\" they mean that person's thinking is too straightforward. What we want for a neural network is not straightforward thinking: we want the network to change its mind when it has to, when the data is a certain way. What we want is some non-linearity.\n",
    "\n",
    "Let's bring up the sigmoid function again."
   ]
  },
  {
   "cell_type": "code",
   "execution_count": 25,
   "metadata": {},
   "outputs": [
    {
     "data": {
      "image/png": "[encoded data removed]",
      "text/plain": [
       "<matplotlib.figure.Figure at 0x7f5439258d30>"
      ]
     },
     "metadata": {},
     "output_type": "display_data"
    }
   ],
   "source": [
    "x=np.linspace(-10,10,100)\n",
    "plt.plot(x,1/(1 + np.exp(-x)))\n",
    "plt.title('Sigmoid activation function')\n",
    "plt.show()"
   ]
  },
  {
   "cell_type": "markdown",
   "metadata": {},
   "source": [
    "A function like this is useful for the network to be \"logical\".\n",
    "\n",
    "Here is an example with logic gates.\n",
    "\n",
    "![Truth tables](Images/intro_truth_table.png \"Truth tables\")\n",
    "\n",
    "* Adding: you can just sum\n",
    "* OR: you need the sigmoid to drive the output high as soon as input is present\n",
    "* NAND: you need the sigmoid to stay high until both inputs are present, then deactivate completely\n",
    "* XOR: you can't do this in one step, but you can combine OR and NAND together (using an AND gate)\n",
    "\n",
    "As you can see, the sigmoid can do the OR and the NAND individually. Three sigmoid neurons working together can do the XOR. With a linear function (adding), it's impossible to get to the XOR. Can't be done!"
   ]
  },
  {
   "cell_type": "code",
   "execution_count": 26,
   "metadata": {},
   "outputs": [
    {
     "name": "stdout",
     "output_type": "stream",
     "text": [
      "here is an OR gate\n",
      "input1  0, input2  0, output   0.0\n",
      "input1  0, input2  1, output   1.0\n",
      "input1  1, input2  0, output   1.0\n",
      "input1  1, input2  1, output   1.0\n",
      "here is a NAND gate\n",
      "input1  0, input2  0, output   1.0\n",
      "input1  0, input2  1, output   1.0\n",
      "input1  1, input2  0, output   1.0\n",
      "input1  1, input2  1, output   0.0\n"
     ]
    }
   ],
   "source": [
    "def sigmoid(x): return 1/(1 + np.exp(-x))\n",
    "\n",
    "def neuron(bias, weight1, weight2):\n",
    "    print(\"input1 {:2d}, input2 {:2d}, output {:5.1f}\".format(0, 0, sigmoid(weight1 * 0 + weight2 * 0 + bias)))\n",
    "    print(\"input1 {:2d}, input2 {:2d}, output {:5.1f}\".format(0, 1, sigmoid(weight1 * 0 + weight2 * 1 + bias)))\n",
    "    print(\"input1 {:2d}, input2 {:2d}, output {:5.1f}\".format(1, 0, sigmoid(weight1 * 1 + weight2 * 0 + bias)))\n",
    "    print(\"input1 {:2d}, input2 {:2d}, output {:5.1f}\".format(1, 1, sigmoid(weight1 * 1 + weight2 * 1 + bias)))\n",
    "\n",
    "print(\"here is an OR gate\")\n",
    "neuron(-5, 10, 10)\n",
    "\n",
    "print(\"here is a NAND gate\")\n",
    "neuron(15, -10, -10)"
   ]
  },
  {
   "cell_type": "markdown",
   "metadata": {},
   "source": [
    "This time, have a look at how the combination of three gates is able to replicate the XOR."
   ]
  },
  {
   "cell_type": "code",
   "execution_count": 27,
   "metadata": {},
   "outputs": [
    {
     "name": "stdout",
     "output_type": "stream",
     "text": [
      "here is the XOR gate\n",
      "input1  0, input2  0, output   0.0\n",
      "input1  1, input2  0, output   1.0\n",
      "input1  0, input2  1, output   1.0\n",
      "input1  1, input2  1, output   0.0\n"
     ]
    }
   ],
   "source": [
    "def sigmoid(x): return 1/(1 + np.exp(-x))\n",
    "\n",
    "def more_neurons(input1, input2, \n",
    "                 bias_a, weight_a1, weight_a2, \n",
    "                 bias_b, weight_b1, weight_b2, \n",
    "                 bias_c, weight_c1, weight_c2):\n",
    "    print(\"input1 {:2d}, input2 {:2d}, output {:5.1f}\".format(input1, input2, \n",
    "       sigmoid(\n",
    "           weight_c1 * sigmoid(weight_a1 * input1 + weight_a2 * input2 + bias_a) +\n",
    "           weight_c2 * sigmoid(weight_b1 * input1 + weight_b2 * input2 + bias_b) +\n",
    "           bias_c)\n",
    "       ))\n",
    "\n",
    "print(\"here is the XOR gate\")\n",
    "more_neurons(0, 0, -5, 10, 10, 15, -10, -10, -10, 5, 5)\n",
    "more_neurons(1, 0, -5, 10, 10, 15, -10, -10, -10, 10, 10)\n",
    "more_neurons(0, 1, -5, 10, 10, 15, -10, -10, -10, 10, 10)\n",
    "more_neurons(1, 1, -5, 10, 10, 15, -10, -10, -10, 5, 5)"
   ]
  },
  {
   "cell_type": "markdown",
   "metadata": {},
   "source": [
    "Note: Sorry for the messy code. Using matrices makes things a bit cleaner.\n",
    "\n",
    "#### The power of mixing non-linearities\n",
    "\n",
    "The feed-forward is a mixing of data over many layers of neurons. Each layer expands data into multiple copies and its neurons compress it back into a few outputs. In the diagram far above you saw 3 units of inputs expanded into 6 synapse signals and then collapsed into 2 output signals. The power of the neural network comes from the fact that the next layer *then copies* these 2 output signals to each of its own neurons, so everything affects everything.\n",
    "\n",
    "If three neurons in two layers can replicate the XOR logic gate, many more neurons in many more layers can take more complicated decisions.\n",
    "\n",
    "![Colorful](Images/intro_Colorful.png \"Colorful\")\n",
    "\n",
    "As you can see in the example above, data expands and contracts.\n",
    "\n",
    "Below is another representation. You can see that the synapses/connections allow the network to perform a lot of operations on the data.\n",
    "\n",
    "![Colorful](Images/intro_Colorful_Sizes.png \"Colorful\")\n",
    "\n",
    "Or in other words, feed-forward is like a decision reached by successive committees. The neurons in a layer form a committee that looks at data together, performs analysis, and then summarizes its findings into a small report. Higher committees then analyze this report at a higher level, and so on. The final output layer makes a decision based on the accumulated wisdom of the executive summary it receives: it outputs a single value between 0 and 1.\n",
    "\n",
    "In the committee example, the office workers use\n",
    "\n",
    "* weights to increase, decrease or invert the importance of data\n",
    "* biases to make their voices louder or weaker\n",
    "* activation functions to simply their reports into a range [0,1]\n",
    "\n",
    "The expansion and contraction of information is repeated multiple times in the neural network.\n",
    "\n",
    "* The OR gate translated two binary signals into a 0 or 1\n",
    "* The NAND gate translated two binary signals into a 0 or 1\n",
    "* The AND gate looked at the OR and NAND gates' work and returned a 0 or a 1\n",
    "* XOR!\n",
    "\n",
    "All this mixing allows the neural network to do useful things. A feed forward network is not *artificial intelligence* but it is still something artificially created that is pretty useful."
   ]
  },
  {
   "cell_type": "markdown",
   "metadata": {},
   "source": [
    "### Extra: hiddens layers feed-forwarding\n",
    "\n",
    "With all that in mind, here is a basic feed-forward network in its full matrix glory:\n",
    "\n",
    "1. $z_1 = X W_1 + B_1$\n",
    "2. $a_1 = \\sigma(z_1)$\n",
    "3. $z_2 = a_1 W_2 + B_2$\n",
    "4. $a_2 = \\sigma(z_2)$\n",
    "5. $z_{output} = a_2 W_{output} + B_{output}$\n",
    "6. $a_{output} = \\sigma(z_{output})$\n",
    "\n",
    "By way of comparison, here is Andrew Ng's notation.\n",
    "\n",
    "1. $a^{(1)} = x$\n",
    "2. $z^{(2)} = \\theta^{(1)} a^{(1)})$\n",
    "3. $a^{(2)} = g(z^{(2)})$\n",
    "2. $z^{(3)} = \\theta^{(2)} a^{(2)})$\n",
    "3. $a^{(3)} = g(z^{(3)})$\n",
    "2. $z^{(4)} = \\theta^{(3)} a^{(3)})$\n",
    "6. $a_{(4)} = h_{\\theta}(x)=g(z^{(4)})$\n",
    "\n",
    "Everyone has their own style.\n",
    "\n",
    "Let's generate some data. Thanks to the properties of matrix multiplication, I can have 4 rows of input data and these will be processed fully separately, yielding 4 rows of output data. This is how you can process multiple rows of data at once, speeding things up considerably!"
   ]
  },
  {
   "cell_type": "code",
   "execution_count": 28,
   "metadata": {
    "collapsed": true
   },
   "outputs": [],
   "source": [
    "x = np.random.random((4,5)) # Four records of 5 variables\n",
    "b1 = np.random.random((1,3)) # Bias: 1 x layer_1_size\n",
    "w1 = np.random.random((5,3)) # Weight: input_vars x layer_1_size\n",
    "b2 = np.random.random((1,2)) # Bias: 1 x layer_2_size\n",
    "w2 = np.random.random((3,2)) # Weight: layer_1_size x layer_2_size\n",
    "b_out = np.random.random((1,1)) # Bias: 1 x output_size\n",
    "w_out = np.random.random((2,1)) # Weight: layer_2_size x output_size"
   ]
  },
  {
   "cell_type": "markdown",
   "metadata": {},
   "source": [
    "Here are the activations of all the layers participating in the feed forward."
   ]
  },
  {
   "cell_type": "code",
   "execution_count": 29,
   "metadata": {},
   "outputs": [
    {
     "name": "stdout",
     "output_type": "stream",
     "text": [
      "[[ 0.83480346  0.89431969  0.74474755]\n",
      " [ 0.92122836  0.95077352  0.85754254]\n",
      " [ 0.95632763  0.95462462  0.87675394]\n",
      " [ 0.90937448  0.88471319  0.79687147]]\n"
     ]
    }
   ],
   "source": [
    "def sigmoid(z):\n",
    "    return 1/(1+np.exp(-z))\n",
    "\n",
    "# First hidden layer, three neurons each give an output\n",
    "z1 = x.dot(w1) + b1\n",
    "a1 = sigmoid(z1)\n",
    "print(a1)"
   ]
  },
  {
   "cell_type": "code",
   "execution_count": 30,
   "metadata": {},
   "outputs": [
    {
     "name": "stdout",
     "output_type": "stream",
     "text": [
      "[[ 0.87012514  0.86695005]\n",
      " [ 0.88290643  0.88010459]\n",
      " [ 0.88458368  0.88404378]\n",
      " [ 0.87342185  0.87610352]]\n"
     ]
    }
   ],
   "source": [
    "# Second hidden layer, two neurons each give an ouput\n",
    "z2 = b2 + a1.dot(w2)\n",
    "a2 = sigmoid(z2)\n",
    "print(a2)"
   ]
  },
  {
   "cell_type": "code",
   "execution_count": 31,
   "metadata": {},
   "outputs": [
    {
     "name": "stdout",
     "output_type": "stream",
     "text": [
      "[[ 0.76292978]\n",
      " [ 0.76503123]\n",
      " [ 0.76560533]\n",
      " [ 0.76425578]]\n"
     ]
    }
   ],
   "source": [
    "# Output layer: one output for each input record\n",
    "z_out = b_out + a2.dot(w_out)\n",
    "a_out = sigmoid(z_out)\n",
    "print(a_out)"
   ]
  }
 ],
 "metadata": {
  "kernelspec": {
   "display_name": "Python 3",
   "language": "python",
   "name": "python3"
  },
  "language_info": {
   "codemirror_mode": {
    "name": "ipython",
    "version": 3
   },
   "file_extension": ".py",
   "mimetype": "text/x-python",
   "name": "python",
   "nbconvert_exporter": "python",
   "pygments_lexer": "ipython3",
   "version": "3.6.2"
  }
 },
 "nbformat": 4,
 "nbformat_minor": 2
}
