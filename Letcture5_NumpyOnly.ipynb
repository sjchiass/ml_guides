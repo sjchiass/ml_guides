{
 "cells": [
  {
   "cell_type": "markdown",
   "metadata": {},
   "source": [
    "# Week 5, Lecture 9, Numpy code only\n",
    "\n",
    "This code appears in the main notebook, but here it is on its own."
   ]
  },
  {
   "cell_type": "code",
   "execution_count": 1,
   "metadata": {
    "collapsed": true
   },
   "outputs": [],
   "source": [
    "import numpy as np\n",
    "import matplotlib.pyplot as plt # For plotting things\n",
    "from sklearn.datasets import load_digits # Data to be used"
   ]
  },
  {
   "cell_type": "markdown",
   "metadata": {},
   "source": [
    "Below is the main part of the code. It will train itself to recognize the digits. The line with `MyNeuralNetwork = NeuralNetwork(64, 64, 10)` is the one you want to modify to change the input, hidden, and output sizes respectively."
   ]
  },
  {
   "cell_type": "code",
   "execution_count": 2,
   "metadata": {},
   "outputs": [
    {
     "name": "stdout",
     "output_type": "stream",
     "text": [
      "epoch   1, batch  50, lr 0.10000, loss   2.23\n",
      "epoch   1, batch 100, lr 0.10000, loss   1.93\n",
      "epoch   1, batch 150, lr 0.10000, loss   1.60\n",
      "accuracy  80.97%\n",
      "epoch   2, batch  50, lr 0.07500, loss   1.30\n",
      "epoch   2, batch 100, lr 0.07500, loss   1.09\n",
      "epoch   2, batch 150, lr 0.07500, loss   1.06\n",
      "accuracy  87.03%\n",
      "epoch   3, batch  50, lr 0.05625, loss   1.00\n",
      "epoch   3, batch 100, lr 0.05625, loss   0.85\n",
      "epoch   3, batch 150, lr 0.05625, loss   0.86\n",
      "accuracy  89.87%\n",
      "epoch   4, batch  50, lr 0.04219, loss   0.90\n",
      "epoch   4, batch 100, lr 0.04219, loss   0.73\n",
      "epoch   4, batch 150, lr 0.04219, loss   0.76\n",
      "accuracy  91.71%\n",
      "epoch   5, batch  50, lr 0.03164, loss   0.85\n",
      "epoch   5, batch 100, lr 0.03164, loss   0.67\n",
      "epoch   5, batch 150, lr 0.03164, loss   0.71\n",
      "accuracy  92.49%\n",
      "epoch   6, batch  50, lr 0.02373, loss   0.83\n",
      "epoch   6, batch 100, lr 0.02373, loss   0.64\n",
      "epoch   6, batch 150, lr 0.02373, loss   0.68\n",
      "accuracy  93.10%\n",
      "epoch   7, batch  50, lr 0.01780, loss   0.82\n",
      "epoch   7, batch 100, lr 0.01780, loss   0.61\n",
      "epoch   7, batch 150, lr 0.01780, loss   0.66\n",
      "accuracy  93.88%\n",
      "epoch   8, batch  50, lr 0.01335, loss   0.81\n",
      "epoch   8, batch 100, lr 0.01335, loss   0.60\n",
      "epoch   8, batch 150, lr 0.01335, loss   0.65\n",
      "accuracy  94.27%\n",
      "epoch   9, batch  50, lr 0.01001, loss   0.81\n",
      "epoch   9, batch 100, lr 0.01001, loss   0.58\n",
      "epoch   9, batch 150, lr 0.01001, loss   0.64\n",
      "accuracy  94.44%\n",
      "epoch  10, batch  50, lr 0.00751, loss   0.81\n",
      "epoch  10, batch 100, lr 0.00751, loss   0.57\n",
      "epoch  10, batch 150, lr 0.00751, loss   0.64\n",
      "accuracy  94.44%\n"
     ]
    }
   ],
   "source": [
    "# This class stores the NN's parameters\n",
    "class NeuralNetwork:\n",
    "    # This is the constructor: it's called as the object is created\n",
    "    def __init__(self, input_size, hidden_size, output_size):\n",
    "        self.b1 = np.random.normal(size=(1,hidden_size))\n",
    "        self.w1 = np.random.normal(size=(input_size,hidden_size))\n",
    "        self.b2 = np.random.normal(size=(1,hidden_size))\n",
    "        self.w2 = np.random.normal(size=(hidden_size,hidden_size))\n",
    "        self.b_out = np.random.normal(size=(1,output_size))\n",
    "        self.w_out = np.random.normal(size=(hidden_size,output_size))\n",
    "\n",
    "def sigmoid(z):\n",
    "    return 1.0/(1.0+np.exp(-z))\n",
    "\n",
    "# This is the negative log-likelihood cost\n",
    "def NLLcost(a_out, y):\n",
    "    return -np.mean(np.sum(y*np.log(a_out) + (1.0-y)*np.log(1.0-a_out), 1))\n",
    "\n",
    "# Calculating accuracy\n",
    "def accuracy(a_out, labels):\n",
    "    # The following will return True if the maximum index of the output activation\n",
    "    # is the same as the label\n",
    "    tests = a_out.argmax(axis=1) == labels\n",
    "    return(tests.sum() / a_out.shape[0])\n",
    "\n",
    "# Feed forward\n",
    "def feedforward(x, NN):\n",
    "    # as you can see, feed forward is short and sweet\n",
    "    z1 = x @ NN.w1 + NN.b1\n",
    "    a1 = sigmoid(z1)\n",
    "    z2 = a1 @ NN.w2 + NN.b2\n",
    "    a2 = sigmoid(z2)\n",
    "    z_out = a2 @ NN.w_out + NN.b_out\n",
    "    a_out = sigmoid(z_out)\n",
    "    return a1, a2, a_out\n",
    "\n",
    "# Back propagation\n",
    "# You can see all of the steps written out a few sections above\n",
    "def backprop(x, y, NN, a1, a2, a_out):\n",
    "    # prepare a row vector of ones of width equal to the batch size\n",
    "    ones = np.ones((1, x.shape[0])) # this ensures the bias gradient is the right shape\n",
    "    # output parameters\n",
    "    delta = (a_out - y) # the error\n",
    "    w_out_grad = a2.transpose() @ delta # gradient for w_out\n",
    "    b_out_grad = ones @ delta # gradient for b_out\n",
    "    delta_out = delta @ NN.w_out.transpose() # the delta passed on to the next layer\n",
    "    # layer 2 parameters\n",
    "    prime2 = a2 * (1.0 - a2) # the derivative of the sigmoid\n",
    "    w2_grad = a1.transpose() @ (prime2 * delta_out) # w2 gradient\n",
    "    b2_grad = ones @ (prime2 * delta_out) # b2 gradient\n",
    "    delta2 = delta_out * prime2 @ NN.w2.transpose() # layer 2's delta\n",
    "    # layer 1 parameters\n",
    "    prime1 = a1 * (1.0 - a1) # derivative of the sigmoid\n",
    "    w1_grad = x.transpose() @ (prime1 * delta2) # w1 gradient\n",
    "    b1_grad = ones @ (prime1 * delta2) # b1 gradient\n",
    "    return w_out_grad, b_out_grad, w2_grad, b2_grad, w1_grad, b1_grad\n",
    "\n",
    "# Updates the parameters\n",
    "def step(NN, w2_grad, b2_grad, w1_grad, b1_grad, w_out_grad, b_out_grad, lr, batch_size):\n",
    "    # Note\n",
    "    NN.w1 = NN.w1 - (lr / batch_size) * w1_grad\n",
    "    NN.b1 = NN.b1 - (lr / batch_size) * b1_grad\n",
    "    NN.w2 = NN.w2 - (lr / batch_size) * w2_grad\n",
    "    NN.b2 = NN.b2 - (lr / batch_size) * b2_grad\n",
    "    NN.w_out = NN.w_out - (lr / batch_size) * w_out_grad\n",
    "    NN.b_out = NN.b_out - (lr / batch_size) * b_out_grad\n",
    "\n",
    "# Set our learning rate\n",
    "lr = 0.1\n",
    "# Initialize a neural network    \n",
    "MyNeuralNetwork = NeuralNetwork(64, 64, 10)\n",
    "# Load the data, this time with labels, index 0 is the input, 1 is the output\n",
    "digits = load_digits(n_class=10, return_X_y=True)\n",
    "# A sloppy data rescale (16 is the max pixel intensity)\n",
    "x = digits[0]/16\n",
    "# Create one-hot vectors for the outputs\n",
    "# I am lucky here that the digits are 0, 1, 2, 3, 4, 5, 6, 7, 8, 9\n",
    "# Otherwise you would need a label dictionary to concert indices back to their labels\n",
    "y = np.eye(10)[digits[1]]\n",
    "# We'll do batches of 10... we need to find out the indexes to use\n",
    "batch_size = 10\n",
    "batch_pos = list(range(0, digits[0].data.shape[0] - 1, batch_size))\n",
    "batch_amount = len(batch_pos)\n",
    "epochs = 10\n",
    "for ep in range(1, epochs+1):\n",
    "    batch_num = 1\n",
    "    for b in batch_pos:\n",
    "        batch_x = x[b:b+batch_size]\n",
    "        batch_y = y[b:b+batch_size]\n",
    "        a1, a2, a_out = feedforward(batch_x, MyNeuralNetwork)\n",
    "        cost = NLLcost(a_out, batch_y)\n",
    "        w_out_grad, b_out_grad, w2_grad, b2_grad, w1_grad, b1_grad \\\n",
    "            = backprop(batch_x, batch_y, MyNeuralNetwork, a1, a2, a_out)\n",
    "        step(MyNeuralNetwork, w2_grad, b2_grad, w1_grad, b1_grad, w_out_grad, b_out_grad, lr, batch_size)\n",
    "        if batch_num % 50 == 0:\n",
    "            print(\"epoch {:3d}, batch {:3d}, lr {:7.5f}, loss {:6.2f}\".format(ep, batch_num, lr, cost))\n",
    "        batch_num += 1\n",
    "    lr *= 0.75\n",
    "    a1, a2, a_out = feedforward(x, MyNeuralNetwork)\n",
    "    print(\"accuracy {:6.2f}%\".format(100 * accuracy(a_out, digits[1])))"
   ]
  },
  {
   "cell_type": "markdown",
   "metadata": {},
   "source": [
    "Here's some code for testing results."
   ]
  },
  {
   "cell_type": "code",
   "execution_count": 3,
   "metadata": {},
   "outputs": [
    {
     "data": {
      "text/plain": [
       "<matplotlib.figure.Figure at 0x7f799c5a5ac8>"
      ]
     },
     "metadata": {},
     "output_type": "display_data"
    },
    {
     "data": {
      "image/png": "[encoded data removed]",
      "text/plain": [
       "<matplotlib.figure.Figure at 0x7f79b4205eb8>"
      ]
     },
     "metadata": {},
     "output_type": "display_data"
    },
    {
     "name": "stdout",
     "output_type": "stream",
     "text": [
      "I predict  6,  84.21% certain\n"
     ]
    }
   ],
   "source": [
    "def predict(x, NN):\n",
    "    pick = np.random.randint(1, x.shape[0])\n",
    "    image = np.reshape(x[pick,], (8,8))\n",
    "    plt.gray()\n",
    "    plt.matshow(image) \n",
    "    plt.show() \n",
    "    _, _, a_out = feedforward(x[pick,], NN)\n",
    "    # The certainty here is the value of the highest output activation\n",
    "    print(\"I predict {:2d}, {:6.2f}% certain\".format(np.asscalar(a_out.argmax(axis=1)), 100.0*np.max(a_out)))\n",
    "\n",
    "predict(x, MyNeuralNetwork)"
   ]
  }
 ],
 "metadata": {
  "kernelspec": {
   "display_name": "Python 3",
   "language": "python",
   "name": "python3"
  },
  "language_info": {
   "codemirror_mode": {
    "name": "ipython",
    "version": 3
   },
   "file_extension": ".py",
   "mimetype": "text/x-python",
   "name": "python",
   "nbconvert_exporter": "python",
   "pygments_lexer": "ipython3",
   "version": "3.6.2"
  }
 },
 "nbformat": 4,
 "nbformat_minor": 2
}
